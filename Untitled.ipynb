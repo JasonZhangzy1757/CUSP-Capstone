{
 "cells": [
  {
   "cell_type": "code",
   "execution_count": 33,
   "metadata": {
    "scrolled": true
   },
   "outputs": [],
   "source": [
    "from autocensus import Query"
   ]
  },
  {
   "cell_type": "code",
   "execution_count": 41,
   "metadata": {
    "scrolled": true
   },
   "outputs": [
    {
     "name": "stdout",
     "output_type": "stream",
     "text": [
      "Retrieving variables...\n",
      "Retrieving ACS tables...\n",
      "Retrieving shapefiles...\n",
      "Merging ACS tables and variables...\n",
      "Merging annotations...\n",
      "Merging shapefiles...\n",
      "Finalizing data...\n"
     ]
    }
   ],
   "source": [
    "# Configure query\n",
    "query = Query(\n",
    "    estimate=5,\n",
    "    years=[2014, 2015, 2016, 2017],\n",
    "    variables=['B00001_001E'],\n",
    "    for_geo='tract:*',\n",
    "    in_geo=['state:09', 'county:005'],\n",
    "    # Fill in the following with your actual Census API key\n",
    "    census_api_key='0995bcf2c5a4aa42899cf705840809959c68cf75'\n",
    ")\n",
    "\n",
    "# Run query and collect output in dataframe\n",
    "dataframe = query.run()"
   ]
  },
  {
   "cell_type": "code",
   "execution_count": 40,
   "metadata": {},
   "outputs": [
    {
     "name": "stdout",
     "output_type": "stream",
     "text": [
      "Retrieving variables...\n",
      "Retrieving ACS tables...\n",
      "Retrieving shapefiles...\n",
      "Merging ACS tables and variables...\n",
      "Merging annotations...\n",
      "Merging shapefiles...\n",
      "Finalizing data...\n"
     ]
    }
   ],
   "source": [
    "# Configure query\n",
    "query = Query(\n",
    "    estimate=5,\n",
    "    years=[2014, 2015, 2016, 2017],\n",
    "    variables=['B00002_001E'],\n",
    "    for_geo='tract:*',\n",
    "    in_geo=['state:09', 'county:005'],\n",
    "    # Fill in the following with your actual Census API key\n",
    "    census_api_key='0995bcf2c5a4aa42899cf705840809959c68cf75'\n",
    ")\n",
    "\n",
    "# Run query and collect output in dataframe\n",
    "dataframe2 = query.run()"
   ]
  },
  {
   "cell_type": "code",
   "execution_count": 43,
   "metadata": {
    "scrolled": true
   },
   "outputs": [
    {
     "data": {
      "text/html": [
       "<div>\n",
       "<style scoped>\n",
       "    .dataframe tbody tr th:only-of-type {\n",
       "        vertical-align: middle;\n",
       "    }\n",
       "\n",
       "    .dataframe tbody tr th {\n",
       "        vertical-align: top;\n",
       "    }\n",
       "\n",
       "    .dataframe thead th {\n",
       "        text-align: right;\n",
       "    }\n",
       "</style>\n",
       "<table border=\"1\" class=\"dataframe\">\n",
       "  <thead>\n",
       "    <tr style=\"text-align: right;\">\n",
       "      <th></th>\n",
       "      <th>name</th>\n",
       "      <th>geo_id</th>\n",
       "      <th>geo_type</th>\n",
       "      <th>year</th>\n",
       "      <th>date</th>\n",
       "      <th>variable_code</th>\n",
       "      <th>variable_label</th>\n",
       "      <th>variable_concept</th>\n",
       "      <th>annotation</th>\n",
       "      <th>value</th>\n",
       "      <th>percent_change</th>\n",
       "      <th>difference</th>\n",
       "      <th>centroid</th>\n",
       "      <th>internal_point</th>\n",
       "      <th>geometry</th>\n",
       "    </tr>\n",
       "  </thead>\n",
       "  <tbody>\n",
       "    <tr>\n",
       "      <th>0</th>\n",
       "      <td>Census Tract 2501, Litchfield County, Connecticut</td>\n",
       "      <td>1400000US09005250100</td>\n",
       "      <td>tract</td>\n",
       "      <td>2014</td>\n",
       "      <td>2014-12-31</td>\n",
       "      <td>B00002_001E</td>\n",
       "      <td>Total</td>\n",
       "      <td>Unweighted Sample Housing Units</td>\n",
       "      <td>NaN</td>\n",
       "      <td>225.0</td>\n",
       "      <td>NaN</td>\n",
       "      <td>NaN</td>\n",
       "      <td>POINT (-73.36014897889248 41.52086142577326)</td>\n",
       "      <td>POINT (-73.36194696137824 41.5158335)</td>\n",
       "      <td>(POLYGON ((-73.40473799999999 41.53702, -73.40...</td>\n",
       "    </tr>\n",
       "    <tr>\n",
       "      <th>1</th>\n",
       "      <td>Census Tract 2501, Litchfield County, Connecticut</td>\n",
       "      <td>1400000US09005250100</td>\n",
       "      <td>tract</td>\n",
       "      <td>2015</td>\n",
       "      <td>2015-12-31</td>\n",
       "      <td>B00002_001E</td>\n",
       "      <td>Total</td>\n",
       "      <td>Unweighted Sample Housing Units</td>\n",
       "      <td>NaN</td>\n",
       "      <td>222.0</td>\n",
       "      <td>-0.013333</td>\n",
       "      <td>-3.0</td>\n",
       "      <td>POINT (-73.36014879909517 41.52086129452177)</td>\n",
       "      <td>POINT (-73.36194696137824 41.5158335)</td>\n",
       "      <td>(POLYGON ((-73.40473799999999 41.53702, -73.40...</td>\n",
       "    </tr>\n",
       "    <tr>\n",
       "      <th>2</th>\n",
       "      <td>Census Tract 2501, Litchfield County, Connecticut</td>\n",
       "      <td>1400000US09005250100</td>\n",
       "      <td>tract</td>\n",
       "      <td>2016</td>\n",
       "      <td>2016-12-31</td>\n",
       "      <td>B00002_001E</td>\n",
       "      <td>Total</td>\n",
       "      <td>Unweighted Sample Housing Units</td>\n",
       "      <td>NaN</td>\n",
       "      <td>224.0</td>\n",
       "      <td>0.009009</td>\n",
       "      <td>2.0</td>\n",
       "      <td>POINT (-73.36014879909517 41.52086129452177)</td>\n",
       "      <td>POINT (-73.36194696137824 41.5158335)</td>\n",
       "      <td>(POLYGON ((-73.40473799999999 41.53702, -73.40...</td>\n",
       "    </tr>\n",
       "    <tr>\n",
       "      <th>3</th>\n",
       "      <td>Census Tract 2501, Litchfield County, Connecticut</td>\n",
       "      <td>1400000US09005250100</td>\n",
       "      <td>tract</td>\n",
       "      <td>2017</td>\n",
       "      <td>2017-12-31</td>\n",
       "      <td>B00002_001E</td>\n",
       "      <td>Total</td>\n",
       "      <td>Unweighted Sample Housing Units</td>\n",
       "      <td>NaN</td>\n",
       "      <td>220.0</td>\n",
       "      <td>-0.017857</td>\n",
       "      <td>-4.0</td>\n",
       "      <td>POINT (-73.36014872509649 41.52086117449242)</td>\n",
       "      <td>POINT (-73.36194696137824 41.5158335)</td>\n",
       "      <td>(POLYGON ((-73.40473799999999 41.53702, -73.40...</td>\n",
       "    </tr>\n",
       "    <tr>\n",
       "      <th>4</th>\n",
       "      <td>Census Tract 2531, Litchfield County, Connecticut</td>\n",
       "      <td>1400000US09005253100</td>\n",
       "      <td>tract</td>\n",
       "      <td>2014</td>\n",
       "      <td>2014-12-31</td>\n",
       "      <td>B00002_001E</td>\n",
       "      <td>Total</td>\n",
       "      <td>Unweighted Sample Housing Units</td>\n",
       "      <td>NaN</td>\n",
       "      <td>128.0</td>\n",
       "      <td>NaN</td>\n",
       "      <td>NaN</td>\n",
       "      <td>POINT (-73.4084633860346 41.59733466354592)</td>\n",
       "      <td>POINT (-73.4087229757659 41.602294)</td>\n",
       "      <td>(POLYGON ((-73.423655 41.587736, -73.421336999...</td>\n",
       "    </tr>\n",
       "  </tbody>\n",
       "</table>\n",
       "</div>"
      ],
      "text/plain": [
       "                                                name                geo_id  \\\n",
       "0  Census Tract 2501, Litchfield County, Connecticut  1400000US09005250100   \n",
       "1  Census Tract 2501, Litchfield County, Connecticut  1400000US09005250100   \n",
       "2  Census Tract 2501, Litchfield County, Connecticut  1400000US09005250100   \n",
       "3  Census Tract 2501, Litchfield County, Connecticut  1400000US09005250100   \n",
       "4  Census Tract 2531, Litchfield County, Connecticut  1400000US09005253100   \n",
       "\n",
       "  geo_type  year       date variable_code variable_label  \\\n",
       "0    tract  2014 2014-12-31   B00002_001E          Total   \n",
       "1    tract  2015 2015-12-31   B00002_001E          Total   \n",
       "2    tract  2016 2016-12-31   B00002_001E          Total   \n",
       "3    tract  2017 2017-12-31   B00002_001E          Total   \n",
       "4    tract  2014 2014-12-31   B00002_001E          Total   \n",
       "\n",
       "                  variable_concept annotation  value  percent_change  \\\n",
       "0  Unweighted Sample Housing Units        NaN  225.0             NaN   \n",
       "1  Unweighted Sample Housing Units        NaN  222.0       -0.013333   \n",
       "2  Unweighted Sample Housing Units        NaN  224.0        0.009009   \n",
       "3  Unweighted Sample Housing Units        NaN  220.0       -0.017857   \n",
       "4  Unweighted Sample Housing Units        NaN  128.0             NaN   \n",
       "\n",
       "   difference                                      centroid  \\\n",
       "0         NaN  POINT (-73.36014897889248 41.52086142577326)   \n",
       "1        -3.0  POINT (-73.36014879909517 41.52086129452177)   \n",
       "2         2.0  POINT (-73.36014879909517 41.52086129452177)   \n",
       "3        -4.0  POINT (-73.36014872509649 41.52086117449242)   \n",
       "4         NaN   POINT (-73.4084633860346 41.59733466354592)   \n",
       "\n",
       "                          internal_point  \\\n",
       "0  POINT (-73.36194696137824 41.5158335)   \n",
       "1  POINT (-73.36194696137824 41.5158335)   \n",
       "2  POINT (-73.36194696137824 41.5158335)   \n",
       "3  POINT (-73.36194696137824 41.5158335)   \n",
       "4    POINT (-73.4087229757659 41.602294)   \n",
       "\n",
       "                                            geometry  \n",
       "0  (POLYGON ((-73.40473799999999 41.53702, -73.40...  \n",
       "1  (POLYGON ((-73.40473799999999 41.53702, -73.40...  \n",
       "2  (POLYGON ((-73.40473799999999 41.53702, -73.40...  \n",
       "3  (POLYGON ((-73.40473799999999 41.53702, -73.40...  \n",
       "4  (POLYGON ((-73.423655 41.587736, -73.421336999...  "
      ]
     },
     "execution_count": 43,
     "metadata": {},
     "output_type": "execute_result"
    }
   ],
   "source": [
    "dataframe2.head()"
   ]
  },
  {
   "cell_type": "code",
   "execution_count": 46,
   "metadata": {},
   "outputs": [],
   "source": [
    "from linearmodels.panel import PanelOLS\n",
    "from linearmodels import RandomEffects"
   ]
  },
  {
   "cell_type": "code",
   "execution_count": 47,
   "metadata": {},
   "outputs": [],
   "source": [
    "import pandas as pd"
   ]
  },
  {
   "cell_type": "code",
   "execution_count": 54,
   "metadata": {},
   "outputs": [],
   "source": [
    "dataframe['year'] = pd.to_datetime(dataframe['year'], format='%Y')"
   ]
  },
  {
   "cell_type": "code",
   "execution_count": 63,
   "metadata": {},
   "outputs": [],
   "source": [
    "year = pd.Categorical('year')"
   ]
  },
  {
   "cell_type": "code",
   "execution_count": 64,
   "metadata": {
    "scrolled": true
   },
   "outputs": [
    {
     "name": "stdout",
     "output_type": "stream",
     "text": [
      "[year]\n",
      "Categories (1, object): [year]\n"
     ]
    }
   ],
   "source": [
    "print(year)"
   ]
  },
  {
   "cell_type": "code",
   "execution_count": 57,
   "metadata": {
    "scrolled": true
   },
   "outputs": [
    {
     "ename": "ValueError",
     "evalue": "Series can only be used with a 2-level MultiIndex",
     "output_type": "error",
     "traceback": [
      "\u001b[0;31m---------------------------------------------------------------------------\u001b[0m",
      "\u001b[0;31mValueError\u001b[0m                                Traceback (most recent call last)",
      "\u001b[0;32m<ipython-input-57-96d2d84bf39f>\u001b[0m in \u001b[0;36m<module>\u001b[0;34m\u001b[0m\n\u001b[0;32m----> 1\u001b[0;31m \u001b[0mmod\u001b[0m \u001b[0;34m=\u001b[0m \u001b[0mPanelOLS\u001b[0m\u001b[0;34m(\u001b[0m\u001b[0mdataframe\u001b[0m\u001b[0;34m.\u001b[0m\u001b[0mvalue\u001b[0m\u001b[0;34m,\u001b[0m \u001b[0mdataframe2\u001b[0m\u001b[0;34m.\u001b[0m\u001b[0mvalue\u001b[0m\u001b[0;34m,\u001b[0m \u001b[0mentity_effects\u001b[0m\u001b[0;34m=\u001b[0m\u001b[0;32mTrue\u001b[0m\u001b[0;34m)\u001b[0m\u001b[0;34m\u001b[0m\u001b[0;34m\u001b[0m\u001b[0m\n\u001b[0m\u001b[1;32m      2\u001b[0m \u001b[0mres\u001b[0m \u001b[0;34m=\u001b[0m \u001b[0mmod\u001b[0m\u001b[0;34m.\u001b[0m\u001b[0mfit\u001b[0m\u001b[0;34m(\u001b[0m\u001b[0mcov_type\u001b[0m\u001b[0;34m=\u001b[0m\u001b[0;34m'clustered'\u001b[0m\u001b[0;34m,\u001b[0m \u001b[0mcluster_entity\u001b[0m\u001b[0;34m=\u001b[0m\u001b[0;32mTrue\u001b[0m\u001b[0;34m)\u001b[0m\u001b[0;34m\u001b[0m\u001b[0;34m\u001b[0m\u001b[0m\n\u001b[1;32m      3\u001b[0m \u001b[0mprint\u001b[0m\u001b[0;34m(\u001b[0m\u001b[0mres\u001b[0m\u001b[0;34m)\u001b[0m\u001b[0;34m\u001b[0m\u001b[0;34m\u001b[0m\u001b[0m\n",
      "\u001b[0;32m~/.local/lib/python3.7/site-packages/linearmodels/panel/model.py\u001b[0m in \u001b[0;36m__init__\u001b[0;34m(self, dependent, exog, weights, entity_effects, time_effects, other_effects, singletons, drop_absorbed)\u001b[0m\n\u001b[1;32m    760\u001b[0m     def __init__(self, dependent, exog, *, weights=None, entity_effects=False, time_effects=False,\n\u001b[1;32m    761\u001b[0m                  other_effects=None, singletons=True, drop_absorbed=False):\n\u001b[0;32m--> 762\u001b[0;31m         \u001b[0msuper\u001b[0m\u001b[0;34m(\u001b[0m\u001b[0mPanelOLS\u001b[0m\u001b[0;34m,\u001b[0m \u001b[0mself\u001b[0m\u001b[0;34m)\u001b[0m\u001b[0;34m.\u001b[0m\u001b[0m__init__\u001b[0m\u001b[0;34m(\u001b[0m\u001b[0mdependent\u001b[0m\u001b[0;34m,\u001b[0m \u001b[0mexog\u001b[0m\u001b[0;34m,\u001b[0m \u001b[0mweights\u001b[0m\u001b[0;34m=\u001b[0m\u001b[0mweights\u001b[0m\u001b[0;34m)\u001b[0m\u001b[0;34m\u001b[0m\u001b[0;34m\u001b[0m\u001b[0m\n\u001b[0m\u001b[1;32m    763\u001b[0m \u001b[0;34m\u001b[0m\u001b[0m\n\u001b[1;32m    764\u001b[0m         \u001b[0mself\u001b[0m\u001b[0;34m.\u001b[0m\u001b[0m_entity_effects\u001b[0m \u001b[0;34m=\u001b[0m \u001b[0mentity_effects\u001b[0m\u001b[0;34m\u001b[0m\u001b[0;34m\u001b[0m\u001b[0m\n",
      "\u001b[0;32m~/.local/lib/python3.7/site-packages/linearmodels/panel/model.py\u001b[0m in \u001b[0;36m__init__\u001b[0;34m(self, dependent, exog, weights)\u001b[0m\n\u001b[1;32m    170\u001b[0m \u001b[0;34m\u001b[0m\u001b[0m\n\u001b[1;32m    171\u001b[0m     \u001b[0;32mdef\u001b[0m \u001b[0m__init__\u001b[0m\u001b[0;34m(\u001b[0m\u001b[0mself\u001b[0m\u001b[0;34m,\u001b[0m \u001b[0mdependent\u001b[0m\u001b[0;34m,\u001b[0m \u001b[0mexog\u001b[0m\u001b[0;34m,\u001b[0m \u001b[0;34m*\u001b[0m\u001b[0;34m,\u001b[0m \u001b[0mweights\u001b[0m\u001b[0;34m=\u001b[0m\u001b[0;32mNone\u001b[0m\u001b[0;34m)\u001b[0m\u001b[0;34m:\u001b[0m\u001b[0;34m\u001b[0m\u001b[0;34m\u001b[0m\u001b[0m\n\u001b[0;32m--> 172\u001b[0;31m         \u001b[0mself\u001b[0m\u001b[0;34m.\u001b[0m\u001b[0mdependent\u001b[0m \u001b[0;34m=\u001b[0m \u001b[0mPanelData\u001b[0m\u001b[0;34m(\u001b[0m\u001b[0mdependent\u001b[0m\u001b[0;34m,\u001b[0m \u001b[0;34m'Dep'\u001b[0m\u001b[0;34m)\u001b[0m\u001b[0;34m\u001b[0m\u001b[0;34m\u001b[0m\u001b[0m\n\u001b[0m\u001b[1;32m    173\u001b[0m         \u001b[0mself\u001b[0m\u001b[0;34m.\u001b[0m\u001b[0mexog\u001b[0m \u001b[0;34m=\u001b[0m \u001b[0mPanelData\u001b[0m\u001b[0;34m(\u001b[0m\u001b[0mexog\u001b[0m\u001b[0;34m,\u001b[0m \u001b[0;34m'Exog'\u001b[0m\u001b[0;34m)\u001b[0m\u001b[0;34m\u001b[0m\u001b[0;34m\u001b[0m\u001b[0m\n\u001b[1;32m    174\u001b[0m         \u001b[0mself\u001b[0m\u001b[0;34m.\u001b[0m\u001b[0m_original_shape\u001b[0m \u001b[0;34m=\u001b[0m \u001b[0mself\u001b[0m\u001b[0;34m.\u001b[0m\u001b[0mdependent\u001b[0m\u001b[0;34m.\u001b[0m\u001b[0mshape\u001b[0m\u001b[0;34m\u001b[0m\u001b[0;34m\u001b[0m\u001b[0m\n",
      "\u001b[0;32m~/.local/lib/python3.7/site-packages/linearmodels/panel/data.py\u001b[0m in \u001b[0;36m__init__\u001b[0;34m(self, x, var_name, convert_dummies, drop_first, copy)\u001b[0m\n\u001b[1;32m    175\u001b[0m             \u001b[0mx\u001b[0m \u001b[0;34m=\u001b[0m \u001b[0mDataFrame\u001b[0m\u001b[0;34m(\u001b[0m\u001b[0mx\u001b[0m\u001b[0;34m)\u001b[0m\u001b[0;34m\u001b[0m\u001b[0;34m\u001b[0m\u001b[0m\n\u001b[1;32m    176\u001b[0m         \u001b[0;32melif\u001b[0m \u001b[0misinstance\u001b[0m\u001b[0;34m(\u001b[0m\u001b[0mx\u001b[0m\u001b[0;34m,\u001b[0m \u001b[0mSeries\u001b[0m\u001b[0;34m)\u001b[0m\u001b[0;34m:\u001b[0m\u001b[0;34m\u001b[0m\u001b[0;34m\u001b[0m\u001b[0m\n\u001b[0;32m--> 177\u001b[0;31m             \u001b[0;32mraise\u001b[0m \u001b[0mValueError\u001b[0m\u001b[0;34m(\u001b[0m\u001b[0;34m'Series can only be used with a 2-level MultiIndex'\u001b[0m\u001b[0;34m)\u001b[0m\u001b[0;34m\u001b[0m\u001b[0;34m\u001b[0m\u001b[0m\n\u001b[0m\u001b[1;32m    178\u001b[0m \u001b[0;34m\u001b[0m\u001b[0m\n\u001b[1;32m    179\u001b[0m         \u001b[0;32mif\u001b[0m \u001b[0misinstance\u001b[0m\u001b[0;34m(\u001b[0m\u001b[0mx\u001b[0m\u001b[0;34m,\u001b[0m \u001b[0;34m(\u001b[0m\u001b[0mPanel\u001b[0m\u001b[0;34m,\u001b[0m \u001b[0mDataFrame\u001b[0m\u001b[0;34m)\u001b[0m\u001b[0;34m)\u001b[0m\u001b[0;34m:\u001b[0m\u001b[0;34m\u001b[0m\u001b[0;34m\u001b[0m\u001b[0m\n",
      "\u001b[0;31mValueError\u001b[0m: Series can only be used with a 2-level MultiIndex"
     ]
    }
   ],
   "source": [
    "mod = PanelOLS(dataframe.value, dataframe2.value, entity_effects=True)\n",
    "res = mod.fit(cov_type='clustered', cluster_entity=True)\n",
    "print(res)"
   ]
  },
  {
   "cell_type": "code",
   "execution_count": null,
   "metadata": {},
   "outputs": [],
   "source": []
  },
  {
   "cell_type": "code",
   "execution_count": null,
   "metadata": {},
   "outputs": [],
   "source": []
  }
 ],
 "metadata": {
  "kernelspec": {
   "display_name": "Python 3",
   "language": "python",
   "name": "python3"
  },
  "language_info": {
   "codemirror_mode": {
    "name": "ipython",
    "version": 3
   },
   "file_extension": ".py",
   "mimetype": "text/x-python",
   "name": "python",
   "nbconvert_exporter": "python",
   "pygments_lexer": "ipython3",
   "version": "3.7.5"
  }
 },
 "nbformat": 4,
 "nbformat_minor": 2
}
