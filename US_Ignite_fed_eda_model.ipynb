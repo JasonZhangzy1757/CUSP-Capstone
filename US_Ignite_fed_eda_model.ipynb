{
 "cells": [
  {
   "cell_type": "markdown",
   "metadata": {},
   "source": [
    "# US-Ignite Fed_Notebook"
   ]
  },
  {
   "cell_type": "markdown",
   "metadata": {},
   "source": [
    "# Data from 2009-2016"
   ]
  },
  {
   "cell_type": "code",
   "execution_count": 3,
   "metadata": {},
   "outputs": [],
   "source": [
    "#import libraries from Carto.\n",
    "from cartoframes.auth import set_default_credentials\n",
    "from cartoframes.viz import Map, Layer\n",
    "import cartoframes\n",
    "cartoframes.__version__\n",
    "#from cartoframes.viz.helpers import color_continuous_layer\n",
    "import pandas as pd\n",
    "import geopandas as gpd\n",
    "import requests\n",
    "import json\n",
    "from autocensus import Query #Library from Socrata to gather ACS Data\n",
    "from cartoframes.data.services import Geocoding\n",
    "#import censusdata\n",
    "#set_default_credentials('creds_usignite.json')\n",
    "set_default_credentials(\n",
    "    base_url='https://usignite-admin.carto.com/',\n",
    "    api_key='81c922dc336bd82103d92a768816a4567c444909'\n",
    ")\n",
    "\n",
    "from cartoframes.data.observatory import Catalog, Variable, Geography, Dataset"
   ]
  },
  {
   "cell_type": "code",
   "execution_count": 4,
   "metadata": {},
   "outputs": [],
   "source": [
    "import numpy as np\n",
    "\n",
    "from linearmodels import PanelOLS\n",
    "from linearmodels import RandomEffects\n",
    "import ipywidgets as widgets\n",
    "from ipywidgets import Output, Tab\n",
    "from IPython.display import clear_output\n",
    "from cartoframes.data.services import Isolines\n",
    "from cartoframes.data.observatory import Variable\n",
    "from cartoframes.data.observatory import Enrichment\n",
    "from cartoframes.data.observatory import Catalog"
   ]
  },
  {
   "cell_type": "markdown",
   "metadata": {},
   "source": [
    "# EDA"
   ]
  },
  {
   "cell_type": "code",
   "execution_count": 5,
   "metadata": {},
   "outputs": [],
   "source": [
    "import seaborn as sns"
   ]
  },
  {
   "cell_type": "code",
   "execution_count": 6,
   "metadata": {},
   "outputs": [],
   "source": [
    "df_final=pd.read_csv(\"~/Downloads/Final_merged.csv\")"
   ]
  },
  {
   "cell_type": "code",
   "execution_count": 9,
   "metadata": {},
   "outputs": [],
   "source": [
    "data=df_final[['zipcode', 'geoid', 'NAICS2012', 'year', 'edut',\n",
    "       'collegemale', 'collegefemale','pop',\n",
    "       'households', 'income', 'gini', 'total_p', 'ratio_65', 'Empratio',\n",
    "       'estabratio']]"
   ]
  },
  {
   "cell_type": "code",
   "execution_count": 34,
   "metadata": {},
   "outputs": [
    {
     "name": "stderr",
     "output_type": "stream",
     "text": [
      "/Users/jiaqitang/anaconda3/lib/python3.7/site-packages/ipykernel_launcher.py:1: SettingWithCopyWarning: \n",
      "A value is trying to be set on a copy of a slice from a DataFrame.\n",
      "Try using .loc[row_indexer,col_indexer] = value instead\n",
      "\n",
      "See the caveats in the documentation: http://pandas.pydata.org/pandas-docs/stable/indexing.html#indexing-view-versus-copy\n",
      "  \"\"\"Entry point for launching an IPython kernel.\n",
      "/Users/jiaqitang/anaconda3/lib/python3.7/site-packages/ipykernel_launcher.py:2: SettingWithCopyWarning: \n",
      "A value is trying to be set on a copy of a slice from a DataFrame.\n",
      "Try using .loc[row_indexer,col_indexer] = value instead\n",
      "\n",
      "See the caveats in the documentation: http://pandas.pydata.org/pandas-docs/stable/indexing.html#indexing-view-versus-copy\n",
      "  \n"
     ]
    }
   ],
   "source": [
    "data['total_college']=data['collegemale']+data['collegefemale']\n",
    "data['college_ratio']=data['total_college']/data['edut']"
   ]
  },
  {
   "cell_type": "code",
   "execution_count": 35,
   "metadata": {},
   "outputs": [
    {
     "data": {
      "text/plain": [
       "576         0.023095\n",
       "580         0.023095\n",
       "1018        0.039139\n",
       "1019        0.039139\n",
       "1017        0.039139\n",
       "6486        0.045767\n",
       "578         0.046189\n",
       "579         0.046189\n",
       "1020        0.048924\n",
       "1021        0.058708\n",
       "5168        0.063559\n",
       "4470        0.068729\n",
       "4463        0.068729\n",
       "577         0.069284\n",
       "3812        0.070093\n",
       "6345        0.073692\n",
       "6344        0.073692\n",
       "2287        0.077280\n",
       "3810        0.077882\n",
       "3813        0.077882\n",
       "702         0.078221\n",
       "5080        0.078740\n",
       "5079        0.078740\n",
       "5315        0.079051\n",
       "5245        0.079051\n",
       "703         0.082338\n",
       "2655        0.086372\n",
       "5169        0.091808\n",
       "6346        0.092115\n",
       "2286        0.092736\n",
       "            ...     \n",
       "2416    15301.290323\n",
       "2415    16112.903226\n",
       "3885    16758.163582\n",
       "3886    16955.026134\n",
       "4803    19186.010638\n",
       "1660    19725.514970\n",
       "4802    19823.457447\n",
       "5936    20043.509400\n",
       "1659    20156.703593\n",
       "6146    20886.247191\n",
       "6147    21960.801498\n",
       "1239    21961.359192\n",
       "2478    22265.770210\n",
       "2479    22353.997454\n",
       "1240    22814.227510\n",
       "5937    24125.765443\n",
       "5607    25786.007580\n",
       "5608    26294.724007\n",
       "5600    29377.373538\n",
       "5601    29956.941836\n",
       "4648    35945.888424\n",
       "4649    37265.324965\n",
       "3878    38173.436926\n",
       "3879    38621.870321\n",
       "4908    40095.688002\n",
       "4907    41116.683079\n",
       "5706    50708.770118\n",
       "5705    51233.689645\n",
       "5614    53762.748393\n",
       "5615    54823.400890\n",
       "Name: Empratio, Length: 6027, dtype: float64"
      ]
     },
     "execution_count": 35,
     "metadata": {},
     "output_type": "execute_result"
    }
   ],
   "source": [
    "data['Empratio'][data['Empratio']!=0.0].sort_values()"
   ]
  },
  {
   "cell_type": "code",
   "execution_count": 36,
   "metadata": {},
   "outputs": [
    {
     "data": {
      "text/plain": [
       "count     6503.000000\n",
       "mean       509.209210\n",
       "std       2405.904520\n",
       "min          0.000000\n",
       "25%          1.934000\n",
       "50%         15.635593\n",
       "75%        121.286881\n",
       "max      54823.400890\n",
       "Name: Empratio, dtype: float64"
      ]
     },
     "execution_count": 36,
     "metadata": {},
     "output_type": "execute_result"
    }
   ],
   "source": [
    "data['Empratio'].describe() "
   ]
  },
  {
   "cell_type": "code",
   "execution_count": 37,
   "metadata": {},
   "outputs": [
    {
     "data": {
      "text/plain": [
       "2075        0.000000\n",
       "2063        0.000000\n",
       "2062        0.000000\n",
       "4837        0.000000\n",
       "4836        0.000000\n",
       "4835        0.000000\n",
       "4834        0.000000\n",
       "4833        0.000000\n",
       "4832        0.000000\n",
       "4831        0.000000\n",
       "4830        0.000000\n",
       "3073        0.000000\n",
       "3074        0.000000\n",
       "3075        0.000000\n",
       "3076        0.000000\n",
       "3077        0.000000\n",
       "3078        0.000000\n",
       "3079        0.000000\n",
       "3080        0.000000\n",
       "3081        0.000000\n",
       "3082        0.000000\n",
       "3083        0.000000\n",
       "3084        0.000000\n",
       "3085        0.000000\n",
       "3086        0.000000\n",
       "2061        0.000000\n",
       "2064        0.000000\n",
       "5304        0.000000\n",
       "5303        0.000000\n",
       "4838        0.000000\n",
       "            ...     \n",
       "2416    15301.290323\n",
       "2415    16112.903226\n",
       "3885    16758.163582\n",
       "3886    16955.026134\n",
       "4803    19186.010638\n",
       "1660    19725.514970\n",
       "4802    19823.457447\n",
       "5936    20043.509400\n",
       "1659    20156.703593\n",
       "6146    20886.247191\n",
       "6147    21960.801498\n",
       "1239    21961.359192\n",
       "2478    22265.770210\n",
       "2479    22353.997454\n",
       "1240    22814.227510\n",
       "5937    24125.765443\n",
       "5607    25786.007580\n",
       "5608    26294.724007\n",
       "5600    29377.373538\n",
       "5601    29956.941836\n",
       "4648    35945.888424\n",
       "4649    37265.324965\n",
       "3878    38173.436926\n",
       "3879    38621.870321\n",
       "4908    40095.688002\n",
       "4907    41116.683079\n",
       "5706    50708.770118\n",
       "5705    51233.689645\n",
       "5614    53762.748393\n",
       "5615    54823.400890\n",
       "Name: Empratio, Length: 6503, dtype: float64"
      ]
     },
     "execution_count": 37,
     "metadata": {},
     "output_type": "execute_result"
    }
   ],
   "source": [
    "data['Empratio'].sort_values()"
   ]
  },
  {
   "cell_type": "code",
   "execution_count": 38,
   "metadata": {},
   "outputs": [
    {
     "data": {
      "text/plain": [
       "<matplotlib.axes._subplots.AxesSubplot at 0x1c31780d30>"
      ]
     },
     "execution_count": 38,
     "metadata": {},
     "output_type": "execute_result"
    },
    {
     "data": {
      "image/png": "[encoded data removed]",
      "text/plain": [
       "<Figure size 432x288 with 1 Axes>"
      ]
     },
     "metadata": {
      "needs_background": "light"
     },
     "output_type": "display_data"
    }
   ],
   "source": [
    "data['Empratio'].plot(kind =\"hist\")"
   ]
  },
  {
   "cell_type": "code",
   "execution_count": 39,
   "metadata": {},
   "outputs": [
    {
     "data": {
      "text/plain": [
       "count    6503.000000\n",
       "mean       24.396626\n",
       "std        96.848530\n",
       "min         0.000000\n",
       "25%         0.124813\n",
       "50%         0.822669\n",
       "75%         5.582492\n",
       "max      1737.422130\n",
       "Name: estabratio, dtype: float64"
      ]
     },
     "execution_count": 39,
     "metadata": {},
     "output_type": "execute_result"
    }
   ],
   "source": [
    "data['estabratio'].describe() "
   ]
  },
  {
   "cell_type": "code",
   "execution_count": 40,
   "metadata": {},
   "outputs": [
    {
     "name": "stderr",
     "output_type": "stream",
     "text": [
      "/Users/jiaqitang/anaconda3/lib/python3.7/site-packages/ipykernel_launcher.py:1: RuntimeWarning: divide by zero encountered in log\n",
      "  \"\"\"Entry point for launching an IPython kernel.\n",
      "/Users/jiaqitang/anaconda3/lib/python3.7/site-packages/ipykernel_launcher.py:1: SettingWithCopyWarning: \n",
      "A value is trying to be set on a copy of a slice from a DataFrame.\n",
      "Try using .loc[row_indexer,col_indexer] = value instead\n",
      "\n",
      "See the caveats in the documentation: http://pandas.pydata.org/pandas-docs/stable/indexing.html#indexing-view-versus-copy\n",
      "  \"\"\"Entry point for launching an IPython kernel.\n"
     ]
    }
   ],
   "source": [
    "data['logesration']=np.log(data['estabratio'])"
   ]
  },
  {
   "cell_type": "code",
   "execution_count": 41,
   "metadata": {},
   "outputs": [
    {
     "data": {
      "text/plain": [
       "<matplotlib.axes._subplots.AxesSubplot at 0x1c31a81630>"
      ]
     },
     "execution_count": 41,
     "metadata": {},
     "output_type": "execute_result"
    },
    {
     "data": {
      "image/png": "[encoded data removed]",
      "text/plain": [
       "<Figure size 432x288 with 1 Axes>"
      ]
     },
     "metadata": {
      "needs_background": "light"
     },
     "output_type": "display_data"
    }
   ],
   "source": [
    "data['estabratio'].plot(kind =\"hist\")"
   ]
  },
  {
   "cell_type": "code",
   "execution_count": 42,
   "metadata": {},
   "outputs": [
    {
     "name": "stderr",
     "output_type": "stream",
     "text": [
      "/Users/jiaqitang/anaconda3/lib/python3.7/site-packages/ipykernel_launcher.py:1: RuntimeWarning: divide by zero encountered in log\n",
      "  \"\"\"Entry point for launching an IPython kernel.\n"
     ]
    }
   ],
   "source": [
    "loges=np.log(data['estabratio'])"
   ]
  },
  {
   "cell_type": "code",
   "execution_count": 43,
   "metadata": {},
   "outputs": [
    {
     "data": {
      "text/plain": [
       "count    6456.000000\n",
       "mean        0.409267\n",
       "std         0.061032\n",
       "min         0.012800\n",
       "25%         0.369700\n",
       "50%         0.405350\n",
       "75%         0.446000\n",
       "max         0.722600\n",
       "Name: gini, dtype: float64"
      ]
     },
     "execution_count": 43,
     "metadata": {},
     "output_type": "execute_result"
    }
   ],
   "source": [
    "data['gini'].describe() "
   ]
  },
  {
   "cell_type": "code",
   "execution_count": 44,
   "metadata": {},
   "outputs": [
    {
     "data": {
      "text/plain": [
       "<matplotlib.axes._subplots.AxesSubplot at 0x1c31b6ca90>"
      ]
     },
     "execution_count": 44,
     "metadata": {},
     "output_type": "execute_result"
    },
    {
     "data": {
      "image/png": "[encoded data removed]",
      "text/plain": [
       "<Figure size 432x288 with 1 Axes>"
      ]
     },
     "metadata": {
      "needs_background": "light"
     },
     "output_type": "display_data"
    }
   ],
   "source": [
    "data['gini'].plot(kind =\"hist\") "
   ]
  },
  {
   "cell_type": "code",
   "execution_count": 45,
   "metadata": {},
   "outputs": [],
   "source": [
    "corr=data.corr().abs()\n",
    "\n",
    "#upper = corr_matrix.where(np.triu(np.ones(corr_matrix.shape), k=1).astype(np.bool))\n",
    "#to_drop = [column for column in upper.columns if any(upper[column] > 0.95)]\n"
   ]
  },
  {
   "cell_type": "code",
   "execution_count": 46,
   "metadata": {},
   "outputs": [
    {
     "data": {
      "text/html": [
       "<div>\n",
       "<style scoped>\n",
       "    .dataframe tbody tr th:only-of-type {\n",
       "        vertical-align: middle;\n",
       "    }\n",
       "\n",
       "    .dataframe tbody tr th {\n",
       "        vertical-align: top;\n",
       "    }\n",
       "\n",
       "    .dataframe thead th {\n",
       "        text-align: right;\n",
       "    }\n",
       "</style>\n",
       "<table border=\"1\" class=\"dataframe\">\n",
       "  <thead>\n",
       "    <tr style=\"text-align: right;\">\n",
       "      <th></th>\n",
       "      <th>zipcode</th>\n",
       "      <th>geoid</th>\n",
       "      <th>NAICS2012</th>\n",
       "      <th>year</th>\n",
       "      <th>edut</th>\n",
       "      <th>collegemale</th>\n",
       "      <th>collegefemale</th>\n",
       "      <th>pop</th>\n",
       "      <th>households</th>\n",
       "      <th>income</th>\n",
       "      <th>gini</th>\n",
       "      <th>total_p</th>\n",
       "      <th>ratio_65</th>\n",
       "      <th>Empratio</th>\n",
       "      <th>estabratio</th>\n",
       "      <th>total_college</th>\n",
       "      <th>college_ratio</th>\n",
       "      <th>logesration</th>\n",
       "    </tr>\n",
       "  </thead>\n",
       "  <tbody>\n",
       "    <tr>\n",
       "      <th>zipcode</th>\n",
       "      <td>1.000000</td>\n",
       "      <td>0.335203</td>\n",
       "      <td>NaN</td>\n",
       "      <td>0.000000e+00</td>\n",
       "      <td>0.046236</td>\n",
       "      <td>0.092548</td>\n",
       "      <td>0.058723</td>\n",
       "      <td>0.063170</td>\n",
       "      <td>0.020399</td>\n",
       "      <td>0.031919</td>\n",
       "      <td>0.017846</td>\n",
       "      <td>1.671289e-02</td>\n",
       "      <td>8.460610e-02</td>\n",
       "      <td>0.044774</td>\n",
       "      <td>0.030280</td>\n",
       "      <td>0.076860</td>\n",
       "      <td>0.199519</td>\n",
       "      <td>0.022670</td>\n",
       "    </tr>\n",
       "    <tr>\n",
       "      <th>geoid</th>\n",
       "      <td>0.335203</td>\n",
       "      <td>1.000000</td>\n",
       "      <td>NaN</td>\n",
       "      <td>0.000000e+00</td>\n",
       "      <td>0.191040</td>\n",
       "      <td>0.053658</td>\n",
       "      <td>0.103691</td>\n",
       "      <td>0.195284</td>\n",
       "      <td>0.194871</td>\n",
       "      <td>0.114744</td>\n",
       "      <td>0.020321</td>\n",
       "      <td>1.781014e-01</td>\n",
       "      <td>1.475467e-01</td>\n",
       "      <td>0.013405</td>\n",
       "      <td>0.001662</td>\n",
       "      <td>0.081368</td>\n",
       "      <td>0.070971</td>\n",
       "      <td>0.037082</td>\n",
       "    </tr>\n",
       "    <tr>\n",
       "      <th>NAICS2012</th>\n",
       "      <td>NaN</td>\n",
       "      <td>NaN</td>\n",
       "      <td>NaN</td>\n",
       "      <td>NaN</td>\n",
       "      <td>NaN</td>\n",
       "      <td>NaN</td>\n",
       "      <td>NaN</td>\n",
       "      <td>NaN</td>\n",
       "      <td>NaN</td>\n",
       "      <td>NaN</td>\n",
       "      <td>NaN</td>\n",
       "      <td>NaN</td>\n",
       "      <td>NaN</td>\n",
       "      <td>NaN</td>\n",
       "      <td>NaN</td>\n",
       "      <td>NaN</td>\n",
       "      <td>NaN</td>\n",
       "      <td>NaN</td>\n",
       "    </tr>\n",
       "    <tr>\n",
       "      <th>year</th>\n",
       "      <td>0.000000</td>\n",
       "      <td>0.000000</td>\n",
       "      <td>NaN</td>\n",
       "      <td>1.000000e+00</td>\n",
       "      <td>0.073637</td>\n",
       "      <td>0.076292</td>\n",
       "      <td>0.059178</td>\n",
       "      <td>0.079752</td>\n",
       "      <td>0.114599</td>\n",
       "      <td>0.029948</td>\n",
       "      <td>0.094464</td>\n",
       "      <td>4.436874e-18</td>\n",
       "      <td>2.085290e-18</td>\n",
       "      <td>0.239822</td>\n",
       "      <td>0.292956</td>\n",
       "      <td>0.069050</td>\n",
       "      <td>0.030316</td>\n",
       "      <td>0.552417</td>\n",
       "    </tr>\n",
       "    <tr>\n",
       "      <th>edut</th>\n",
       "      <td>0.046236</td>\n",
       "      <td>0.191040</td>\n",
       "      <td>NaN</td>\n",
       "      <td>7.363734e-02</td>\n",
       "      <td>1.000000</td>\n",
       "      <td>0.738114</td>\n",
       "      <td>0.774093</td>\n",
       "      <td>0.586559</td>\n",
       "      <td>0.653314</td>\n",
       "      <td>0.935323</td>\n",
       "      <td>0.000295</td>\n",
       "      <td>8.588436e-01</td>\n",
       "      <td>6.987764e-02</td>\n",
       "      <td>0.015683</td>\n",
       "      <td>0.018102</td>\n",
       "      <td>0.774570</td>\n",
       "      <td>0.145381</td>\n",
       "      <td>0.025287</td>\n",
       "    </tr>\n",
       "    <tr>\n",
       "      <th>collegemale</th>\n",
       "      <td>0.092548</td>\n",
       "      <td>0.053658</td>\n",
       "      <td>NaN</td>\n",
       "      <td>7.629217e-02</td>\n",
       "      <td>0.738114</td>\n",
       "      <td>1.000000</td>\n",
       "      <td>0.908629</td>\n",
       "      <td>0.267166</td>\n",
       "      <td>0.564542</td>\n",
       "      <td>0.771680</td>\n",
       "      <td>0.132760</td>\n",
       "      <td>5.300678e-01</td>\n",
       "      <td>5.316463e-02</td>\n",
       "      <td>0.051811</td>\n",
       "      <td>0.049001</td>\n",
       "      <td>0.975343</td>\n",
       "      <td>0.674583</td>\n",
       "      <td>0.074318</td>\n",
       "    </tr>\n",
       "    <tr>\n",
       "      <th>collegefemale</th>\n",
       "      <td>0.058723</td>\n",
       "      <td>0.103691</td>\n",
       "      <td>NaN</td>\n",
       "      <td>5.917772e-02</td>\n",
       "      <td>0.774093</td>\n",
       "      <td>0.908629</td>\n",
       "      <td>1.000000</td>\n",
       "      <td>0.315878</td>\n",
       "      <td>0.584577</td>\n",
       "      <td>0.785941</td>\n",
       "      <td>0.085744</td>\n",
       "      <td>5.882471e-01</td>\n",
       "      <td>5.855776e-02</td>\n",
       "      <td>0.047035</td>\n",
       "      <td>0.042946</td>\n",
       "      <td>0.978388</td>\n",
       "      <td>0.641231</td>\n",
       "      <td>0.064750</td>\n",
       "    </tr>\n",
       "    <tr>\n",
       "      <th>pop</th>\n",
       "      <td>0.063170</td>\n",
       "      <td>0.195284</td>\n",
       "      <td>NaN</td>\n",
       "      <td>7.975208e-02</td>\n",
       "      <td>0.586559</td>\n",
       "      <td>0.267166</td>\n",
       "      <td>0.315878</td>\n",
       "      <td>1.000000</td>\n",
       "      <td>0.562371</td>\n",
       "      <td>0.535116</td>\n",
       "      <td>0.111239</td>\n",
       "      <td>8.216351e-01</td>\n",
       "      <td>2.082188e-01</td>\n",
       "      <td>0.018401</td>\n",
       "      <td>0.023950</td>\n",
       "      <td>0.299233</td>\n",
       "      <td>0.068626</td>\n",
       "      <td>0.097090</td>\n",
       "    </tr>\n",
       "    <tr>\n",
       "      <th>households</th>\n",
       "      <td>0.020399</td>\n",
       "      <td>0.194871</td>\n",
       "      <td>NaN</td>\n",
       "      <td>1.145992e-01</td>\n",
       "      <td>0.653314</td>\n",
       "      <td>0.564542</td>\n",
       "      <td>0.584577</td>\n",
       "      <td>0.562371</td>\n",
       "      <td>1.000000</td>\n",
       "      <td>0.688863</td>\n",
       "      <td>0.132798</td>\n",
       "      <td>5.493846e-01</td>\n",
       "      <td>5.839033e-02</td>\n",
       "      <td>0.030713</td>\n",
       "      <td>0.034779</td>\n",
       "      <td>0.588501</td>\n",
       "      <td>0.269858</td>\n",
       "      <td>0.018388</td>\n",
       "    </tr>\n",
       "    <tr>\n",
       "      <th>income</th>\n",
       "      <td>0.031919</td>\n",
       "      <td>0.114744</td>\n",
       "      <td>NaN</td>\n",
       "      <td>2.994845e-02</td>\n",
       "      <td>0.935323</td>\n",
       "      <td>0.771680</td>\n",
       "      <td>0.785941</td>\n",
       "      <td>0.535116</td>\n",
       "      <td>0.688863</td>\n",
       "      <td>1.000000</td>\n",
       "      <td>0.093203</td>\n",
       "      <td>8.440757e-01</td>\n",
       "      <td>4.870403e-02</td>\n",
       "      <td>0.050894</td>\n",
       "      <td>0.060025</td>\n",
       "      <td>0.797452</td>\n",
       "      <td>0.248997</td>\n",
       "      <td>0.097855</td>\n",
       "    </tr>\n",
       "    <tr>\n",
       "      <th>gini</th>\n",
       "      <td>0.017846</td>\n",
       "      <td>0.020321</td>\n",
       "      <td>NaN</td>\n",
       "      <td>9.446394e-02</td>\n",
       "      <td>0.000295</td>\n",
       "      <td>0.132760</td>\n",
       "      <td>0.085744</td>\n",
       "      <td>0.111239</td>\n",
       "      <td>0.132798</td>\n",
       "      <td>0.093203</td>\n",
       "      <td>1.000000</td>\n",
       "      <td>6.770465e-02</td>\n",
       "      <td>2.726676e-01</td>\n",
       "      <td>0.000465</td>\n",
       "      <td>0.015561</td>\n",
       "      <td>0.111081</td>\n",
       "      <td>0.178691</td>\n",
       "      <td>0.021657</td>\n",
       "    </tr>\n",
       "    <tr>\n",
       "      <th>total_p</th>\n",
       "      <td>0.016713</td>\n",
       "      <td>0.178101</td>\n",
       "      <td>NaN</td>\n",
       "      <td>4.436874e-18</td>\n",
       "      <td>0.858844</td>\n",
       "      <td>0.530068</td>\n",
       "      <td>0.588247</td>\n",
       "      <td>0.821635</td>\n",
       "      <td>0.549385</td>\n",
       "      <td>0.844076</td>\n",
       "      <td>0.067705</td>\n",
       "      <td>1.000000e+00</td>\n",
       "      <td>2.106973e-01</td>\n",
       "      <td>0.015609</td>\n",
       "      <td>0.019956</td>\n",
       "      <td>0.573340</td>\n",
       "      <td>0.006819</td>\n",
       "      <td>0.020381</td>\n",
       "    </tr>\n",
       "    <tr>\n",
       "      <th>ratio_65</th>\n",
       "      <td>0.084606</td>\n",
       "      <td>0.147547</td>\n",
       "      <td>NaN</td>\n",
       "      <td>2.085290e-18</td>\n",
       "      <td>0.069878</td>\n",
       "      <td>0.053165</td>\n",
       "      <td>0.058558</td>\n",
       "      <td>0.208219</td>\n",
       "      <td>0.058390</td>\n",
       "      <td>0.048704</td>\n",
       "      <td>0.272668</td>\n",
       "      <td>2.106973e-01</td>\n",
       "      <td>1.000000e+00</td>\n",
       "      <td>0.019080</td>\n",
       "      <td>0.013376</td>\n",
       "      <td>0.057271</td>\n",
       "      <td>0.227423</td>\n",
       "      <td>0.029575</td>\n",
       "    </tr>\n",
       "    <tr>\n",
       "      <th>Empratio</th>\n",
       "      <td>0.044774</td>\n",
       "      <td>0.013405</td>\n",
       "      <td>NaN</td>\n",
       "      <td>2.398217e-01</td>\n",
       "      <td>0.015683</td>\n",
       "      <td>0.051811</td>\n",
       "      <td>0.047035</td>\n",
       "      <td>0.018401</td>\n",
       "      <td>0.030713</td>\n",
       "      <td>0.050894</td>\n",
       "      <td>0.000465</td>\n",
       "      <td>1.560898e-02</td>\n",
       "      <td>1.908016e-02</td>\n",
       "      <td>1.000000</td>\n",
       "      <td>0.958921</td>\n",
       "      <td>0.050511</td>\n",
       "      <td>0.056796</td>\n",
       "      <td>0.426689</td>\n",
       "    </tr>\n",
       "    <tr>\n",
       "      <th>estabratio</th>\n",
       "      <td>0.030280</td>\n",
       "      <td>0.001662</td>\n",
       "      <td>NaN</td>\n",
       "      <td>2.929556e-01</td>\n",
       "      <td>0.018102</td>\n",
       "      <td>0.049001</td>\n",
       "      <td>0.042946</td>\n",
       "      <td>0.023950</td>\n",
       "      <td>0.034779</td>\n",
       "      <td>0.060025</td>\n",
       "      <td>0.015561</td>\n",
       "      <td>1.995615e-02</td>\n",
       "      <td>1.337625e-02</td>\n",
       "      <td>0.958921</td>\n",
       "      <td>1.000000</td>\n",
       "      <td>0.046959</td>\n",
       "      <td>0.048498</td>\n",
       "      <td>0.499406</td>\n",
       "    </tr>\n",
       "    <tr>\n",
       "      <th>total_college</th>\n",
       "      <td>0.076860</td>\n",
       "      <td>0.081368</td>\n",
       "      <td>NaN</td>\n",
       "      <td>6.905044e-02</td>\n",
       "      <td>0.774570</td>\n",
       "      <td>0.975343</td>\n",
       "      <td>0.978388</td>\n",
       "      <td>0.299233</td>\n",
       "      <td>0.588501</td>\n",
       "      <td>0.797452</td>\n",
       "      <td>0.111081</td>\n",
       "      <td>5.733398e-01</td>\n",
       "      <td>5.727107e-02</td>\n",
       "      <td>0.050511</td>\n",
       "      <td>0.046959</td>\n",
       "      <td>1.000000</td>\n",
       "      <td>0.672941</td>\n",
       "      <td>0.071027</td>\n",
       "    </tr>\n",
       "    <tr>\n",
       "      <th>college_ratio</th>\n",
       "      <td>0.199519</td>\n",
       "      <td>0.070971</td>\n",
       "      <td>NaN</td>\n",
       "      <td>3.031617e-02</td>\n",
       "      <td>0.145381</td>\n",
       "      <td>0.674583</td>\n",
       "      <td>0.641231</td>\n",
       "      <td>0.068626</td>\n",
       "      <td>0.269858</td>\n",
       "      <td>0.248997</td>\n",
       "      <td>0.178691</td>\n",
       "      <td>6.818760e-03</td>\n",
       "      <td>2.274225e-01</td>\n",
       "      <td>0.056796</td>\n",
       "      <td>0.048498</td>\n",
       "      <td>0.672941</td>\n",
       "      <td>1.000000</td>\n",
       "      <td>0.070128</td>\n",
       "    </tr>\n",
       "    <tr>\n",
       "      <th>logesration</th>\n",
       "      <td>0.022670</td>\n",
       "      <td>0.037082</td>\n",
       "      <td>NaN</td>\n",
       "      <td>5.524174e-01</td>\n",
       "      <td>0.025287</td>\n",
       "      <td>0.074318</td>\n",
       "      <td>0.064750</td>\n",
       "      <td>0.097090</td>\n",
       "      <td>0.018388</td>\n",
       "      <td>0.097855</td>\n",
       "      <td>0.021657</td>\n",
       "      <td>2.038120e-02</td>\n",
       "      <td>2.957532e-02</td>\n",
       "      <td>0.426689</td>\n",
       "      <td>0.499406</td>\n",
       "      <td>0.071027</td>\n",
       "      <td>0.070128</td>\n",
       "      <td>1.000000</td>\n",
       "    </tr>\n",
       "  </tbody>\n",
       "</table>\n",
       "</div>"
      ],
      "text/plain": [
       "                zipcode     geoid  NAICS2012          year      edut  \\\n",
       "zipcode        1.000000  0.335203        NaN  0.000000e+00  0.046236   \n",
       "geoid          0.335203  1.000000        NaN  0.000000e+00  0.191040   \n",
       "NAICS2012           NaN       NaN        NaN           NaN       NaN   \n",
       "year           0.000000  0.000000        NaN  1.000000e+00  0.073637   \n",
       "edut           0.046236  0.191040        NaN  7.363734e-02  1.000000   \n",
       "collegemale    0.092548  0.053658        NaN  7.629217e-02  0.738114   \n",
       "collegefemale  0.058723  0.103691        NaN  5.917772e-02  0.774093   \n",
       "pop            0.063170  0.195284        NaN  7.975208e-02  0.586559   \n",
       "households     0.020399  0.194871        NaN  1.145992e-01  0.653314   \n",
       "income         0.031919  0.114744        NaN  2.994845e-02  0.935323   \n",
       "gini           0.017846  0.020321        NaN  9.446394e-02  0.000295   \n",
       "total_p        0.016713  0.178101        NaN  4.436874e-18  0.858844   \n",
       "ratio_65       0.084606  0.147547        NaN  2.085290e-18  0.069878   \n",
       "Empratio       0.044774  0.013405        NaN  2.398217e-01  0.015683   \n",
       "estabratio     0.030280  0.001662        NaN  2.929556e-01  0.018102   \n",
       "total_college  0.076860  0.081368        NaN  6.905044e-02  0.774570   \n",
       "college_ratio  0.199519  0.070971        NaN  3.031617e-02  0.145381   \n",
       "logesration    0.022670  0.037082        NaN  5.524174e-01  0.025287   \n",
       "\n",
       "               collegemale  collegefemale       pop  households    income  \\\n",
       "zipcode           0.092548       0.058723  0.063170    0.020399  0.031919   \n",
       "geoid             0.053658       0.103691  0.195284    0.194871  0.114744   \n",
       "NAICS2012              NaN            NaN       NaN         NaN       NaN   \n",
       "year              0.076292       0.059178  0.079752    0.114599  0.029948   \n",
       "edut              0.738114       0.774093  0.586559    0.653314  0.935323   \n",
       "collegemale       1.000000       0.908629  0.267166    0.564542  0.771680   \n",
       "collegefemale     0.908629       1.000000  0.315878    0.584577  0.785941   \n",
       "pop               0.267166       0.315878  1.000000    0.562371  0.535116   \n",
       "households        0.564542       0.584577  0.562371    1.000000  0.688863   \n",
       "income            0.771680       0.785941  0.535116    0.688863  1.000000   \n",
       "gini              0.132760       0.085744  0.111239    0.132798  0.093203   \n",
       "total_p           0.530068       0.588247  0.821635    0.549385  0.844076   \n",
       "ratio_65          0.053165       0.058558  0.208219    0.058390  0.048704   \n",
       "Empratio          0.051811       0.047035  0.018401    0.030713  0.050894   \n",
       "estabratio        0.049001       0.042946  0.023950    0.034779  0.060025   \n",
       "total_college     0.975343       0.978388  0.299233    0.588501  0.797452   \n",
       "college_ratio     0.674583       0.641231  0.068626    0.269858  0.248997   \n",
       "logesration       0.074318       0.064750  0.097090    0.018388  0.097855   \n",
       "\n",
       "                   gini       total_p      ratio_65  Empratio  estabratio  \\\n",
       "zipcode        0.017846  1.671289e-02  8.460610e-02  0.044774    0.030280   \n",
       "geoid          0.020321  1.781014e-01  1.475467e-01  0.013405    0.001662   \n",
       "NAICS2012           NaN           NaN           NaN       NaN         NaN   \n",
       "year           0.094464  4.436874e-18  2.085290e-18  0.239822    0.292956   \n",
       "edut           0.000295  8.588436e-01  6.987764e-02  0.015683    0.018102   \n",
       "collegemale    0.132760  5.300678e-01  5.316463e-02  0.051811    0.049001   \n",
       "collegefemale  0.085744  5.882471e-01  5.855776e-02  0.047035    0.042946   \n",
       "pop            0.111239  8.216351e-01  2.082188e-01  0.018401    0.023950   \n",
       "households     0.132798  5.493846e-01  5.839033e-02  0.030713    0.034779   \n",
       "income         0.093203  8.440757e-01  4.870403e-02  0.050894    0.060025   \n",
       "gini           1.000000  6.770465e-02  2.726676e-01  0.000465    0.015561   \n",
       "total_p        0.067705  1.000000e+00  2.106973e-01  0.015609    0.019956   \n",
       "ratio_65       0.272668  2.106973e-01  1.000000e+00  0.019080    0.013376   \n",
       "Empratio       0.000465  1.560898e-02  1.908016e-02  1.000000    0.958921   \n",
       "estabratio     0.015561  1.995615e-02  1.337625e-02  0.958921    1.000000   \n",
       "total_college  0.111081  5.733398e-01  5.727107e-02  0.050511    0.046959   \n",
       "college_ratio  0.178691  6.818760e-03  2.274225e-01  0.056796    0.048498   \n",
       "logesration    0.021657  2.038120e-02  2.957532e-02  0.426689    0.499406   \n",
       "\n",
       "               total_college  college_ratio  logesration  \n",
       "zipcode             0.076860       0.199519     0.022670  \n",
       "geoid               0.081368       0.070971     0.037082  \n",
       "NAICS2012                NaN            NaN          NaN  \n",
       "year                0.069050       0.030316     0.552417  \n",
       "edut                0.774570       0.145381     0.025287  \n",
       "collegemale         0.975343       0.674583     0.074318  \n",
       "collegefemale       0.978388       0.641231     0.064750  \n",
       "pop                 0.299233       0.068626     0.097090  \n",
       "households          0.588501       0.269858     0.018388  \n",
       "income              0.797452       0.248997     0.097855  \n",
       "gini                0.111081       0.178691     0.021657  \n",
       "total_p             0.573340       0.006819     0.020381  \n",
       "ratio_65            0.057271       0.227423     0.029575  \n",
       "Empratio            0.050511       0.056796     0.426689  \n",
       "estabratio          0.046959       0.048498     0.499406  \n",
       "total_college       1.000000       0.672941     0.071027  \n",
       "college_ratio       0.672941       1.000000     0.070128  \n",
       "logesration         0.071027       0.070128     1.000000  "
      ]
     },
     "execution_count": 46,
     "metadata": {},
     "output_type": "execute_result"
    }
   ],
   "source": [
    "corr"
   ]
  },
  {
   "cell_type": "code",
   "execution_count": 47,
   "metadata": {},
   "outputs": [
    {
     "data": {
      "text/plain": [
       "[Text(0.5, 0, 'zipcode'),\n",
       " Text(1.5, 0, 'geoid'),\n",
       " Text(2.5, 0, 'NAICS2012'),\n",
       " Text(3.5, 0, 'year'),\n",
       " Text(4.5, 0, 'edut'),\n",
       " Text(5.5, 0, 'collegemale'),\n",
       " Text(6.5, 0, 'collegefemale'),\n",
       " Text(7.5, 0, 'pop'),\n",
       " Text(8.5, 0, 'households'),\n",
       " Text(9.5, 0, 'income'),\n",
       " Text(10.5, 0, 'gini'),\n",
       " Text(11.5, 0, 'total_p'),\n",
       " Text(12.5, 0, 'ratio_65'),\n",
       " Text(13.5, 0, 'Empratio'),\n",
       " Text(14.5, 0, 'estabratio'),\n",
       " Text(15.5, 0, 'total_college'),\n",
       " Text(16.5, 0, 'college_ratio'),\n",
       " Text(17.5, 0, 'logesration')]"
      ]
     },
     "execution_count": 47,
     "metadata": {},
     "output_type": "execute_result"
    },
    {
     "data": {
      "image/png": "[encoded data removed]",
      "text/plain": [
       "<Figure size 432x288 with 2 Axes>"
      ]
     },
     "metadata": {
      "needs_background": "light"
     },
     "output_type": "display_data"
    }
   ],
   "source": [
    "ax = sns.heatmap(\n",
    "    corr, \n",
    "    vmin=-1, vmax=1, center=0,\n",
    "    cmap=sns.diverging_palette(20, 220, n=200),\n",
    "    square=True\n",
    ")\n",
    "ax.set_xticklabels(\n",
    "    ax.get_xticklabels(),\n",
    "    rotation=45,\n",
    "    horizontalalignment='right'\n",
    ")"
   ]
  },
  {
   "cell_type": "code",
   "execution_count": 56,
   "metadata": {},
   "outputs": [],
   "source": [
    "df=data"
   ]
  },
  {
   "cell_type": "code",
   "execution_count": 57,
   "metadata": {},
   "outputs": [
    {
     "data": {
      "text/plain": [
       "Index(['zipcode', 'geoid', 'NAICS2012', 'year', 'edut', 'collegemale',\n",
       "       'collegefemale', 'pop', 'households', 'income', 'gini', 'total_p',\n",
       "       'ratio_65', 'Empratio', 'estabratio', 'total_college', 'college_ratio',\n",
       "       'logesration'],\n",
       "      dtype='object')"
      ]
     },
     "execution_count": 57,
     "metadata": {},
     "output_type": "execute_result"
    }
   ],
   "source": [
    "df.columns"
   ]
  },
  {
   "cell_type": "code",
   "execution_count": 58,
   "metadata": {},
   "outputs": [
    {
     "data": {
      "text/html": [
       "<div>\n",
       "<style scoped>\n",
       "    .dataframe tbody tr th:only-of-type {\n",
       "        vertical-align: middle;\n",
       "    }\n",
       "\n",
       "    .dataframe tbody tr th {\n",
       "        vertical-align: top;\n",
       "    }\n",
       "\n",
       "    .dataframe thead th {\n",
       "        text-align: right;\n",
       "    }\n",
       "</style>\n",
       "<table border=\"1\" class=\"dataframe\">\n",
       "  <thead>\n",
       "    <tr style=\"text-align: right;\">\n",
       "      <th></th>\n",
       "      <th>zipcode</th>\n",
       "      <th>geoid</th>\n",
       "      <th>NAICS2012</th>\n",
       "      <th>year</th>\n",
       "      <th>edut</th>\n",
       "      <th>collegemale</th>\n",
       "      <th>collegefemale</th>\n",
       "      <th>pop</th>\n",
       "      <th>households</th>\n",
       "      <th>income</th>\n",
       "      <th>gini</th>\n",
       "      <th>total_p</th>\n",
       "      <th>ratio_65</th>\n",
       "      <th>Empratio</th>\n",
       "      <th>estabratio</th>\n",
       "      <th>total_college</th>\n",
       "      <th>college_ratio</th>\n",
       "      <th>logesration</th>\n",
       "    </tr>\n",
       "  </thead>\n",
       "  <tbody>\n",
       "    <tr>\n",
       "      <th>0</th>\n",
       "      <td>91901</td>\n",
       "      <td>6073015502</td>\n",
       "      <td>0</td>\n",
       "      <td>2010</td>\n",
       "      <td>1651.0</td>\n",
       "      <td>130.0</td>\n",
       "      <td>107.0</td>\n",
       "      <td>208.0</td>\n",
       "      <td>83.0</td>\n",
       "      <td>864.0</td>\n",
       "      <td>0.4400</td>\n",
       "      <td>2748</td>\n",
       "      <td>0.108806</td>\n",
       "      <td>39.686888</td>\n",
       "      <td>2.360078</td>\n",
       "      <td>237.0</td>\n",
       "      <td>0.143549</td>\n",
       "      <td>0.858695</td>\n",
       "    </tr>\n",
       "    <tr>\n",
       "      <th>1</th>\n",
       "      <td>91901</td>\n",
       "      <td>6073015502</td>\n",
       "      <td>0</td>\n",
       "      <td>2011</td>\n",
       "      <td>1717.0</td>\n",
       "      <td>124.0</td>\n",
       "      <td>114.0</td>\n",
       "      <td>234.0</td>\n",
       "      <td>95.0</td>\n",
       "      <td>896.0</td>\n",
       "      <td>0.4080</td>\n",
       "      <td>2748</td>\n",
       "      <td>0.108806</td>\n",
       "      <td>41.095890</td>\n",
       "      <td>2.383562</td>\n",
       "      <td>238.0</td>\n",
       "      <td>0.138614</td>\n",
       "      <td>0.868596</td>\n",
       "    </tr>\n",
       "    <tr>\n",
       "      <th>2</th>\n",
       "      <td>91901</td>\n",
       "      <td>6073015502</td>\n",
       "      <td>0</td>\n",
       "      <td>2012</td>\n",
       "      <td>1790.0</td>\n",
       "      <td>124.0</td>\n",
       "      <td>107.0</td>\n",
       "      <td>291.0</td>\n",
       "      <td>113.0</td>\n",
       "      <td>904.0</td>\n",
       "      <td>0.3790</td>\n",
       "      <td>2748</td>\n",
       "      <td>0.108806</td>\n",
       "      <td>0.293542</td>\n",
       "      <td>0.029354</td>\n",
       "      <td>231.0</td>\n",
       "      <td>0.129050</td>\n",
       "      <td>-3.528319</td>\n",
       "    </tr>\n",
       "    <tr>\n",
       "      <th>3</th>\n",
       "      <td>91901</td>\n",
       "      <td>6073015502</td>\n",
       "      <td>0</td>\n",
       "      <td>2013</td>\n",
       "      <td>1900.0</td>\n",
       "      <td>141.0</td>\n",
       "      <td>148.0</td>\n",
       "      <td>365.0</td>\n",
       "      <td>136.0</td>\n",
       "      <td>903.0</td>\n",
       "      <td>0.3782</td>\n",
       "      <td>2748</td>\n",
       "      <td>0.108806</td>\n",
       "      <td>0.176125</td>\n",
       "      <td>0.017613</td>\n",
       "      <td>289.0</td>\n",
       "      <td>0.152105</td>\n",
       "      <td>-4.039145</td>\n",
       "    </tr>\n",
       "    <tr>\n",
       "      <th>4</th>\n",
       "      <td>91901</td>\n",
       "      <td>6073015502</td>\n",
       "      <td>0</td>\n",
       "      <td>2014</td>\n",
       "      <td>1865.0</td>\n",
       "      <td>143.0</td>\n",
       "      <td>135.0</td>\n",
       "      <td>411.0</td>\n",
       "      <td>154.0</td>\n",
       "      <td>883.0</td>\n",
       "      <td>0.3837</td>\n",
       "      <td>2748</td>\n",
       "      <td>0.108806</td>\n",
       "      <td>0.234834</td>\n",
       "      <td>0.023483</td>\n",
       "      <td>278.0</td>\n",
       "      <td>0.149062</td>\n",
       "      <td>-3.751463</td>\n",
       "    </tr>\n",
       "  </tbody>\n",
       "</table>\n",
       "</div>"
      ],
      "text/plain": [
       "   zipcode       geoid  NAICS2012  year    edut  collegemale  collegefemale  \\\n",
       "0    91901  6073015502          0  2010  1651.0        130.0          107.0   \n",
       "1    91901  6073015502          0  2011  1717.0        124.0          114.0   \n",
       "2    91901  6073015502          0  2012  1790.0        124.0          107.0   \n",
       "3    91901  6073015502          0  2013  1900.0        141.0          148.0   \n",
       "4    91901  6073015502          0  2014  1865.0        143.0          135.0   \n",
       "\n",
       "     pop  households  income    gini  total_p  ratio_65   Empratio  \\\n",
       "0  208.0        83.0   864.0  0.4400     2748  0.108806  39.686888   \n",
       "1  234.0        95.0   896.0  0.4080     2748  0.108806  41.095890   \n",
       "2  291.0       113.0   904.0  0.3790     2748  0.108806   0.293542   \n",
       "3  365.0       136.0   903.0  0.3782     2748  0.108806   0.176125   \n",
       "4  411.0       154.0   883.0  0.3837     2748  0.108806   0.234834   \n",
       "\n",
       "   estabratio  total_college  college_ratio  logesration  \n",
       "0    2.360078          237.0       0.143549     0.858695  \n",
       "1    2.383562          238.0       0.138614     0.868596  \n",
       "2    0.029354          231.0       0.129050    -3.528319  \n",
       "3    0.017613          289.0       0.152105    -4.039145  \n",
       "4    0.023483          278.0       0.149062    -3.751463  "
      ]
     },
     "execution_count": 58,
     "metadata": {},
     "output_type": "execute_result"
    }
   ],
   "source": [
    "df.head()"
   ]
  },
  {
   "cell_type": "code",
   "execution_count": 59,
   "metadata": {},
   "outputs": [],
   "source": [
    "from linearmodels.panel import PooledOLS\n",
    "import statsmodels.api as sm"
   ]
  },
  {
   "cell_type": "code",
   "execution_count": 60,
   "metadata": {},
   "outputs": [
    {
     "name": "stderr",
     "output_type": "stream",
     "text": [
      "/Users/jiaqitang/anaconda3/lib/python3.7/site-packages/ipykernel_launcher.py:1: SettingWithCopyWarning: \n",
      "A value is trying to be set on a copy of a slice from a DataFrame.\n",
      "Try using .loc[row_indexer,col_indexer] = value instead\n",
      "\n",
      "See the caveats in the documentation: http://pandas.pydata.org/pandas-docs/stable/indexing.html#indexing-view-versus-copy\n",
      "  \"\"\"Entry point for launching an IPython kernel.\n"
     ]
    }
   ],
   "source": [
    "df['year'] = pd.to_datetime(df['year'], format='%Y')\n"
   ]
  },
  {
   "cell_type": "code",
   "execution_count": 61,
   "metadata": {},
   "outputs": [],
   "source": [
    "#add column year to index\n",
    "df=df.set_index('year', append=True)\n",
    "#swap indexes\n",
    "\n",
    "\n"
   ]
  },
  {
   "cell_type": "code",
   "execution_count": 62,
   "metadata": {},
   "outputs": [],
   "source": [
    "import statsmodels.formula.api as smf"
   ]
  },
  {
   "cell_type": "code",
   "execution_count": 63,
   "metadata": {},
   "outputs": [
    {
     "data": {
      "text/plain": [
       "Index(['zipcode', 'geoid', 'NAICS2012', 'edut', 'collegemale', 'collegefemale',\n",
       "       'pop', 'households', 'income', 'gini', 'total_p', 'ratio_65',\n",
       "       'Empratio', 'estabratio', 'total_college', 'college_ratio',\n",
       "       'logesration'],\n",
       "      dtype='object')"
      ]
     },
     "execution_count": 63,
     "metadata": {},
     "output_type": "execute_result"
    }
   ],
   "source": [
    "df.columns"
   ]
  },
  {
   "cell_type": "code",
   "execution_count": 67,
   "metadata": {},
   "outputs": [
    {
     "name": "stdout",
     "output_type": "stream",
     "text": [
      "                            OLS Regression Results                            \n",
      "==============================================================================\n",
      "Dep. Variable:             estabratio   R-squared:                       0.017\n",
      "Model:                            OLS   Adj. R-squared:                  0.017\n",
      "Method:                 Least Squares   F-statistic:                     22.75\n",
      "Date:                Wed, 19 Feb 2020   Prob (F-statistic):           1.07e-22\n",
      "Time:                        14:52:58   Log-Likelihood:                -38777.\n",
      "No. Observations:                6479   AIC:                         7.757e+04\n",
      "Df Residuals:                    6473   BIC:                         7.761e+04\n",
      "Df Model:                           5                                         \n",
      "Covariance Type:            nonrobust                                         \n",
      "==============================================================================\n",
      "                 coef    std err          t      P>|t|      [0.025      0.975]\n",
      "------------------------------------------------------------------------------\n",
      "Intercept     22.0462      4.350      5.068      0.000      13.519      30.573\n",
      "pop           -0.0274      0.008     -3.486      0.000      -0.043      -0.012\n",
      "households     0.0473      0.043      1.109      0.267      -0.036       0.131\n",
      "income         0.0353      0.004      8.909      0.000       0.028       0.043\n",
      "ratio_65     -38.3172     16.619     -2.306      0.021     -70.897      -5.738\n",
      "edut          -0.0155      0.002     -7.444      0.000      -0.020      -0.011\n",
      "==============================================================================\n",
      "Omnibus:                     9627.445   Durbin-Watson:                   1.031\n",
      "Prob(Omnibus):                  0.000   Jarque-Bera (JB):          3613195.015\n",
      "Skew:                           9.162   Prob(JB):                         0.00\n",
      "Kurtosis:                     117.230   Cond. No.                     6.07e+04\n",
      "==============================================================================\n",
      "\n",
      "Warnings:\n",
      "[1] Standard Errors assume that the covariance matrix of the errors is correctly specified.\n",
      "[2] The condition number is large, 6.07e+04. This might indicate that there are\n",
      "strong multicollinearity or other numerical problems.\n"
     ]
    }
   ],
   "source": [
    "FE_ols = smf.ols(formula= 'estabratio ~ 1 +pop+households+income+ratio_65+edut', data = df).fit()\n",
    "print(FE_ols.summary())"
   ]
  },
  {
   "cell_type": "code",
   "execution_count": 69,
   "metadata": {},
   "outputs": [],
   "source": [
    "import numpy as np\n",
    "import pandas as pd\n",
    "import libpysal as ps\n",
    "from mgwr.gwr import GWR, MGWR\n",
    "from mgwr.sel_bw import Sel_BW\n",
    "from mgwr.utils import compare_surfaces, truncate_colormap\n",
    "import geopandas as gp\n",
    "import matplotlib.pyplot as plt\n",
    "import matplotlib as mpl"
   ]
  }
 ],
 "metadata": {
  "kernelspec": {
   "display_name": "Python 3",
   "language": "python",
   "name": "python3"
  },
  "language_info": {
   "codemirror_mode": {
    "name": "ipython",
    "version": 3
   },
   "file_extension": ".py",
   "mimetype": "text/x-python",
   "name": "python",
   "nbconvert_exporter": "python",
   "pygments_lexer": "ipython3",
   "version": "3.7.1"
  }
 },
 "nbformat": 4,
 "nbformat_minor": 2
}
