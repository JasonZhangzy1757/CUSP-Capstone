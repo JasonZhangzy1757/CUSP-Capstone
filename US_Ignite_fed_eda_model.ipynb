{
 "cells": [
  {
   "cell_type": "markdown",
   "metadata": {},
   "source": [
    "# US-Ignite Fed_Notebook"
   ]
  },
  {
   "cell_type": "markdown",
   "metadata": {},
   "source": [
    "# Data from 2009-2016"
   ]
  },
  {
   "cell_type": "code",
   "execution_count": 98,
   "metadata": {},
   "outputs": [],
   "source": [
    "#import libraries from Carto.\n",
    "from cartoframes.auth import set_default_credentials\n",
    "from cartoframes.viz import Map, Layer\n",
    "import cartoframes\n",
    "cartoframes.__version__\n",
    "#from cartoframes.viz.helpers import color_continuous_layer\n",
    "import pandas as pd\n",
    "import geopandas as gpd\n",
    "import requests\n",
    "import json\n",
    "from autocensus import Query #Library from Socrata to gather ACS Data\n",
    "from cartoframes.data.services import Geocoding\n",
    "#import censusdata\n",
    "#set_default_credentials('creds_usignite.json')\n",
    "set_default_credentials(\n",
    "    base_url='https://usignite-admin.carto.com/',\n",
    "    api_key='81c922dc336bd82103d92a768816a4567c444909'\n",
    ")\n",
    "\n",
    "from cartoframes.data.observatory import Catalog, Variable, Geography, Dataset"
   ]
  },
  {
   "cell_type": "code",
   "execution_count": 99,
   "metadata": {},
   "outputs": [],
   "source": [
    "import numpy as np\n",
    "\n",
    "from linearmodels import PanelOLS\n",
    "from linearmodels import RandomEffects\n",
    "import ipywidgets as widgets\n",
    "from ipywidgets import Output, Tab\n",
    "from IPython.display import clear_output\n",
    "from cartoframes.data.services import Isolines\n",
    "from cartoframes.data.observatory import Variable\n",
    "from cartoframes.data.observatory import Enrichment\n",
    "from cartoframes.data.observatory import Catalog"
   ]
  },
  {
   "cell_type": "markdown",
   "metadata": {},
   "source": [
    "# EDA"
   ]
  },
  {
   "cell_type": "code",
   "execution_count": 100,
   "metadata": {},
   "outputs": [],
   "source": [
    "import seaborn as sns"
   ]
  },
  {
   "cell_type": "code",
   "execution_count": 101,
   "metadata": {},
   "outputs": [],
   "source": [
    "df_final=pd.read_csv(\"~/Downloads/Final_merged.csv\")"
   ]
  },
  {
   "cell_type": "code",
   "execution_count": 102,
   "metadata": {},
   "outputs": [
    {
     "data": {
      "text/html": [
       "<div>\n",
       "<style scoped>\n",
       "    .dataframe tbody tr th:only-of-type {\n",
       "        vertical-align: middle;\n",
       "    }\n",
       "\n",
       "    .dataframe tbody tr th {\n",
       "        vertical-align: top;\n",
       "    }\n",
       "\n",
       "    .dataframe thead th {\n",
       "        text-align: right;\n",
       "    }\n",
       "</style>\n",
       "<table border=\"1\" class=\"dataframe\">\n",
       "  <thead>\n",
       "    <tr style=\"text-align: right;\">\n",
       "      <th></th>\n",
       "      <th>Unnamed: 0</th>\n",
       "      <th>geo_id</th>\n",
       "      <th>pop</th>\n",
       "      <th>centroid</th>\n",
       "      <th>year</th>\n",
       "      <th>geometry</th>\n",
       "      <th>edut</th>\n",
       "      <th>collegemale</th>\n",
       "      <th>collegefemale</th>\n",
       "      <th>households</th>\n",
       "      <th>income</th>\n",
       "      <th>gini</th>\n",
       "      <th>total_p</th>\n",
       "      <th>ratio_65</th>\n",
       "      <th>zipcode</th>\n",
       "      <th>geoid</th>\n",
       "      <th>NAICS2012</th>\n",
       "      <th>Empratio</th>\n",
       "      <th>estabratio</th>\n",
       "    </tr>\n",
       "  </thead>\n",
       "  <tbody>\n",
       "    <tr>\n",
       "      <th>0</th>\n",
       "      <td>509</td>\n",
       "      <td>6073015502</td>\n",
       "      <td>208.0</td>\n",
       "      <td>POINT (-116.8304254797509 32.81131603277056)</td>\n",
       "      <td>2010</td>\n",
       "      <td>MULTIPOLYGON (((-116.8583888559341 32.81723278...</td>\n",
       "      <td>1651.0</td>\n",
       "      <td>130.0</td>\n",
       "      <td>107.0</td>\n",
       "      <td>83.0</td>\n",
       "      <td>864.0</td>\n",
       "      <td>0.4400</td>\n",
       "      <td>2748</td>\n",
       "      <td>0.108806</td>\n",
       "      <td>91901</td>\n",
       "      <td>6073015502</td>\n",
       "      <td>0</td>\n",
       "      <td>39.686888</td>\n",
       "      <td>2.360078</td>\n",
       "    </tr>\n",
       "    <tr>\n",
       "      <th>1</th>\n",
       "      <td>509</td>\n",
       "      <td>6073015502</td>\n",
       "      <td>234.0</td>\n",
       "      <td>POINT (-116.8304254797509 32.81131603277056)</td>\n",
       "      <td>2011</td>\n",
       "      <td>MULTIPOLYGON (((-116.8583888559341 32.81723278...</td>\n",
       "      <td>1717.0</td>\n",
       "      <td>124.0</td>\n",
       "      <td>114.0</td>\n",
       "      <td>95.0</td>\n",
       "      <td>896.0</td>\n",
       "      <td>0.4080</td>\n",
       "      <td>2748</td>\n",
       "      <td>0.108806</td>\n",
       "      <td>91901</td>\n",
       "      <td>6073015502</td>\n",
       "      <td>0</td>\n",
       "      <td>41.095890</td>\n",
       "      <td>2.383562</td>\n",
       "    </tr>\n",
       "    <tr>\n",
       "      <th>2</th>\n",
       "      <td>509</td>\n",
       "      <td>6073015502</td>\n",
       "      <td>291.0</td>\n",
       "      <td>POINT (-116.8304254797509 32.81131603277056)</td>\n",
       "      <td>2012</td>\n",
       "      <td>MULTIPOLYGON (((-116.8583888559341 32.81723278...</td>\n",
       "      <td>1790.0</td>\n",
       "      <td>124.0</td>\n",
       "      <td>107.0</td>\n",
       "      <td>113.0</td>\n",
       "      <td>904.0</td>\n",
       "      <td>0.3790</td>\n",
       "      <td>2748</td>\n",
       "      <td>0.108806</td>\n",
       "      <td>91901</td>\n",
       "      <td>6073015502</td>\n",
       "      <td>0</td>\n",
       "      <td>0.293542</td>\n",
       "      <td>0.029354</td>\n",
       "    </tr>\n",
       "    <tr>\n",
       "      <th>3</th>\n",
       "      <td>509</td>\n",
       "      <td>6073015502</td>\n",
       "      <td>365.0</td>\n",
       "      <td>POINT (-116.8304254797509 32.81131603277056)</td>\n",
       "      <td>2013</td>\n",
       "      <td>MULTIPOLYGON (((-116.8583888559341 32.81723278...</td>\n",
       "      <td>1900.0</td>\n",
       "      <td>141.0</td>\n",
       "      <td>148.0</td>\n",
       "      <td>136.0</td>\n",
       "      <td>903.0</td>\n",
       "      <td>0.3782</td>\n",
       "      <td>2748</td>\n",
       "      <td>0.108806</td>\n",
       "      <td>91901</td>\n",
       "      <td>6073015502</td>\n",
       "      <td>0</td>\n",
       "      <td>0.176125</td>\n",
       "      <td>0.017613</td>\n",
       "    </tr>\n",
       "    <tr>\n",
       "      <th>4</th>\n",
       "      <td>509</td>\n",
       "      <td>6073015502</td>\n",
       "      <td>411.0</td>\n",
       "      <td>POINT (-116.8304645225708 32.81130364624261)</td>\n",
       "      <td>2014</td>\n",
       "      <td>MULTIPOLYGON (((-116.8583888559341 32.81723278...</td>\n",
       "      <td>1865.0</td>\n",
       "      <td>143.0</td>\n",
       "      <td>135.0</td>\n",
       "      <td>154.0</td>\n",
       "      <td>883.0</td>\n",
       "      <td>0.3837</td>\n",
       "      <td>2748</td>\n",
       "      <td>0.108806</td>\n",
       "      <td>91901</td>\n",
       "      <td>6073015502</td>\n",
       "      <td>0</td>\n",
       "      <td>0.234834</td>\n",
       "      <td>0.023483</td>\n",
       "    </tr>\n",
       "  </tbody>\n",
       "</table>\n",
       "</div>"
      ],
      "text/plain": [
       "   Unnamed: 0      geo_id    pop  \\\n",
       "0         509  6073015502  208.0   \n",
       "1         509  6073015502  234.0   \n",
       "2         509  6073015502  291.0   \n",
       "3         509  6073015502  365.0   \n",
       "4         509  6073015502  411.0   \n",
       "\n",
       "                                       centroid  year  \\\n",
       "0  POINT (-116.8304254797509 32.81131603277056)  2010   \n",
       "1  POINT (-116.8304254797509 32.81131603277056)  2011   \n",
       "2  POINT (-116.8304254797509 32.81131603277056)  2012   \n",
       "3  POINT (-116.8304254797509 32.81131603277056)  2013   \n",
       "4  POINT (-116.8304645225708 32.81130364624261)  2014   \n",
       "\n",
       "                                            geometry    edut  collegemale  \\\n",
       "0  MULTIPOLYGON (((-116.8583888559341 32.81723278...  1651.0        130.0   \n",
       "1  MULTIPOLYGON (((-116.8583888559341 32.81723278...  1717.0        124.0   \n",
       "2  MULTIPOLYGON (((-116.8583888559341 32.81723278...  1790.0        124.0   \n",
       "3  MULTIPOLYGON (((-116.8583888559341 32.81723278...  1900.0        141.0   \n",
       "4  MULTIPOLYGON (((-116.8583888559341 32.81723278...  1865.0        143.0   \n",
       "\n",
       "   collegefemale  households  income    gini  total_p  ratio_65  zipcode  \\\n",
       "0          107.0        83.0   864.0  0.4400     2748  0.108806    91901   \n",
       "1          114.0        95.0   896.0  0.4080     2748  0.108806    91901   \n",
       "2          107.0       113.0   904.0  0.3790     2748  0.108806    91901   \n",
       "3          148.0       136.0   903.0  0.3782     2748  0.108806    91901   \n",
       "4          135.0       154.0   883.0  0.3837     2748  0.108806    91901   \n",
       "\n",
       "        geoid  NAICS2012   Empratio  estabratio  \n",
       "0  6073015502          0  39.686888    2.360078  \n",
       "1  6073015502          0  41.095890    2.383562  \n",
       "2  6073015502          0   0.293542    0.029354  \n",
       "3  6073015502          0   0.176125    0.017613  \n",
       "4  6073015502          0   0.234834    0.023483  "
      ]
     },
     "execution_count": 102,
     "metadata": {},
     "output_type": "execute_result"
    }
   ],
   "source": [
    "df_final.head()"
   ]
  },
  {
   "cell_type": "code",
   "execution_count": 103,
   "metadata": {},
   "outputs": [
    {
     "data": {
      "text/plain": [
       "array([ 0, 51, 11, 21])"
      ]
     },
     "execution_count": 103,
     "metadata": {},
     "output_type": "execute_result"
    }
   ],
   "source": [
    "df_final['NAICS2012'].unique()"
   ]
  },
  {
   "cell_type": "code",
   "execution_count": 104,
   "metadata": {},
   "outputs": [],
   "source": [
    "data=df_final[['zipcode', 'geoid', 'NAICS2012', 'year', 'edut',\n",
    "       'collegemale', 'collegefemale','pop',\n",
    "       'households', 'income', 'gini', 'total_p', 'ratio_65', 'Empratio',\n",
    "       'estabratio']]"
   ]
  },
  {
   "cell_type": "code",
   "execution_count": 105,
   "metadata": {},
   "outputs": [
    {
     "name": "stderr",
     "output_type": "stream",
     "text": [
      "/Users/jiaqitang/anaconda3/lib/python3.7/site-packages/ipykernel_launcher.py:1: SettingWithCopyWarning: \n",
      "A value is trying to be set on a copy of a slice from a DataFrame.\n",
      "Try using .loc[row_indexer,col_indexer] = value instead\n",
      "\n",
      "See the caveats in the documentation: http://pandas.pydata.org/pandas-docs/stable/indexing.html#indexing-view-versus-copy\n",
      "  \"\"\"Entry point for launching an IPython kernel.\n",
      "/Users/jiaqitang/anaconda3/lib/python3.7/site-packages/ipykernel_launcher.py:2: SettingWithCopyWarning: \n",
      "A value is trying to be set on a copy of a slice from a DataFrame.\n",
      "Try using .loc[row_indexer,col_indexer] = value instead\n",
      "\n",
      "See the caveats in the documentation: http://pandas.pydata.org/pandas-docs/stable/indexing.html#indexing-view-versus-copy\n",
      "  \n"
     ]
    }
   ],
   "source": [
    "data['total_college']=data['collegemale']+data['collegefemale']\n",
    "data['college_ratio']=data['total_college']/data['edut']"
   ]
  },
  {
   "cell_type": "code",
   "execution_count": 106,
   "metadata": {},
   "outputs": [
    {
     "data": {
      "text/plain": [
       "1525         0.023095\n",
       "1532         0.023095\n",
       "1521         0.023095\n",
       "1528         0.023095\n",
       "2628         0.039139\n",
       "2629         0.039139\n",
       "2613         0.039139\n",
       "2614         0.039139\n",
       "2627         0.039139\n",
       "2622         0.039139\n",
       "2621         0.039139\n",
       "2620         0.039139\n",
       "2615         0.039139\n",
       "18876        0.045767\n",
       "18883        0.045767\n",
       "1524         0.046189\n",
       "1523         0.046189\n",
       "1531         0.046189\n",
       "1530         0.046189\n",
       "2616         0.048924\n",
       "2623         0.048924\n",
       "2630         0.048924\n",
       "2624         0.058708\n",
       "2631         0.058708\n",
       "2617         0.058708\n",
       "15220        0.063559\n",
       "15227        0.063559\n",
       "13171        0.068729\n",
       "13178        0.068729\n",
       "13185        0.068729\n",
       "             ...     \n",
       "13741    35945.888424\n",
       "13749    37265.324965\n",
       "13735    37265.324965\n",
       "13742    37265.324965\n",
       "11830    38173.436926\n",
       "11823    38173.436926\n",
       "11816    38173.436926\n",
       "11809    38173.436926\n",
       "11810    38621.870321\n",
       "11824    38621.870321\n",
       "11817    38621.870321\n",
       "11831    38621.870321\n",
       "14533    40095.688002\n",
       "14554    40095.688002\n",
       "14540    40095.688002\n",
       "14547    40095.688002\n",
       "14553    41116.683079\n",
       "14539    41116.683079\n",
       "14532    41116.683079\n",
       "14546    41116.683079\n",
       "16486    50708.770118\n",
       "16493    50708.770118\n",
       "16485    51233.689645\n",
       "16492    51233.689645\n",
       "16226    53762.748393\n",
       "16212    53762.748393\n",
       "16219    53762.748393\n",
       "16227    54823.400890\n",
       "16213    54823.400890\n",
       "16220    54823.400890\n",
       "Name: Empratio, Length: 17514, dtype: float64"
      ]
     },
     "execution_count": 106,
     "metadata": {},
     "output_type": "execute_result"
    }
   ],
   "source": [
    "data['Empratio'][data['Empratio']!=0.0].sort_values()"
   ]
  },
  {
   "cell_type": "code",
   "execution_count": 107,
   "metadata": {},
   "outputs": [
    {
     "data": {
      "text/plain": [
       "count    18928.000000\n",
       "mean       531.719674\n",
       "std       2483.383779\n",
       "min          0.000000\n",
       "25%          1.937632\n",
       "50%         15.930630\n",
       "75%        126.952959\n",
       "max      54823.400890\n",
       "Name: Empratio, dtype: float64"
      ]
     },
     "execution_count": 107,
     "metadata": {},
     "output_type": "execute_result"
    }
   ],
   "source": [
    "data['Empratio'].describe() "
   ]
  },
  {
   "cell_type": "code",
   "execution_count": 108,
   "metadata": {},
   "outputs": [
    {
     "data": {
      "text/plain": [
       "9463         0.000000\n",
       "1600         0.000000\n",
       "1599         0.000000\n",
       "1598         0.000000\n",
       "1597         0.000000\n",
       "1596         0.000000\n",
       "9184         0.000000\n",
       "9185         0.000000\n",
       "9186         0.000000\n",
       "9187         0.000000\n",
       "9188         0.000000\n",
       "9189         0.000000\n",
       "9190         0.000000\n",
       "9191         0.000000\n",
       "1601         0.000000\n",
       "9192         0.000000\n",
       "9194         0.000000\n",
       "9195         0.000000\n",
       "9196         0.000000\n",
       "9197         0.000000\n",
       "9198         0.000000\n",
       "9199         0.000000\n",
       "9200         0.000000\n",
       "9201         0.000000\n",
       "9202         0.000000\n",
       "9203         0.000000\n",
       "9204         0.000000\n",
       "9352         0.000000\n",
       "9353         0.000000\n",
       "9193         0.000000\n",
       "             ...     \n",
       "13734    35945.888424\n",
       "13749    37265.324965\n",
       "13735    37265.324965\n",
       "13742    37265.324965\n",
       "11809    38173.436926\n",
       "11816    38173.436926\n",
       "11823    38173.436926\n",
       "11830    38173.436926\n",
       "11810    38621.870321\n",
       "11831    38621.870321\n",
       "11824    38621.870321\n",
       "11817    38621.870321\n",
       "14540    40095.688002\n",
       "14533    40095.688002\n",
       "14554    40095.688002\n",
       "14547    40095.688002\n",
       "14532    41116.683079\n",
       "14546    41116.683079\n",
       "14553    41116.683079\n",
       "14539    41116.683079\n",
       "16493    50708.770118\n",
       "16486    50708.770118\n",
       "16485    51233.689645\n",
       "16492    51233.689645\n",
       "16226    53762.748393\n",
       "16219    53762.748393\n",
       "16212    53762.748393\n",
       "16213    54823.400890\n",
       "16227    54823.400890\n",
       "16220    54823.400890\n",
       "Name: Empratio, Length: 18928, dtype: float64"
      ]
     },
     "execution_count": 108,
     "metadata": {},
     "output_type": "execute_result"
    }
   ],
   "source": [
    "data['Empratio'].sort_values()"
   ]
  },
  {
   "cell_type": "code",
   "execution_count": 109,
   "metadata": {},
   "outputs": [
    {
     "data": {
      "text/plain": [
       "<matplotlib.axes._subplots.AxesSubplot at 0x1c35d19da0>"
      ]
     },
     "execution_count": 109,
     "metadata": {},
     "output_type": "execute_result"
    },
    {
     "data": {
      "image/png": "[encoded data removed]",
      "text/plain": [
       "<Figure size 432x288 with 1 Axes>"
      ]
     },
     "metadata": {
      "needs_background": "light"
     },
     "output_type": "display_data"
    }
   ],
   "source": [
    "data['Empratio'].plot(kind =\"hist\")"
   ]
  },
  {
   "cell_type": "code",
   "execution_count": 110,
   "metadata": {},
   "outputs": [
    {
     "data": {
      "text/plain": [
       "count    18928.000000\n",
       "mean        25.384300\n",
       "std        101.526305\n",
       "min          0.000000\n",
       "25%          0.119720\n",
       "50%          0.846965\n",
       "75%          5.670561\n",
       "max       1737.422130\n",
       "Name: estabratio, dtype: float64"
      ]
     },
     "execution_count": 110,
     "metadata": {},
     "output_type": "execute_result"
    }
   ],
   "source": [
    "data['estabratio'].describe() "
   ]
  },
  {
   "cell_type": "code",
   "execution_count": 111,
   "metadata": {},
   "outputs": [
    {
     "name": "stderr",
     "output_type": "stream",
     "text": [
      "/Users/jiaqitang/anaconda3/lib/python3.7/site-packages/ipykernel_launcher.py:1: RuntimeWarning: divide by zero encountered in log\n",
      "  \"\"\"Entry point for launching an IPython kernel.\n",
      "/Users/jiaqitang/anaconda3/lib/python3.7/site-packages/ipykernel_launcher.py:1: SettingWithCopyWarning: \n",
      "A value is trying to be set on a copy of a slice from a DataFrame.\n",
      "Try using .loc[row_indexer,col_indexer] = value instead\n",
      "\n",
      "See the caveats in the documentation: http://pandas.pydata.org/pandas-docs/stable/indexing.html#indexing-view-versus-copy\n",
      "  \"\"\"Entry point for launching an IPython kernel.\n"
     ]
    }
   ],
   "source": [
    "data['logesration']=np.log(data['estabratio'])"
   ]
  },
  {
   "cell_type": "code",
   "execution_count": 112,
   "metadata": {},
   "outputs": [
    {
     "data": {
      "text/plain": [
       "<matplotlib.axes._subplots.AxesSubplot at 0x1c34c5d320>"
      ]
     },
     "execution_count": 112,
     "metadata": {},
     "output_type": "execute_result"
    },
    {
     "data": {
      "image/png": "[encoded data removed]",
      "text/plain": [
       "<Figure size 432x288 with 1 Axes>"
      ]
     },
     "metadata": {
      "needs_background": "light"
     },
     "output_type": "display_data"
    }
   ],
   "source": [
    "data['estabratio'].plot(kind =\"hist\")"
   ]
  },
  {
   "cell_type": "code",
   "execution_count": 113,
   "metadata": {},
   "outputs": [
    {
     "name": "stderr",
     "output_type": "stream",
     "text": [
      "/Users/jiaqitang/anaconda3/lib/python3.7/site-packages/ipykernel_launcher.py:1: RuntimeWarning: divide by zero encountered in log\n",
      "  \"\"\"Entry point for launching an IPython kernel.\n"
     ]
    }
   ],
   "source": [
    "loges=np.log(data['estabratio'])"
   ]
  },
  {
   "cell_type": "code",
   "execution_count": 114,
   "metadata": {},
   "outputs": [
    {
     "data": {
      "text/plain": [
       "count    18759.000000\n",
       "mean         0.408813\n",
       "std          0.061328\n",
       "min          0.012800\n",
       "25%          0.368600\n",
       "50%          0.404900\n",
       "75%          0.446000\n",
       "max          0.722600\n",
       "Name: gini, dtype: float64"
      ]
     },
     "execution_count": 114,
     "metadata": {},
     "output_type": "execute_result"
    }
   ],
   "source": [
    "data['gini'].describe() "
   ]
  },
  {
   "cell_type": "code",
   "execution_count": 115,
   "metadata": {},
   "outputs": [
    {
     "data": {
      "text/plain": [
       "<matplotlib.axes._subplots.AxesSubplot at 0x1c2f92ee10>"
      ]
     },
     "execution_count": 115,
     "metadata": {},
     "output_type": "execute_result"
    },
    {
     "data": {
      "image/png": "[encoded data removed]",
      "text/plain": [
       "<Figure size 432x288 with 1 Axes>"
      ]
     },
     "metadata": {
      "needs_background": "light"
     },
     "output_type": "display_data"
    }
   ],
   "source": [
    "data['gini'].plot(kind =\"hist\") "
   ]
  },
  {
   "cell_type": "code",
   "execution_count": 116,
   "metadata": {},
   "outputs": [],
   "source": [
    "corr=data.corr().abs()\n",
    "\n",
    "#upper = corr_matrix.where(np.triu(np.ones(corr_matrix.shape), k=1).astype(np.bool))\n",
    "#to_drop = [column for column in upper.columns if any(upper[column] > 0.95)]\n"
   ]
  },
  {
   "cell_type": "code",
   "execution_count": 118,
   "metadata": {},
   "outputs": [
    {
     "data": {
      "text/plain": [
       "[Text(0.5, 0, 'zipcode'),\n",
       " Text(1.5, 0, 'geoid'),\n",
       " Text(2.5, 0, 'NAICS2012'),\n",
       " Text(3.5, 0, 'year'),\n",
       " Text(4.5, 0, 'edut'),\n",
       " Text(5.5, 0, 'collegemale'),\n",
       " Text(6.5, 0, 'collegefemale'),\n",
       " Text(7.5, 0, 'pop'),\n",
       " Text(8.5, 0, 'households'),\n",
       " Text(9.5, 0, 'income'),\n",
       " Text(10.5, 0, 'gini'),\n",
       " Text(11.5, 0, 'total_p'),\n",
       " Text(12.5, 0, 'ratio_65'),\n",
       " Text(13.5, 0, 'Empratio'),\n",
       " Text(14.5, 0, 'estabratio'),\n",
       " Text(15.5, 0, 'total_college'),\n",
       " Text(16.5, 0, 'college_ratio'),\n",
       " Text(17.5, 0, 'logesration')]"
      ]
     },
     "execution_count": 118,
     "metadata": {},
     "output_type": "execute_result"
    },
    {
     "data": {
      "image/png": "[encoded data removed]",
      "text/plain": [
       "<Figure size 432x288 with 2 Axes>"
      ]
     },
     "metadata": {
      "needs_background": "light"
     },
     "output_type": "display_data"
    }
   ],
   "source": [
    "ax = sns.heatmap(\n",
    "    corr, \n",
    "    vmin=-1, vmax=1, center=0,\n",
    "    cmap=sns.diverging_palette(20, 220, n=200),\n",
    "    square=True\n",
    ")\n",
    "ax.set_xticklabels(\n",
    "    ax.get_xticklabels(),\n",
    "    rotation=45,\n",
    "    horizontalalignment='right'\n",
    ")"
   ]
  },
  {
   "cell_type": "markdown",
   "metadata": {},
   "source": [
    "# modeling "
   ]
  },
  {
   "cell_type": "code",
   "execution_count": 258,
   "metadata": {},
   "outputs": [],
   "source": [
    "df=data"
   ]
  },
  {
   "cell_type": "code",
   "execution_count": 259,
   "metadata": {},
   "outputs": [
    {
     "data": {
      "text/plain": [
       "Index(['zipcode', 'geoid', 'NAICS2012', 'year', 'edut', 'collegemale',\n",
       "       'collegefemale', 'pop', 'households', 'income', 'gini', 'total_p',\n",
       "       'ratio_65', 'Empratio', 'estabratio', 'total_college', 'college_ratio',\n",
       "       'logesration'],\n",
       "      dtype='object')"
      ]
     },
     "execution_count": 259,
     "metadata": {},
     "output_type": "execute_result"
    }
   ],
   "source": [
    "df.columns"
   ]
  },
  {
   "cell_type": "code",
   "execution_count": 260,
   "metadata": {},
   "outputs": [
    {
     "data": {
      "text/html": [
       "<div>\n",
       "<style scoped>\n",
       "    .dataframe tbody tr th:only-of-type {\n",
       "        vertical-align: middle;\n",
       "    }\n",
       "\n",
       "    .dataframe tbody tr th {\n",
       "        vertical-align: top;\n",
       "    }\n",
       "\n",
       "    .dataframe thead th {\n",
       "        text-align: right;\n",
       "    }\n",
       "</style>\n",
       "<table border=\"1\" class=\"dataframe\">\n",
       "  <thead>\n",
       "    <tr style=\"text-align: right;\">\n",
       "      <th></th>\n",
       "      <th>zipcode</th>\n",
       "      <th>geoid</th>\n",
       "      <th>NAICS2012</th>\n",
       "      <th>year</th>\n",
       "      <th>edut</th>\n",
       "      <th>collegemale</th>\n",
       "      <th>collegefemale</th>\n",
       "      <th>pop</th>\n",
       "      <th>households</th>\n",
       "      <th>income</th>\n",
       "      <th>gini</th>\n",
       "      <th>total_p</th>\n",
       "      <th>ratio_65</th>\n",
       "      <th>Empratio</th>\n",
       "      <th>estabratio</th>\n",
       "      <th>total_college</th>\n",
       "      <th>college_ratio</th>\n",
       "      <th>logesration</th>\n",
       "    </tr>\n",
       "  </thead>\n",
       "  <tbody>\n",
       "    <tr>\n",
       "      <th>0</th>\n",
       "      <td>91901</td>\n",
       "      <td>6073015502</td>\n",
       "      <td>0</td>\n",
       "      <td>2010</td>\n",
       "      <td>1651.0</td>\n",
       "      <td>130.0</td>\n",
       "      <td>107.0</td>\n",
       "      <td>208.0</td>\n",
       "      <td>83.0</td>\n",
       "      <td>864.0</td>\n",
       "      <td>0.4400</td>\n",
       "      <td>2748</td>\n",
       "      <td>0.108806</td>\n",
       "      <td>39.686888</td>\n",
       "      <td>2.360078</td>\n",
       "      <td>237.0</td>\n",
       "      <td>0.143549</td>\n",
       "      <td>0.858695</td>\n",
       "    </tr>\n",
       "    <tr>\n",
       "      <th>1</th>\n",
       "      <td>91901</td>\n",
       "      <td>6073015502</td>\n",
       "      <td>0</td>\n",
       "      <td>2011</td>\n",
       "      <td>1717.0</td>\n",
       "      <td>124.0</td>\n",
       "      <td>114.0</td>\n",
       "      <td>234.0</td>\n",
       "      <td>95.0</td>\n",
       "      <td>896.0</td>\n",
       "      <td>0.4080</td>\n",
       "      <td>2748</td>\n",
       "      <td>0.108806</td>\n",
       "      <td>41.095890</td>\n",
       "      <td>2.383562</td>\n",
       "      <td>238.0</td>\n",
       "      <td>0.138614</td>\n",
       "      <td>0.868596</td>\n",
       "    </tr>\n",
       "    <tr>\n",
       "      <th>2</th>\n",
       "      <td>91901</td>\n",
       "      <td>6073015502</td>\n",
       "      <td>0</td>\n",
       "      <td>2012</td>\n",
       "      <td>1790.0</td>\n",
       "      <td>124.0</td>\n",
       "      <td>107.0</td>\n",
       "      <td>291.0</td>\n",
       "      <td>113.0</td>\n",
       "      <td>904.0</td>\n",
       "      <td>0.3790</td>\n",
       "      <td>2748</td>\n",
       "      <td>0.108806</td>\n",
       "      <td>0.293542</td>\n",
       "      <td>0.029354</td>\n",
       "      <td>231.0</td>\n",
       "      <td>0.129050</td>\n",
       "      <td>-3.528319</td>\n",
       "    </tr>\n",
       "    <tr>\n",
       "      <th>3</th>\n",
       "      <td>91901</td>\n",
       "      <td>6073015502</td>\n",
       "      <td>0</td>\n",
       "      <td>2013</td>\n",
       "      <td>1900.0</td>\n",
       "      <td>141.0</td>\n",
       "      <td>148.0</td>\n",
       "      <td>365.0</td>\n",
       "      <td>136.0</td>\n",
       "      <td>903.0</td>\n",
       "      <td>0.3782</td>\n",
       "      <td>2748</td>\n",
       "      <td>0.108806</td>\n",
       "      <td>0.176125</td>\n",
       "      <td>0.017613</td>\n",
       "      <td>289.0</td>\n",
       "      <td>0.152105</td>\n",
       "      <td>-4.039145</td>\n",
       "    </tr>\n",
       "    <tr>\n",
       "      <th>4</th>\n",
       "      <td>91901</td>\n",
       "      <td>6073015502</td>\n",
       "      <td>0</td>\n",
       "      <td>2014</td>\n",
       "      <td>1865.0</td>\n",
       "      <td>143.0</td>\n",
       "      <td>135.0</td>\n",
       "      <td>411.0</td>\n",
       "      <td>154.0</td>\n",
       "      <td>883.0</td>\n",
       "      <td>0.3837</td>\n",
       "      <td>2748</td>\n",
       "      <td>0.108806</td>\n",
       "      <td>0.234834</td>\n",
       "      <td>0.023483</td>\n",
       "      <td>278.0</td>\n",
       "      <td>0.149062</td>\n",
       "      <td>-3.751463</td>\n",
       "    </tr>\n",
       "  </tbody>\n",
       "</table>\n",
       "</div>"
      ],
      "text/plain": [
       "   zipcode       geoid  NAICS2012  year    edut  collegemale  collegefemale  \\\n",
       "0    91901  6073015502          0  2010  1651.0        130.0          107.0   \n",
       "1    91901  6073015502          0  2011  1717.0        124.0          114.0   \n",
       "2    91901  6073015502          0  2012  1790.0        124.0          107.0   \n",
       "3    91901  6073015502          0  2013  1900.0        141.0          148.0   \n",
       "4    91901  6073015502          0  2014  1865.0        143.0          135.0   \n",
       "\n",
       "     pop  households  income    gini  total_p  ratio_65   Empratio  \\\n",
       "0  208.0        83.0   864.0  0.4400     2748  0.108806  39.686888   \n",
       "1  234.0        95.0   896.0  0.4080     2748  0.108806  41.095890   \n",
       "2  291.0       113.0   904.0  0.3790     2748  0.108806   0.293542   \n",
       "3  365.0       136.0   903.0  0.3782     2748  0.108806   0.176125   \n",
       "4  411.0       154.0   883.0  0.3837     2748  0.108806   0.234834   \n",
       "\n",
       "   estabratio  total_college  college_ratio  logesration  \n",
       "0    2.360078          237.0       0.143549     0.858695  \n",
       "1    2.383562          238.0       0.138614     0.868596  \n",
       "2    0.029354          231.0       0.129050    -3.528319  \n",
       "3    0.017613          289.0       0.152105    -4.039145  \n",
       "4    0.023483          278.0       0.149062    -3.751463  "
      ]
     },
     "execution_count": 260,
     "metadata": {},
     "output_type": "execute_result"
    }
   ],
   "source": [
    "df.head()"
   ]
  },
  {
   "cell_type": "code",
   "execution_count": 261,
   "metadata": {},
   "outputs": [],
   "source": [
    "from linearmodels.panel import PooledOLS\n",
    "import statsmodels.api as sm"
   ]
  },
  {
   "cell_type": "code",
   "execution_count": 262,
   "metadata": {},
   "outputs": [
    {
     "name": "stderr",
     "output_type": "stream",
     "text": [
      "/Users/jiaqitang/anaconda3/lib/python3.7/site-packages/ipykernel_launcher.py:1: SettingWithCopyWarning: \n",
      "A value is trying to be set on a copy of a slice from a DataFrame.\n",
      "Try using .loc[row_indexer,col_indexer] = value instead\n",
      "\n",
      "See the caveats in the documentation: http://pandas.pydata.org/pandas-docs/stable/indexing.html#indexing-view-versus-copy\n",
      "  \"\"\"Entry point for launching an IPython kernel.\n"
     ]
    }
   ],
   "source": [
    "df['year'] = pd.to_datetime(df['year'], format='%Y')"
   ]
  },
  {
   "cell_type": "code",
   "execution_count": 263,
   "metadata": {},
   "outputs": [
    {
     "name": "stderr",
     "output_type": "stream",
     "text": [
      "/Users/jiaqitang/anaconda3/lib/python3.7/site-packages/ipykernel_launcher.py:1: SettingWithCopyWarning: \n",
      "A value is trying to be set on a copy of a slice from a DataFrame.\n",
      "Try using .loc[row_indexer,col_indexer] = value instead\n",
      "\n",
      "See the caveats in the documentation: http://pandas.pydata.org/pandas-docs/stable/indexing.html#indexing-view-versus-copy\n",
      "  \"\"\"Entry point for launching an IPython kernel.\n"
     ]
    }
   ],
   "source": [
    "df['year']=df['year'].dt.year"
   ]
  },
  {
   "cell_type": "code",
   "execution_count": 264,
   "metadata": {},
   "outputs": [],
   "source": [
    "#add column year to index\n",
    "df=df.set_index([ 'zipcode','year'])\n",
    "#swap indexes\n",
    "\n",
    "\n"
   ]
  },
  {
   "cell_type": "code",
   "execution_count": 265,
   "metadata": {},
   "outputs": [],
   "source": [
    "import statsmodels.formula.api as smf"
   ]
  },
  {
   "cell_type": "code",
   "execution_count": 266,
   "metadata": {},
   "outputs": [
    {
     "data": {
      "text/plain": [
       "Index(['geoid', 'NAICS2012', 'edut', 'collegemale', 'collegefemale', 'pop',\n",
       "       'households', 'income', 'gini', 'total_p', 'ratio_65', 'Empratio',\n",
       "       'estabratio', 'total_college', 'college_ratio', 'logesration'],\n",
       "      dtype='object')"
      ]
     },
     "execution_count": 266,
     "metadata": {},
     "output_type": "execute_result"
    }
   ],
   "source": [
    "df.columns"
   ]
  },
  {
   "cell_type": "code",
   "execution_count": 267,
   "metadata": {},
   "outputs": [
    {
     "name": "stdout",
     "output_type": "stream",
     "text": [
      "                            OLS Regression Results                            \n",
      "==============================================================================\n",
      "Dep. Variable:             estabratio   R-squared:                       0.018\n",
      "Model:                            OLS   Adj. R-squared:                  0.017\n",
      "Method:                 Least Squares   F-statistic:                     56.20\n",
      "Date:                Tue, 25 Feb 2020   Prob (F-statistic):           3.75e-69\n",
      "Time:                        15:50:10   Log-Likelihood:            -1.1372e+05\n",
      "No. Observations:               18853   AIC:                         2.275e+05\n",
      "Df Residuals:                   18846   BIC:                         2.275e+05\n",
      "Df Model:                           6                                         \n",
      "Covariance Type:            nonrobust                                         \n",
      "=================================================================================\n",
      "                    coef    std err          t      P>|t|      [0.025      0.975]\n",
      "---------------------------------------------------------------------------------\n",
      "Intercept        23.6775      2.766      8.559      0.000      18.255      29.100\n",
      "pop              -0.0312      0.005     -6.235      0.000      -0.041      -0.021\n",
      "households        0.0494      0.026      1.872      0.061      -0.002       0.101\n",
      "income            0.0362      0.002     14.482      0.000       0.031       0.041\n",
      "ratio_65        -47.7847     10.046     -4.756      0.000     -67.476     -28.093\n",
      "edut             -0.0152      0.001    -11.754      0.000      -0.018      -0.013\n",
      "total_college    -0.0006      0.002     -0.278      0.781      -0.005       0.004\n",
      "==============================================================================\n",
      "Omnibus:                    27623.380   Durbin-Watson:                   1.022\n",
      "Prob(Omnibus):                  0.000   Jarque-Bera (JB):          9699824.399\n",
      "Skew:                           9.015   Prob(JB):                         0.00\n",
      "Kurtosis:                     112.649   Cond. No.                     6.12e+04\n",
      "==============================================================================\n",
      "\n",
      "Warnings:\n",
      "[1] Standard Errors assume that the covariance matrix of the errors is correctly specified.\n",
      "[2] The condition number is large, 6.12e+04. This might indicate that there are\n",
      "strong multicollinearity or other numerical problems.\n"
     ]
    }
   ],
   "source": [
    "FE_ols1 = smf.ols(formula= 'estabratio ~ 1 +pop+households+income+ratio_65+edut+total_college', data = df).fit()\n",
    "print(FE_ols1.summary())"
   ]
  },
  {
   "cell_type": "code",
   "execution_count": 268,
   "metadata": {},
   "outputs": [
    {
     "name": "stdout",
     "output_type": "stream",
     "text": [
      "                            OLS Regression Results                            \n",
      "==============================================================================\n",
      "Dep. Variable:             estabratio   R-squared:                       0.018\n",
      "Model:                            OLS   Adj. R-squared:                  0.017\n",
      "Method:                 Least Squares   F-statistic:                     56.11\n",
      "Date:                Tue, 25 Feb 2020   Prob (F-statistic):           4.83e-69\n",
      "Time:                        15:50:10   Log-Likelihood:            -1.1350e+05\n",
      "No. Observations:               18812   AIC:                         2.270e+05\n",
      "Df Residuals:                   18805   BIC:                         2.271e+05\n",
      "Df Model:                           6                                         \n",
      "Covariance Type:            nonrobust                                         \n",
      "=================================================================================\n",
      "                    coef    std err          t      P>|t|      [0.025      0.975]\n",
      "---------------------------------------------------------------------------------\n",
      "Intercept        24.0256      2.853      8.422      0.000      18.434      29.617\n",
      "pop              -0.0313      0.005     -6.427      0.000      -0.041      -0.022\n",
      "households        0.0528      0.027      1.969      0.049       0.000       0.105\n",
      "income            0.0359      0.002     14.423      0.000       0.031       0.041\n",
      "ratio_65        -52.1985     10.848     -4.812      0.000     -73.462     -30.935\n",
      "edut             -0.0153      0.001    -11.856      0.000      -0.018      -0.013\n",
      "college_ratio    -0.1713      7.659     -0.022      0.982     -15.184      14.841\n",
      "==============================================================================\n",
      "Omnibus:                    27548.055   Durbin-Watson:                   1.022\n",
      "Prob(Omnibus):                  0.000   Jarque-Bera (JB):          9640951.966\n",
      "Skew:                           9.006   Prob(JB):                         0.00\n",
      "Kurtosis:                     112.432   Cond. No.                     6.50e+04\n",
      "==============================================================================\n",
      "\n",
      "Warnings:\n",
      "[1] Standard Errors assume that the covariance matrix of the errors is correctly specified.\n",
      "[2] The condition number is large, 6.5e+04. This might indicate that there are\n",
      "strong multicollinearity or other numerical problems.\n"
     ]
    }
   ],
   "source": [
    "FE_ols2 = smf.ols(formula= 'estabratio ~ 1 +pop+households+income+ratio_65+edut+college_ratio', data = df).fit()\n",
    "print(FE_ols2.summary())"
   ]
  },
  {
   "cell_type": "code",
   "execution_count": 269,
   "metadata": {},
   "outputs": [
    {
     "name": "stdout",
     "output_type": "stream",
     "text": [
      "                            OLS Regression Results                            \n",
      "==============================================================================\n",
      "Dep. Variable:             estabratio   R-squared:                       0.018\n",
      "Model:                            OLS   Adj. R-squared:                  0.017\n",
      "Method:                 Least Squares   F-statistic:                     67.42\n",
      "Date:                Tue, 25 Feb 2020   Prob (F-statistic):           4.50e-70\n",
      "Time:                        15:50:11   Log-Likelihood:            -1.1372e+05\n",
      "No. Observations:               18853   AIC:                         2.275e+05\n",
      "Df Residuals:                   18847   BIC:                         2.275e+05\n",
      "Df Model:                           5                                         \n",
      "Covariance Type:            nonrobust                                         \n",
      "==============================================================================\n",
      "                 coef    std err          t      P>|t|      [0.025      0.975]\n",
      "------------------------------------------------------------------------------\n",
      "Intercept     23.8631      2.684      8.889      0.000      18.601      29.125\n",
      "pop           -0.0308      0.005     -6.488      0.000      -0.040      -0.021\n",
      "households     0.0481      0.026      1.852      0.064      -0.003       0.099\n",
      "income         0.0360      0.002     14.978      0.000       0.031       0.041\n",
      "ratio_65     -47.9754     10.022     -4.787      0.000     -67.620     -28.330\n",
      "edut          -0.0153      0.001    -12.119      0.000      -0.018      -0.013\n",
      "==============================================================================\n",
      "Omnibus:                    27621.361   Durbin-Watson:                   1.022\n",
      "Prob(Omnibus):                  0.000   Jarque-Bera (JB):          9696446.434\n",
      "Skew:                           9.014   Prob(JB):                         0.00\n",
      "Kurtosis:                     112.630   Cond. No.                     5.98e+04\n",
      "==============================================================================\n",
      "\n",
      "Warnings:\n",
      "[1] Standard Errors assume that the covariance matrix of the errors is correctly specified.\n",
      "[2] The condition number is large, 5.98e+04. This might indicate that there are\n",
      "strong multicollinearity or other numerical problems.\n"
     ]
    }
   ],
   "source": [
    "FE_ols3 = smf.ols(formula= 'estabratio ~ 1 +pop+households+income+ratio_65+edut', data = df).fit()\n",
    "print(FE_ols3.summary())"
   ]
  },
  {
   "cell_type": "code",
   "execution_count": 270,
   "metadata": {},
   "outputs": [
    {
     "name": "stdout",
     "output_type": "stream",
     "text": [
      "                            OLS Regression Results                            \n",
      "==============================================================================\n",
      "Dep. Variable:             estabratio   R-squared:                       0.017\n",
      "Model:                            OLS   Adj. R-squared:                  0.017\n",
      "Method:                 Least Squares   F-statistic:                     83.41\n",
      "Date:                Tue, 25 Feb 2020   Prob (F-statistic):           2.53e-70\n",
      "Time:                        15:50:12   Log-Likelihood:            -1.1373e+05\n",
      "No. Observations:               18853   AIC:                         2.275e+05\n",
      "Df Residuals:                   18848   BIC:                         2.275e+05\n",
      "Df Model:                           4                                         \n",
      "Covariance Type:            nonrobust                                         \n",
      "==============================================================================\n",
      "                 coef    std err          t      P>|t|      [0.025      0.975]\n",
      "------------------------------------------------------------------------------\n",
      "Intercept     26.5308      2.266     11.711      0.000      22.090      30.971\n",
      "pop           -0.0277      0.004     -6.231      0.000      -0.036      -0.019\n",
      "income         0.0374      0.002     16.458      0.000       0.033       0.042\n",
      "ratio_65     -44.3467      9.830     -4.511      0.000     -63.614     -25.079\n",
      "edut          -0.0155      0.001    -12.242      0.000      -0.018      -0.013\n",
      "==============================================================================\n",
      "Omnibus:                    27626.448   Durbin-Watson:                   1.022\n",
      "Prob(Omnibus):                  0.000   Jarque-Bera (JB):          9698439.452\n",
      "Skew:                           9.017   Prob(JB):                         0.00\n",
      "Kurtosis:                     112.640   Cond. No.                     5.89e+04\n",
      "==============================================================================\n",
      "\n",
      "Warnings:\n",
      "[1] Standard Errors assume that the covariance matrix of the errors is correctly specified.\n",
      "[2] The condition number is large, 5.89e+04. This might indicate that there are\n",
      "strong multicollinearity or other numerical problems.\n"
     ]
    }
   ],
   "source": [
    "FE_olsfinal = smf.ols(formula= 'estabratio ~ 1 +pop+income+ratio_65+edut', data = df).fit()\n",
    "print(FE_olsfinal.summary())"
   ]
  },
  {
   "cell_type": "code",
   "execution_count": 271,
   "metadata": {},
   "outputs": [],
   "source": [
    "import numpy as np\n",
    "import pandas as pd\n",
    "import libpysal as ps\n",
    "from mgwr.gwr import GWR, MGWR\n",
    "from mgwr.sel_bw import Sel_BW\n",
    "from mgwr.utils import compare_surfaces, truncate_colormap\n",
    "import geopandas as gp\n",
    "import matplotlib.pyplot as plt\n",
    "import matplotlib as mpl"
   ]
  },
  {
   "cell_type": "code",
   "execution_count": 272,
   "metadata": {},
   "outputs": [
    {
     "data": {
      "text/plain": [
       "Index(['geoid', 'NAICS2012', 'edut', 'collegemale', 'collegefemale', 'pop',\n",
       "       'households', 'income', 'gini', 'total_p', 'ratio_65', 'Empratio',\n",
       "       'estabratio', 'total_college', 'college_ratio', 'logesration'],\n",
       "      dtype='object')"
      ]
     },
     "execution_count": 272,
     "metadata": {},
     "output_type": "execute_result"
    }
   ],
   "source": [
    "df.columns"
   ]
  },
  {
   "cell_type": "code",
   "execution_count": 273,
   "metadata": {},
   "outputs": [],
   "source": [
    "\n",
    "year = pd.to_datetime(data['year'], format='%Y')"
   ]
  },
  {
   "cell_type": "code",
   "execution_count": 274,
   "metadata": {},
   "outputs": [],
   "source": [
    "\n",
    "year = pd.Categorical(year)"
   ]
  },
  {
   "cell_type": "code",
   "execution_count": 275,
   "metadata": {},
   "outputs": [],
   "source": [
    "df['year'] = year"
   ]
  },
  {
   "cell_type": "code",
   "execution_count": 276,
   "metadata": {},
   "outputs": [],
   "source": [
    "df['year']=df['year'].apply(lambda x: x.strftime('%Y') )"
   ]
  },
  {
   "cell_type": "code",
   "execution_count": 277,
   "metadata": {},
   "outputs": [],
   "source": [
    "df.dropna(inplace=True)"
   ]
  },
  {
   "cell_type": "code",
   "execution_count": 278,
   "metadata": {},
   "outputs": [],
   "source": [
    "\n",
    "exog_vars = ['pop','income','ratio_65','edut','year']\n",
    "exog = sm.add_constant(df[exog_vars])"
   ]
  },
  {
   "cell_type": "code",
   "execution_count": 279,
   "metadata": {},
   "outputs": [
    {
     "data": {
      "text/plain": [
       "geoid            0\n",
       "NAICS2012        0\n",
       "edut             0\n",
       "collegemale      0\n",
       "collegefemale    0\n",
       "pop              0\n",
       "households       0\n",
       "income           0\n",
       "gini             0\n",
       "total_p          0\n",
       "ratio_65         0\n",
       "Empratio         0\n",
       "estabratio       0\n",
       "total_college    0\n",
       "college_ratio    0\n",
       "logesration      0\n",
       "year             0\n",
       "dtype: int64"
      ]
     },
     "execution_count": 279,
     "metadata": {},
     "output_type": "execute_result"
    }
   ],
   "source": [
    "df.isnull().values.any()\n",
    "df.isnull().sum()"
   ]
  },
  {
   "cell_type": "code",
   "execution_count": 280,
   "metadata": {},
   "outputs": [],
   "source": [
    "from linearmodels.panel import RandomEffects\n",
    "mod = RandomEffects(df.estabratio , exog)\n"
   ]
  },
  {
   "cell_type": "code",
   "execution_count": 282,
   "metadata": {},
   "outputs": [
    {
     "name": "stdout",
     "output_type": "stream",
     "text": [
      "                        RandomEffects Estimation Summary                        \n",
      "================================================================================\n",
      "Dep. Variable:             estabratio   R-squared:                        0.1499\n",
      "Estimator:              RandomEffects   R-squared (Between):              0.0020\n",
      "No. Observations:               18728   R-squared (Within):               0.1501\n",
      "Date:                Tue, Feb 25 2020   R-squared (Overall):              0.1467\n",
      "Time:                        15:50:48   Log-likelihood                -1.113e+05\n",
      "Cov. Estimator:            Unadjusted                                           \n",
      "                                        F-statistic:                      330.07\n",
      "Entities:                          85   P-value                           0.0000\n",
      "Avg Obs:                       220.33   Distribution:                F(10,18717)\n",
      "Min Obs:                       7.0000                                           \n",
      "Max Obs:                       504.00   F-statistic (robust):             329.13\n",
      "                                        P-value                           0.0000\n",
      "Time periods:                       7   Distribution:                F(10,18717)\n",
      "Avg Obs:                       2675.4                                           \n",
      "Min Obs:                       2672.0                                           \n",
      "Max Obs:                       2676.0                                           \n",
      "                                                                                \n",
      "                             Parameter Estimates                              \n",
      "==============================================================================\n",
      "            Parameter  Std. Err.     T-stat    P-value    Lower CI    Upper CI\n",
      "------------------------------------------------------------------------------\n",
      "const          81.965     4.3181     18.982     0.0000      73.501      90.429\n",
      "pop           -0.0192     0.0048    -4.0096     0.0001     -0.0286     -0.0098\n",
      "income         0.0243     0.0026     9.1970     0.0000      0.0191      0.0295\n",
      "ratio_65      -51.630     11.202    -4.6089     0.0000     -73.588     -29.673\n",
      "edut          -0.0081     0.0014    -5.6387     0.0000     -0.0109     -0.0053\n",
      "year.2011      0.4806     2.5213     0.1906     0.8488     -4.4613      5.4225\n",
      "year.2012     -82.488     2.5241    -32.680     0.0000     -87.435     -77.540\n",
      "year.2013     -82.291     2.5268    -32.567     0.0000     -87.243     -77.338\n",
      "year.2014     -81.811     2.5328    -32.301     0.0000     -86.775     -76.846\n",
      "year.2015     -81.479     2.5386    -32.096     0.0000     -86.455     -76.503\n",
      "year.2016     -81.380     2.5418    -32.017     0.0000     -86.362     -76.398\n",
      "==============================================================================\n"
     ]
    }
   ],
   "source": [
    "re_res = mod.fit()\n",
    "print(re_res)"
   ]
  },
  {
   "cell_type": "code",
   "execution_count": 283,
   "metadata": {},
   "outputs": [],
   "source": [
    "\n",
    "exog_vars1 = ['pop','income','ratio_65','edut']\n",
    "exog1 = sm.add_constant(df[exog_vars1])"
   ]
  },
  {
   "cell_type": "code",
   "execution_count": 284,
   "metadata": {},
   "outputs": [
    {
     "name": "stdout",
     "output_type": "stream",
     "text": [
      "                            OLS Regression Results                            \n",
      "==============================================================================\n",
      "Dep. Variable:             estabratio   R-squared:                       0.017\n",
      "Model:                            OLS   Adj. R-squared:                  0.017\n",
      "Method:                 Least Squares   F-statistic:                     82.33\n",
      "Date:                Tue, 25 Feb 2020   Prob (F-statistic):           2.10e-69\n",
      "Time:                        15:50:52   Log-Likelihood:            -1.1303e+05\n",
      "No. Observations:               18728   AIC:                         2.261e+05\n",
      "Df Residuals:                   18723   BIC:                         2.261e+05\n",
      "Df Model:                           4                                         \n",
      "Covariance Type:            nonrobust                                         \n",
      "==============================================================================\n",
      "                 coef    std err          t      P>|t|      [0.025      0.975]\n",
      "------------------------------------------------------------------------------\n",
      "Intercept     27.5526      2.360     11.677      0.000      22.928      32.178\n",
      "pop           -0.0284      0.004     -6.325      0.000      -0.037      -0.020\n",
      "income         0.0375      0.002     16.403      0.000       0.033       0.042\n",
      "ratio_65     -50.9891     11.049     -4.615      0.000     -72.646     -29.332\n",
      "edut          -0.0155      0.001    -12.228      0.000      -0.018      -0.013\n",
      "==============================================================================\n",
      "Omnibus:                    27395.520   Durbin-Watson:                   1.022\n",
      "Prob(Omnibus):                  0.000   Jarque-Bera (JB):          9514031.857\n",
      "Skew:                           8.990   Prob(JB):                         0.00\n",
      "Kurtosis:                     111.945   Cond. No.                     6.59e+04\n",
      "==============================================================================\n",
      "\n",
      "Warnings:\n",
      "[1] Standard Errors assume that the covariance matrix of the errors is correctly specified.\n",
      "[2] The condition number is large, 6.59e+04. This might indicate that there are\n",
      "strong multicollinearity or other numerical problems.\n"
     ]
    }
   ],
   "source": [
    "FE_olsfinal = smf.ols(formula= 'estabratio ~ 1 +pop+income+ratio_65+edut', data = df).fit()\n",
    "print(FE_olsfinal.summary())"
   ]
  },
  {
   "cell_type": "code",
   "execution_count": 285,
   "metadata": {},
   "outputs": [
    {
     "name": "stdout",
     "output_type": "stream",
     "text": [
      "                          PanelOLS Estimation Summary                           \n",
      "================================================================================\n",
      "Dep. Variable:             estabratio   R-squared:                        0.0085\n",
      "Estimator:                   PanelOLS   R-squared (Between):             -0.0128\n",
      "No. Observations:               18728   R-squared (Within):               0.0116\n",
      "Date:                Tue, Feb 25 2020   R-squared (Overall):              0.0145\n",
      "Time:                        15:50:53   Log-likelihood                -1.112e+05\n",
      "Cov. Estimator:            Unadjusted                                           \n",
      "                                        F-statistic:                      39.943\n",
      "Entities:                          85   P-value                           0.0000\n",
      "Avg Obs:                       220.33   Distribution:                 F(4,18633)\n",
      "Min Obs:                       7.0000                                           \n",
      "Max Obs:                       504.00   F-statistic (robust):             39.943\n",
      "                                        P-value                           0.0000\n",
      "Time periods:                       7   Distribution:                 F(4,18633)\n",
      "Avg Obs:                       2675.4                                           \n",
      "Min Obs:                       2672.0                                           \n",
      "Max Obs:                       2676.0                                           \n",
      "                                                                                \n",
      "                             Parameter Estimates                              \n",
      "==============================================================================\n",
      "            Parameter  Std. Err.     T-stat    P-value    Lower CI    Upper CI\n",
      "------------------------------------------------------------------------------\n",
      "const          21.526     2.5251     8.5249     0.0000      16.577      26.476\n",
      "pop           -0.0168     0.0052    -3.2437     0.0012     -0.0270     -0.0067\n",
      "income         0.0251     0.0027     9.1672     0.0000      0.0197      0.0305\n",
      "ratio_65      -50.360     11.318    -4.4494     0.0000     -72.545     -28.175\n",
      "edut          -0.0085     0.0015    -5.6838     0.0000     -0.0114     -0.0055\n",
      "==============================================================================\n",
      "\n",
      "F-test for Poolability: 43.554\n",
      "P-value: 0.0000\n",
      "Distribution: F(90,18633)\n",
      "\n",
      "Included effects: Entity, Time\n"
     ]
    }
   ],
   "source": [
    "mod2 = PanelOLS(df.estabratio, exog1, entity_effects=True, time_effects=True)\n",
    "fe_te_res = mod2.fit()\n",
    "print(fe_te_res)"
   ]
  },
  {
   "cell_type": "code",
   "execution_count": 286,
   "metadata": {},
   "outputs": [
    {
     "name": "stdout",
     "output_type": "stream",
     "text": [
      "                    Model Comparison                    \n",
      "========================================================\n",
      "                                       RE         Pooled\n",
      "--------------------------------------------------------\n",
      "Dep. Variable                  estabratio     estabratio\n",
      "Estimator                   RandomEffects       PanelOLS\n",
      "No. Observations                    18728          18728\n",
      "Cov. Est.                      Unadjusted     Unadjusted\n",
      "R-squared                          0.1499         0.0085\n",
      "R-Squared (Within)                 0.1501         0.0116\n",
      "R-Squared (Between)                0.0020        -0.0128\n",
      "R-Squared (Overall)                0.1467         0.0145\n",
      "F-statistic                        330.07         39.943\n",
      "P-value (F-stat)                   0.0000         0.0000\n",
      "=====================     ===============   ============\n",
      "const                              81.965         21.526\n",
      "                                 (18.982)       (8.5249)\n",
      "pop                               -0.0192        -0.0168\n",
      "                                (-4.0096)      (-3.2437)\n",
      "income                             0.0243         0.0251\n",
      "                                 (9.1970)       (9.1672)\n",
      "ratio_65                          -51.630        -50.360\n",
      "                                (-4.6089)      (-4.4494)\n",
      "edut                              -0.0081        -0.0085\n",
      "                                (-5.6387)      (-5.6838)\n",
      "year.2011                          0.4806               \n",
      "                                 (0.1906)               \n",
      "year.2012                         -82.488               \n",
      "                                (-32.680)               \n",
      "year.2013                         -82.291               \n",
      "                                (-32.567)               \n",
      "year.2014                         -81.811               \n",
      "                                (-32.301)               \n",
      "year.2015                         -81.479               \n",
      "                                (-32.096)               \n",
      "year.2016                         -81.380               \n",
      "                                (-32.017)               \n",
      "======================= ================= ==============\n",
      "Effects                                           Entity\n",
      "                                                    Time\n",
      "--------------------------------------------------------\n",
      "\n",
      "T-stats reported in parentheses\n"
     ]
    }
   ],
   "source": [
    "from linearmodels.panel import compare\n",
    "print(compare({'RE':re_res,'Pooled':fe_te_res}))"
   ]
  },
  {
   "cell_type": "code",
   "execution_count": null,
   "metadata": {},
   "outputs": [],
   "source": []
  }
 ],
 "metadata": {
  "kernelspec": {
   "display_name": "Python 3",
   "language": "python",
   "name": "python3"
  },
  "language_info": {
   "codemirror_mode": {
    "name": "ipython",
    "version": 3
   },
   "file_extension": ".py",
   "mimetype": "text/x-python",
   "name": "python",
   "nbconvert_exporter": "python",
   "pygments_lexer": "ipython3",
   "version": "3.7.1"
  }
 },
 "nbformat": 4,
 "nbformat_minor": 2
}
