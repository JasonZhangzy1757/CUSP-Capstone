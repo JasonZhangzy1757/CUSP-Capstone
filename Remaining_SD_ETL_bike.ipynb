{
 "cells": [
  {
   "cell_type": "code",
   "execution_count": 1,
   "metadata": {},
   "outputs": [
    {
     "ename": "ModuleNotFoundError",
     "evalue": "No module named 'cityiq'",
     "output_type": "error",
     "traceback": [
      "\u001b[1;31m---------------------------------------------------------------------------\u001b[0m",
      "\u001b[1;31mModuleNotFoundError\u001b[0m                       Traceback (most recent call last)",
      "\u001b[1;32m<ipython-input-1-794400b69756>\u001b[0m in \u001b[0;36m<module>\u001b[1;34m()\u001b[0m\n\u001b[0;32m      9\u001b[0m \u001b[1;33m\u001b[0m\u001b[0m\n\u001b[0;32m     10\u001b[0m \u001b[1;31m# import CityIq and libraries for timing\u001b[0m\u001b[1;33m\u001b[0m\u001b[1;33m\u001b[0m\u001b[0m\n\u001b[1;32m---> 11\u001b[1;33m \u001b[1;32mfrom\u001b[0m \u001b[0mcityiq\u001b[0m \u001b[1;32mimport\u001b[0m \u001b[0mCityIq\u001b[0m\u001b[1;33m\u001b[0m\u001b[0m\n\u001b[0m\u001b[0;32m     12\u001b[0m \u001b[1;32mimport\u001b[0m \u001b[0mtime\u001b[0m\u001b[1;33m\u001b[0m\u001b[0m\n\u001b[0;32m     13\u001b[0m \u001b[1;32mimport\u001b[0m \u001b[0mjson\u001b[0m\u001b[1;33m\u001b[0m\u001b[0m\n",
      "\u001b[1;31mModuleNotFoundError\u001b[0m: No module named 'cityiq'"
     ]
    }
   ],
   "source": [
    "#import libraries\n",
    "#from cartoframes.auth import set_default_credentials, Credentials\n",
    "from cartoframes.viz import Map, Layer\n",
    "from cartoframes.data import Dataset\n",
    "from cartoframes.viz.helpers import color_continuous_layer\n",
    "import pandas as pd\n",
    "import geopandas as gpd\n",
    "from shapely.geometry import Point\n",
    "\n",
    "# import CityIq and libraries for timing\n",
    "from cityiq import CityIq\n",
    "import time\n",
    "import json\n",
    "\n",
    "#load .env with credentials\n",
    "from dotenv import load_dotenv\n",
    "load_dotenv()\n",
    "\n",
    "import os\n",
    "BASE_URL = os.getenv(\"BASE_URL\")\n",
    "API_KEY = os.getenv(\"API_KEY\")\n",
    "USERNAME = os.getenv(\"USERNAME\")\n",
    "\n",
    "set_default_credentials(\n",
    "    base_url=BASE_URL,\n",
    "    api_key=API_KEY\n",
    ")\n",
    "\n",
    "credentials = Credentials(USERNAME, API_KEY)"
   ]
  },
  {
   "cell_type": "code",
   "execution_count": null,
   "metadata": {},
   "outputs": [],
   "source": [
    "# set time frame for use when querying for events (epoch time in milliseconds)\n",
    "endTime = int(time.time())*1000 # time when demo.py is run\n",
    "startTime = endTime-3600000 # startTime is 1 hour before endTime\n",
    "\n",
    "# get CityIq token\n",
    "myCIQ = CityIq(\"City\")\n",
    "myCIQ.fetchToken()\n",
    "\n",
    "# getting assets - assets with BICYCLE events\n",
    "myCIQ.fetchMetadata(\"assets\",\"bicycle\",\"eventTypes:BICYCLE\")\n",
    "san_diego_bicycle_sensor_metadata = myCIQ.getAssets()"
   ]
  },
  {
   "cell_type": "code",
   "execution_count": null,
   "metadata": {},
   "outputs": [],
   "source": [
    "san_diego_bicycle_sensor_metadata_df = pd.DataFrame(san_diego_bicycle_sensor_metadata)\n",
    "san_diego_bicycle_sensor_metadata_df.dropna(inplace = True)\n",
    "# split coordinates into lat and lng \n",
    "latlng = san_diego_bicycle_sensor_metadata_df[\"coordinates\"].str.split(\":\", n = 1, expand = True) \n",
    "\n",
    "san_diego_bicycle_sensor_metadata_df[\"latitude\"]= latlng[0].astype(float)\n",
    "san_diego_bicycle_sensor_metadata_df[\"longitude\"]= latlng[1].astype(float)\n",
    "#print(san_diego_bicycle_sensor_metadata_df)\n",
    "\n",
    "san_diego_bicycle_sensor_metadata_gdf = gpd.GeoDataFrame(san_diego_bicycle_sensor_metadata_df, geometry=gpd.points_from_xy(san_diego_bicycle_sensor_metadata_df.longitude, san_diego_bicycle_sensor_metadata_df.latitude))\n",
    "print(san_diego_bicycle_sensor_metadata_gdf)"
   ]
  },
  {
   "cell_type": "code",
   "execution_count": null,
   "metadata": {},
   "outputs": [],
   "source": [
    "san_diego_bicycle_sensor_metadata_d = Dataset(san_diego_bicycle_sensor_metadata_gdf)\n",
    "san_diego_bicycle_sensor_metadata_d.upload(table_name='san_diego_bicycle_sensor_metadata', if_exists='replace', credentials=credentials)"
   ]
  },
  {
   "cell_type": "code",
   "execution_count": null,
   "metadata": {},
   "outputs": [],
   "source": [
    "# empty list to collect events\n",
    "san_diego_bicycle_sensor_events_list = []\n",
    "# loop through assets to fetch events for each asset\n",
    "for index, row in san_diego_bicycle_sensor_metadata_gdf.iterrows():\n",
    "    myCIQ.fetchEvents(\"assets\", row.assetUid, \"BICYCLE\", startTime, endTime, pageSize=500)\n",
    "    assetEvents = myCIQ.getEvents()\n",
    "    for a in assetEvents:\n",
    "        a[\"latitude\"] = row.latitude\n",
    "        a[\"longitude\"] = row.longitude\n",
    "        a[\"directionUnit\"] = a[\"properties\"][\"directionUnit\"]\n",
    "        a[\"speedUnit\"] = a[\"properties\"][\"speedUnit\"]\n",
    "        a[\"eventUid\"] = a[\"properties\"][\"eventUid\"]\n",
    "        a[\"counter_direction_speed\"] = a[\"measures\"][\"counter_direction_speed\"]\n",
    "        a[\"counter_direction_bicycleCount\"] = a[\"measures\"][\"counter_direction_bicycleCount\"]\n",
    "        a[\"bicycleCount\"] = a[\"measures\"][\"bicycleCount\"]\n",
    "        a[\"counter_direction\"] = a[\"measures\"][\"counter_direction\"]\n",
    "        a[\"speed\"] = a[\"measures\"][\"speed\"]\n",
    "        a[\"direction\"] = a[\"measures\"][\"direction\"]\n",
    "        san_diego_bicycle_sensor_events_list.append(a)\n",
    "\n",
    "#     assetEvents_df = pd.DataFrame(assetEvents)\n",
    "#     assetEvents_df[\"latitude\"] = row.latitude\n",
    "#     assetEvents_df[\"longitude\"] = row.longitude\n",
    "#     san_diego_bicycle_sensor_events_list.append(assetEvents)\n",
    "    \n",
    "# print(san_diego_bicycle_sensor_events_list)\n",
    "san_diego_bicycle_sensor_events_df = pd.DataFrame(san_diego_bicycle_sensor_events_list)\n",
    "san_diego_bicycle_sensor_events_df.dropna(inplace = True)\n",
    "# print(san_diego_bicycle_sensor_events_df)\n",
    "    \n",
    "    \n",
    "san_diego_bicycle_sensor_events_gdf = gpd.GeoDataFrame(san_diego_bicycle_sensor_events_df, geometry=gpd.points_from_xy(san_diego_bicycle_sensor_events_df.longitude, san_diego_bicycle_sensor_events_df.latitude))\n",
    "san_diego_bicycle_sensor_events_d = Dataset(san_diego_bicycle_sensor_events_gdf)\n",
    "san_diego_bicycle_sensor_events_d.upload(table_name='san_diego_bicycle_sensor_events', if_exists='append', credentials=credentials)\n"
   ]
  }
 ],
 "metadata": {
  "kernelspec": {
   "display_name": "Python 3",
   "language": "python",
   "name": "python3"
  },
  "language_info": {
   "codemirror_mode": {
    "name": "ipython",
    "version": 3
   },
   "file_extension": ".py",
   "mimetype": "text/x-python",
   "name": "python",
   "nbconvert_exporter": "python",
   "pygments_lexer": "ipython3",
   "version": "3.6.5"
  }
 },
 "nbformat": 4,
 "nbformat_minor": 2
}
