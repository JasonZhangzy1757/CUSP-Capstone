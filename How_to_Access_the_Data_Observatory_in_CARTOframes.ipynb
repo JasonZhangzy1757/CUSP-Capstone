{
 "cells": [
  {
   "cell_type": "markdown",
   "metadata": {},
   "source": [
    "## How to Access the Data Observatory in CARTOframes\n",
    "This notebook outlines how to look through the Data Observatory catalouge in CARTOframes, aquire data and enrich data via CARTOframes"
   ]
  },
  {
   "cell_type": "code",
   "execution_count": 2,
   "metadata": {},
   "outputs": [],
   "source": [
    "#import libraries for carto.\n",
    "from cartoframes.auth import set_default_credentials, Credentials\n",
    "\n",
    "#load .env with credentials\n",
    "from dotenv import load_dotenv\n",
    "load_dotenv()\n",
    "\n",
    "import os\n",
    "BASE_URL = os.getenv(\"BASE_URL\")\n",
    "API_KEY = os.getenv(\"API_KEY\")\n",
    "USERNAME = os.getenv(\"USERNAME\")\n",
    "\n",
    "set_default_credentials(\n",
    "    base_url=BASE_URL,\n",
    "    api_key=API_KEY\n",
    ")\n",
    "\n",
    "credentials = Credentials(USERNAME, API_KEY)"
   ]
  },
  {
   "cell_type": "code",
   "execution_count": 3,
   "metadata": {
    "scrolled": true
   },
   "outputs": [],
   "source": [
    "from cartoframes.data.observatory import Catalog, Variable, CatalogDataset, Geography"
   ]
  },
  {
   "cell_type": "code",
   "execution_count": 15,
   "metadata": {},
   "outputs": [
    {
     "data": {
      "text/plain": [
       "[<CatalogDataset('od_acs_29664073')>]"
      ]
     },
     "execution_count": 15,
     "metadata": {},
     "output_type": "execute_result"
    }
   ],
   "source": [
    "#-----Exploring the DO 2.0 catalog ----\n",
    "#Catalog().countries\n",
    "#Catalog().country('usa').categories\n",
    "#Catalog().country('usa').category('demographics').geographies\n",
    "Catalog().country('usa').category('demographics').geography('usct_censustract_784cc2ed').datasets\n",
    "\n",
    "#---I can also get datasets available in my AOI ---\n",
    "# We have now the Area of Interest (AOI), so we are going to look at what data\n",
    "# does CARTO DO hava available for that area. Internally this is a spatial\n",
    "# intersect of the datasets on the catalog and our AOI.\n",
    "#Catalog().datasets_by_geography(filter_dataset=area_of_interest)"
   ]
  },
  {
   "cell_type": "code",
   "execution_count": 24,
   "metadata": {},
   "outputs": [
    {
     "data": {
      "text/plain": [
       "{'id': 'carto-do-public-data.usa_acs.demographics_acs_usa_censustractclipped_2015_5yrs_20132017.total_pop',\n",
       " 'slug': 'total_pop_6b65504f',\n",
       " 'name': 'Total Population',\n",
       " 'description': 'The total number of all people living in a given geographic area.  This is a very useful catch-all denominator when calculating rates.',\n",
       " 'column_name': 'total_pop',\n",
       " 'db_type': 'Numeric',\n",
       " 'dataset_id': 'carto-do-public-data.usa_acs.demographics_acs_usa_censustractclipped_2015_5yrs_20132017',\n",
       " 'agg_method': None,\n",
       " 'variable_group_id': 'carto-do-public-data.acs.demographics_acs_usa_censustractclipped_2015_5yrs_20132017.population_by_age_and_gender',\n",
       " 'starred': None}"
      ]
     },
     "execution_count": 24,
     "metadata": {},
     "output_type": "execute_result"
    }
   ],
   "source": [
    "#---Working with a dataset ----\n",
    "catalog_dataset = CatalogDataset.get('od_acs_29664073')\n",
    "#catalog_dataset.to_dict()\n",
    "#catalog_dataset.tail()\n",
    "\n",
    "#catalog_dataset.describe()\n",
    "\n",
    "#----Exploring variables\n",
    "#catalog_dataset.variables\n",
    "population_var = Variable.get('total_pop_6b65504f')\n",
    "population_var.to_dict()\n",
    "#population_var.describe()\n",
    "\n",
    "#------Subscribe to a dataset and accept the terms\n",
    "#catalog_dataset.subscribe()\n",
    "#Catalog().subscriptions().datasets"
   ]
  },
  {
   "cell_type": "code",
   "execution_count": null,
   "metadata": {},
   "outputs": [],
   "source": [
    "# We just subscribed to a new dataset, so let's take a look at it.\n",
    "# we are going to add a legend to the map so it is more clear and visualiaze\n",
    "# population.\n",
    "\n",
    "from cartoframes.viz import Legend\n",
    "Map(\n",
    "    Layer(\n",
    "        'demographics_sociodemographic_usa_q17_v1_yearly_2019', \n",
    "        '''\n",
    "        color: opacity(ramp(linear($popcy,20,400),reverse(sunset)),0.9)\n",
    "        strokeWidth: 0\n",
    "        '''\n",
    "    ),size=(920,300)\n",
    ")"
   ]
  }
 ],
 "metadata": {
  "kernelspec": {
   "display_name": "Python 3",
   "language": "python",
   "name": "python3"
  },
  "language_info": {
   "codemirror_mode": {
    "name": "ipython",
    "version": 3
   },
   "file_extension": ".py",
   "mimetype": "text/x-python",
   "name": "python",
   "nbconvert_exporter": "python",
   "pygments_lexer": "ipython3",
   "version": "3.7.3"
  }
 },
 "nbformat": 4,
 "nbformat_minor": 2
}
