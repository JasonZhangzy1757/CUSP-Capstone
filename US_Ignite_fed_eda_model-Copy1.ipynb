{
 "cells": [
  {
   "cell_type": "markdown",
   "metadata": {},
   "source": [
    "# US-Ignite Fed_Notebook"
   ]
  },
  {
   "cell_type": "markdown",
   "metadata": {},
   "source": [
    "# Data from 2009-2016"
   ]
  },
  {
   "cell_type": "code",
   "execution_count": 1,
   "metadata": {},
   "outputs": [],
   "source": [
    "#import libraries from Carto.\n",
    "from cartoframes.auth import set_default_credentials\n",
    "from cartoframes.viz import Map, Layer\n",
    "import cartoframes\n",
    "cartoframes.__version__\n",
    "#from cartoframes.viz.helpers import color_continuous_layer\n",
    "import pandas as pd\n",
    "import geopandas as gpd\n",
    "import requests\n",
    "import json\n",
    "from autocensus import Query #Library from Socrata to gather ACS Data\n",
    "from cartoframes.data.services import Geocoding\n",
    "#import censusdata\n",
    "#set_default_credentials('creds_usignite.json')\n",
    "set_default_credentials(\n",
    "    base_url='https://usignite-admin.carto.com/',\n",
    "    api_key='81c922dc336bd82103d92a768816a4567c444909'\n",
    ")\n",
    "\n",
    "from cartoframes.data.observatory import Catalog, Variable, Geography, Dataset"
   ]
  },
  {
   "cell_type": "code",
   "execution_count": 2,
   "metadata": {},
   "outputs": [],
   "source": [
    "import numpy as np\n",
    "\n",
    "from linearmodels import PanelOLS\n",
    "from linearmodels import RandomEffects\n",
    "import ipywidgets as widgets\n",
    "from ipywidgets import Output, Tab\n",
    "from IPython.display import clear_output\n",
    "from cartoframes.data.services import Isolines\n",
    "from cartoframes.data.observatory import Variable\n",
    "from cartoframes.data.observatory import Enrichment\n",
    "from cartoframes.data.observatory import Catalog"
   ]
  },
  {
   "cell_type": "markdown",
   "metadata": {},
   "source": [
    "# EDA"
   ]
  },
  {
   "cell_type": "code",
   "execution_count": 3,
   "metadata": {},
   "outputs": [],
   "source": [
    "import seaborn as sns"
   ]
  },
  {
   "cell_type": "code",
   "execution_count": 4,
   "metadata": {},
   "outputs": [],
   "source": [
    "df_final=pd.read_csv(\"~/Downloads/Final_merged.csv\")"
   ]
  },
  {
   "cell_type": "code",
   "execution_count": 9,
   "metadata": {},
   "outputs": [],
   "source": [
    "df_final=df_final[df_final['year']!=2010]\n",
    "df_final=df_final[df_final['year']!=2011]"
   ]
  },
  {
   "cell_type": "code",
   "execution_count": 10,
   "metadata": {},
   "outputs": [
    {
     "data": {
      "text/plain": [
       "array([ 0, 51, 11, 21])"
      ]
     },
     "execution_count": 10,
     "metadata": {},
     "output_type": "execute_result"
    }
   ],
   "source": [
    "df_final['NAICS2012'].unique()"
   ]
  },
  {
   "cell_type": "code",
   "execution_count": 11,
   "metadata": {},
   "outputs": [],
   "source": [
    "data=df_final[['zipcode', 'geoid', 'NAICS2012', 'year', 'edut',\n",
    "       'collegemale', 'collegefemale','pop',\n",
    "       'households', 'income', 'gini', 'total_p', 'ratio_65', 'Empratio',\n",
    "       'estabratio']]"
   ]
  },
  {
   "cell_type": "code",
   "execution_count": 12,
   "metadata": {},
   "outputs": [
    {
     "name": "stderr",
     "output_type": "stream",
     "text": [
      "/Users/jiaqitang/anaconda3/lib/python3.7/site-packages/ipykernel_launcher.py:1: SettingWithCopyWarning: \n",
      "A value is trying to be set on a copy of a slice from a DataFrame.\n",
      "Try using .loc[row_indexer,col_indexer] = value instead\n",
      "\n",
      "See the caveats in the documentation: http://pandas.pydata.org/pandas-docs/stable/indexing.html#indexing-view-versus-copy\n",
      "  \"\"\"Entry point for launching an IPython kernel.\n",
      "/Users/jiaqitang/anaconda3/lib/python3.7/site-packages/ipykernel_launcher.py:2: SettingWithCopyWarning: \n",
      "A value is trying to be set on a copy of a slice from a DataFrame.\n",
      "Try using .loc[row_indexer,col_indexer] = value instead\n",
      "\n",
      "See the caveats in the documentation: http://pandas.pydata.org/pandas-docs/stable/indexing.html#indexing-view-versus-copy\n",
      "  \n"
     ]
    }
   ],
   "source": [
    "data['total_college']=data['collegemale']+data['collegefemale']\n",
    "data['college_ratio']=data['total_college']/data['edut']"
   ]
  },
  {
   "cell_type": "code",
   "execution_count": 13,
   "metadata": {},
   "outputs": [
    {
     "data": {
      "text/plain": [
       "1532        0.023095\n",
       "1521        0.023095\n",
       "1528        0.023095\n",
       "1525        0.023095\n",
       "2629        0.039139\n",
       "2614        0.039139\n",
       "2615        0.039139\n",
       "2620        0.039139\n",
       "2621        0.039139\n",
       "2622        0.039139\n",
       "2627        0.039139\n",
       "2628        0.039139\n",
       "2613        0.039139\n",
       "18883       0.045767\n",
       "18876       0.045767\n",
       "1523        0.046189\n",
       "1531        0.046189\n",
       "1530        0.046189\n",
       "1524        0.046189\n",
       "2623        0.048924\n",
       "2630        0.048924\n",
       "2616        0.048924\n",
       "2624        0.058708\n",
       "2631        0.058708\n",
       "2617        0.058708\n",
       "15227       0.063559\n",
       "15220       0.063559\n",
       "13171       0.068729\n",
       "13178       0.068729\n",
       "13185       0.068729\n",
       "            ...     \n",
       "16175    2256.272862\n",
       "14557    2284.260171\n",
       "14550    2284.260171\n",
       "14536    2284.260171\n",
       "14543    2284.260171\n",
       "16179    2388.360521\n",
       "16186    2388.360521\n",
       "16172    2388.360521\n",
       "16173    2531.230845\n",
       "16180    2531.230845\n",
       "16187    2531.230845\n",
       "17282    2804.252462\n",
       "17289    2804.252462\n",
       "17275    2804.252462\n",
       "17268    2804.252462\n",
       "16223    3285.556105\n",
       "16230    3285.556105\n",
       "16216    3285.556105\n",
       "16225    3808.482452\n",
       "16218    3808.482452\n",
       "16232    3808.482452\n",
       "16231    4129.144834\n",
       "16224    4129.144834\n",
       "16217    4129.144834\n",
       "16214    4370.874938\n",
       "16228    4370.874938\n",
       "16221    4370.874938\n",
       "16215    4632.338112\n",
       "16222    4632.338112\n",
       "16229    4632.338112\n",
       "Name: Empratio, Length: 12510, dtype: float64"
      ]
     },
     "execution_count": 13,
     "metadata": {},
     "output_type": "execute_result"
    }
   ],
   "source": [
    "data['Empratio'][data['Empratio']!=0.0].sort_values()"
   ]
  },
  {
   "cell_type": "code",
   "execution_count": 14,
   "metadata": {},
   "outputs": [
    {
     "data": {
      "text/plain": [
       "count    13520.000000\n",
       "mean        50.321752\n",
       "std        218.840074\n",
       "min          0.000000\n",
       "25%          1.004637\n",
       "50%          7.194103\n",
       "75%         28.365583\n",
       "max       4632.338112\n",
       "Name: Empratio, dtype: float64"
      ]
     },
     "execution_count": 14,
     "metadata": {},
     "output_type": "execute_result"
    }
   ],
   "source": [
    "data['Empratio'].describe() "
   ]
  },
  {
   "cell_type": "code",
   "execution_count": 15,
   "metadata": {},
   "outputs": [
    {
     "data": {
      "text/plain": [
       "9463        0.000000\n",
       "8739        0.000000\n",
       "8740        0.000000\n",
       "8741        0.000000\n",
       "8742        0.000000\n",
       "8745        0.000000\n",
       "8746        0.000000\n",
       "8747        0.000000\n",
       "8748        0.000000\n",
       "8749        0.000000\n",
       "8752        0.000000\n",
       "8753        0.000000\n",
       "8754        0.000000\n",
       "8755        0.000000\n",
       "8756        0.000000\n",
       "8759        0.000000\n",
       "8760        0.000000\n",
       "8761        0.000000\n",
       "8738        0.000000\n",
       "8762        0.000000\n",
       "8735        0.000000\n",
       "8733        0.000000\n",
       "8689        0.000000\n",
       "8690        0.000000\n",
       "8691        0.000000\n",
       "8692        0.000000\n",
       "8693        0.000000\n",
       "8696        0.000000\n",
       "8697        0.000000\n",
       "8698        0.000000\n",
       "            ...     \n",
       "16175    2256.272862\n",
       "14557    2284.260171\n",
       "14550    2284.260171\n",
       "14543    2284.260171\n",
       "14536    2284.260171\n",
       "16172    2388.360521\n",
       "16179    2388.360521\n",
       "16186    2388.360521\n",
       "16187    2531.230845\n",
       "16173    2531.230845\n",
       "16180    2531.230845\n",
       "17289    2804.252462\n",
       "17275    2804.252462\n",
       "17282    2804.252462\n",
       "17268    2804.252462\n",
       "16230    3285.556105\n",
       "16223    3285.556105\n",
       "16216    3285.556105\n",
       "16218    3808.482452\n",
       "16232    3808.482452\n",
       "16225    3808.482452\n",
       "16217    4129.144834\n",
       "16224    4129.144834\n",
       "16231    4129.144834\n",
       "16221    4370.874938\n",
       "16228    4370.874938\n",
       "16214    4370.874938\n",
       "16222    4632.338112\n",
       "16229    4632.338112\n",
       "16215    4632.338112\n",
       "Name: Empratio, Length: 13520, dtype: float64"
      ]
     },
     "execution_count": 15,
     "metadata": {},
     "output_type": "execute_result"
    }
   ],
   "source": [
    "data['Empratio'].sort_values()"
   ]
  },
  {
   "cell_type": "code",
   "execution_count": 16,
   "metadata": {},
   "outputs": [
    {
     "data": {
      "text/plain": [
       "<matplotlib.axes._subplots.AxesSubplot at 0x1a24b74c50>"
      ]
     },
     "execution_count": 16,
     "metadata": {},
     "output_type": "execute_result"
    },
    {
     "data": {
      "image/png": "[encoded data removed]",
      "text/plain": [
       "<Figure size 432x288 with 1 Axes>"
      ]
     },
     "metadata": {
      "needs_background": "light"
     },
     "output_type": "display_data"
    }
   ],
   "source": [
    "data['Empratio'].plot(kind =\"hist\")"
   ]
  },
  {
   "cell_type": "code",
   "execution_count": 17,
   "metadata": {},
   "outputs": [
    {
     "data": {
      "text/plain": [
       "count    13520.000000\n",
       "mean         1.758780\n",
       "std          5.017687\n",
       "min          0.000000\n",
       "25%          0.055363\n",
       "50%          0.391575\n",
       "75%          1.357362\n",
       "max         67.585764\n",
       "Name: estabratio, dtype: float64"
      ]
     },
     "execution_count": 17,
     "metadata": {},
     "output_type": "execute_result"
    }
   ],
   "source": [
    "data['estabratio'].describe() "
   ]
  },
  {
   "cell_type": "code",
   "execution_count": 18,
   "metadata": {},
   "outputs": [
    {
     "name": "stderr",
     "output_type": "stream",
     "text": [
      "/Users/jiaqitang/anaconda3/lib/python3.7/site-packages/ipykernel_launcher.py:1: RuntimeWarning: divide by zero encountered in log\n",
      "  \"\"\"Entry point for launching an IPython kernel.\n",
      "/Users/jiaqitang/anaconda3/lib/python3.7/site-packages/ipykernel_launcher.py:1: SettingWithCopyWarning: \n",
      "A value is trying to be set on a copy of a slice from a DataFrame.\n",
      "Try using .loc[row_indexer,col_indexer] = value instead\n",
      "\n",
      "See the caveats in the documentation: http://pandas.pydata.org/pandas-docs/stable/indexing.html#indexing-view-versus-copy\n",
      "  \"\"\"Entry point for launching an IPython kernel.\n"
     ]
    }
   ],
   "source": [
    "data['logesration']=np.log(data['estabratio'])"
   ]
  },
  {
   "cell_type": "code",
   "execution_count": 19,
   "metadata": {},
   "outputs": [
    {
     "data": {
      "text/plain": [
       "<matplotlib.axes._subplots.AxesSubplot at 0x1a33d38780>"
      ]
     },
     "execution_count": 19,
     "metadata": {},
     "output_type": "execute_result"
    },
    {
     "data": {
      "image/png": "[encoded data removed]",
      "text/plain": [
       "<Figure size 432x288 with 1 Axes>"
      ]
     },
     "metadata": {
      "needs_background": "light"
     },
     "output_type": "display_data"
    }
   ],
   "source": [
    "data['estabratio'].plot(kind =\"hist\")"
   ]
  },
  {
   "cell_type": "code",
   "execution_count": 20,
   "metadata": {},
   "outputs": [
    {
     "name": "stderr",
     "output_type": "stream",
     "text": [
      "/Users/jiaqitang/anaconda3/lib/python3.7/site-packages/ipykernel_launcher.py:1: RuntimeWarning: divide by zero encountered in log\n",
      "  \"\"\"Entry point for launching an IPython kernel.\n"
     ]
    }
   ],
   "source": [
    "loges=np.log(data['estabratio'])"
   ]
  },
  {
   "cell_type": "code",
   "execution_count": 21,
   "metadata": {},
   "outputs": [
    {
     "data": {
      "text/plain": [
       "count    13401.000000\n",
       "mean         0.412628\n",
       "std          0.059632\n",
       "min          0.012800\n",
       "25%          0.372800\n",
       "50%          0.409000\n",
       "75%          0.449300\n",
       "max          0.700700\n",
       "Name: gini, dtype: float64"
      ]
     },
     "execution_count": 21,
     "metadata": {},
     "output_type": "execute_result"
    }
   ],
   "source": [
    "data['gini'].describe() "
   ]
  },
  {
   "cell_type": "code",
   "execution_count": 22,
   "metadata": {},
   "outputs": [
    {
     "data": {
      "text/plain": [
       "<matplotlib.axes._subplots.AxesSubplot at 0x1a33e02f28>"
      ]
     },
     "execution_count": 22,
     "metadata": {},
     "output_type": "execute_result"
    },
    {
     "data": {
      "image/png": "[encoded data removed]",
      "text/plain": [
       "<Figure size 432x288 with 1 Axes>"
      ]
     },
     "metadata": {
      "needs_background": "light"
     },
     "output_type": "display_data"
    }
   ],
   "source": [
    "data['gini'].plot(kind =\"hist\") "
   ]
  },
  {
   "cell_type": "code",
   "execution_count": 23,
   "metadata": {},
   "outputs": [],
   "source": [
    "corr=data.corr().abs()\n",
    "\n",
    "#upper = corr_matrix.where(np.triu(np.ones(corr_matrix.shape), k=1).astype(np.bool))\n",
    "#to_drop = [column for column in upper.columns if any(upper[column] > 0.95)]\n"
   ]
  },
  {
   "cell_type": "code",
   "execution_count": 24,
   "metadata": {},
   "outputs": [
    {
     "data": {
      "text/plain": [
       "[Text(0.5, 0, 'zipcode'),\n",
       " Text(1.5, 0, 'geoid'),\n",
       " Text(2.5, 0, 'NAICS2012'),\n",
       " Text(3.5, 0, 'year'),\n",
       " Text(4.5, 0, 'edut'),\n",
       " Text(5.5, 0, 'collegemale'),\n",
       " Text(6.5, 0, 'collegefemale'),\n",
       " Text(7.5, 0, 'pop'),\n",
       " Text(8.5, 0, 'households'),\n",
       " Text(9.5, 0, 'income'),\n",
       " Text(10.5, 0, 'gini'),\n",
       " Text(11.5, 0, 'total_p'),\n",
       " Text(12.5, 0, 'ratio_65'),\n",
       " Text(13.5, 0, 'Empratio'),\n",
       " Text(14.5, 0, 'estabratio'),\n",
       " Text(15.5, 0, 'total_college'),\n",
       " Text(16.5, 0, 'college_ratio'),\n",
       " Text(17.5, 0, 'logesration')]"
      ]
     },
     "execution_count": 24,
     "metadata": {},
     "output_type": "execute_result"
    },
    {
     "data": {
      "image/png": "[encoded data removed]",
      "text/plain": [
       "<Figure size 432x288 with 2 Axes>"
      ]
     },
     "metadata": {
      "needs_background": "light"
     },
     "output_type": "display_data"
    }
   ],
   "source": [
    "ax = sns.heatmap(\n",
    "    corr, \n",
    "    vmin=-1, vmax=1, center=0,\n",
    "    cmap=sns.diverging_palette(20, 220, n=200),\n",
    "    square=True\n",
    ")\n",
    "ax.set_xticklabels(\n",
    "    ax.get_xticklabels(),\n",
    "    rotation=45,\n",
    "    horizontalalignment='right'\n",
    ")"
   ]
  },
  {
   "cell_type": "markdown",
   "metadata": {},
   "source": [
    "# modeling "
   ]
  },
  {
   "cell_type": "code",
   "execution_count": 25,
   "metadata": {},
   "outputs": [],
   "source": [
    "df=data"
   ]
  },
  {
   "cell_type": "code",
   "execution_count": 26,
   "metadata": {},
   "outputs": [
    {
     "data": {
      "text/plain": [
       "Index(['zipcode', 'geoid', 'NAICS2012', 'year', 'edut', 'collegemale',\n",
       "       'collegefemale', 'pop', 'households', 'income', 'gini', 'total_p',\n",
       "       'ratio_65', 'Empratio', 'estabratio', 'total_college', 'college_ratio',\n",
       "       'logesration'],\n",
       "      dtype='object')"
      ]
     },
     "execution_count": 26,
     "metadata": {},
     "output_type": "execute_result"
    }
   ],
   "source": [
    "df.columns"
   ]
  },
  {
   "cell_type": "code",
   "execution_count": 27,
   "metadata": {},
   "outputs": [
    {
     "data": {
      "text/html": [
       "<div>\n",
       "<style scoped>\n",
       "    .dataframe tbody tr th:only-of-type {\n",
       "        vertical-align: middle;\n",
       "    }\n",
       "\n",
       "    .dataframe tbody tr th {\n",
       "        vertical-align: top;\n",
       "    }\n",
       "\n",
       "    .dataframe thead th {\n",
       "        text-align: right;\n",
       "    }\n",
       "</style>\n",
       "<table border=\"1\" class=\"dataframe\">\n",
       "  <thead>\n",
       "    <tr style=\"text-align: right;\">\n",
       "      <th></th>\n",
       "      <th>zipcode</th>\n",
       "      <th>geoid</th>\n",
       "      <th>NAICS2012</th>\n",
       "      <th>year</th>\n",
       "      <th>edut</th>\n",
       "      <th>collegemale</th>\n",
       "      <th>collegefemale</th>\n",
       "      <th>pop</th>\n",
       "      <th>households</th>\n",
       "      <th>income</th>\n",
       "      <th>gini</th>\n",
       "      <th>total_p</th>\n",
       "      <th>ratio_65</th>\n",
       "      <th>Empratio</th>\n",
       "      <th>estabratio</th>\n",
       "      <th>total_college</th>\n",
       "      <th>college_ratio</th>\n",
       "      <th>logesration</th>\n",
       "    </tr>\n",
       "  </thead>\n",
       "  <tbody>\n",
       "    <tr>\n",
       "      <th>2</th>\n",
       "      <td>91901</td>\n",
       "      <td>6073015502</td>\n",
       "      <td>0</td>\n",
       "      <td>2012</td>\n",
       "      <td>1790.0</td>\n",
       "      <td>124.0</td>\n",
       "      <td>107.0</td>\n",
       "      <td>291.0</td>\n",
       "      <td>113.0</td>\n",
       "      <td>904.0</td>\n",
       "      <td>0.3790</td>\n",
       "      <td>2748</td>\n",
       "      <td>0.108806</td>\n",
       "      <td>0.293542</td>\n",
       "      <td>0.029354</td>\n",
       "      <td>231.0</td>\n",
       "      <td>0.129050</td>\n",
       "      <td>-3.528319</td>\n",
       "    </tr>\n",
       "    <tr>\n",
       "      <th>3</th>\n",
       "      <td>91901</td>\n",
       "      <td>6073015502</td>\n",
       "      <td>0</td>\n",
       "      <td>2013</td>\n",
       "      <td>1900.0</td>\n",
       "      <td>141.0</td>\n",
       "      <td>148.0</td>\n",
       "      <td>365.0</td>\n",
       "      <td>136.0</td>\n",
       "      <td>903.0</td>\n",
       "      <td>0.3782</td>\n",
       "      <td>2748</td>\n",
       "      <td>0.108806</td>\n",
       "      <td>0.176125</td>\n",
       "      <td>0.017613</td>\n",
       "      <td>289.0</td>\n",
       "      <td>0.152105</td>\n",
       "      <td>-4.039145</td>\n",
       "    </tr>\n",
       "    <tr>\n",
       "      <th>4</th>\n",
       "      <td>91901</td>\n",
       "      <td>6073015502</td>\n",
       "      <td>0</td>\n",
       "      <td>2014</td>\n",
       "      <td>1865.0</td>\n",
       "      <td>143.0</td>\n",
       "      <td>135.0</td>\n",
       "      <td>411.0</td>\n",
       "      <td>154.0</td>\n",
       "      <td>883.0</td>\n",
       "      <td>0.3837</td>\n",
       "      <td>2748</td>\n",
       "      <td>0.108806</td>\n",
       "      <td>0.234834</td>\n",
       "      <td>0.023483</td>\n",
       "      <td>278.0</td>\n",
       "      <td>0.149062</td>\n",
       "      <td>-3.751463</td>\n",
       "    </tr>\n",
       "    <tr>\n",
       "      <th>5</th>\n",
       "      <td>91901</td>\n",
       "      <td>6073015502</td>\n",
       "      <td>0</td>\n",
       "      <td>2015</td>\n",
       "      <td>2005.0</td>\n",
       "      <td>126.0</td>\n",
       "      <td>152.0</td>\n",
       "      <td>454.0</td>\n",
       "      <td>170.0</td>\n",
       "      <td>949.0</td>\n",
       "      <td>0.3917</td>\n",
       "      <td>2748</td>\n",
       "      <td>0.108806</td>\n",
       "      <td>0.645793</td>\n",
       "      <td>0.017613</td>\n",
       "      <td>278.0</td>\n",
       "      <td>0.138653</td>\n",
       "      <td>-4.039145</td>\n",
       "    </tr>\n",
       "    <tr>\n",
       "      <th>6</th>\n",
       "      <td>91901</td>\n",
       "      <td>6073015502</td>\n",
       "      <td>0</td>\n",
       "      <td>2016</td>\n",
       "      <td>2017.0</td>\n",
       "      <td>108.0</td>\n",
       "      <td>151.0</td>\n",
       "      <td>499.0</td>\n",
       "      <td>189.0</td>\n",
       "      <td>950.0</td>\n",
       "      <td>0.4479</td>\n",
       "      <td>2748</td>\n",
       "      <td>0.108806</td>\n",
       "      <td>0.704501</td>\n",
       "      <td>0.023483</td>\n",
       "      <td>259.0</td>\n",
       "      <td>0.128409</td>\n",
       "      <td>-3.751463</td>\n",
       "    </tr>\n",
       "  </tbody>\n",
       "</table>\n",
       "</div>"
      ],
      "text/plain": [
       "   zipcode       geoid  NAICS2012  year    edut  collegemale  collegefemale  \\\n",
       "2    91901  6073015502          0  2012  1790.0        124.0          107.0   \n",
       "3    91901  6073015502          0  2013  1900.0        141.0          148.0   \n",
       "4    91901  6073015502          0  2014  1865.0        143.0          135.0   \n",
       "5    91901  6073015502          0  2015  2005.0        126.0          152.0   \n",
       "6    91901  6073015502          0  2016  2017.0        108.0          151.0   \n",
       "\n",
       "     pop  households  income    gini  total_p  ratio_65  Empratio  estabratio  \\\n",
       "2  291.0       113.0   904.0  0.3790     2748  0.108806  0.293542    0.029354   \n",
       "3  365.0       136.0   903.0  0.3782     2748  0.108806  0.176125    0.017613   \n",
       "4  411.0       154.0   883.0  0.3837     2748  0.108806  0.234834    0.023483   \n",
       "5  454.0       170.0   949.0  0.3917     2748  0.108806  0.645793    0.017613   \n",
       "6  499.0       189.0   950.0  0.4479     2748  0.108806  0.704501    0.023483   \n",
       "\n",
       "   total_college  college_ratio  logesration  \n",
       "2          231.0       0.129050    -3.528319  \n",
       "3          289.0       0.152105    -4.039145  \n",
       "4          278.0       0.149062    -3.751463  \n",
       "5          278.0       0.138653    -4.039145  \n",
       "6          259.0       0.128409    -3.751463  "
      ]
     },
     "execution_count": 27,
     "metadata": {},
     "output_type": "execute_result"
    }
   ],
   "source": [
    "df.head()"
   ]
  },
  {
   "cell_type": "code",
   "execution_count": 28,
   "metadata": {},
   "outputs": [],
   "source": [
    "from linearmodels.panel import PooledOLS\n",
    "import statsmodels.api as sm"
   ]
  },
  {
   "cell_type": "code",
   "execution_count": 29,
   "metadata": {},
   "outputs": [
    {
     "name": "stderr",
     "output_type": "stream",
     "text": [
      "/Users/jiaqitang/anaconda3/lib/python3.7/site-packages/ipykernel_launcher.py:1: SettingWithCopyWarning: \n",
      "A value is trying to be set on a copy of a slice from a DataFrame.\n",
      "Try using .loc[row_indexer,col_indexer] = value instead\n",
      "\n",
      "See the caveats in the documentation: http://pandas.pydata.org/pandas-docs/stable/indexing.html#indexing-view-versus-copy\n",
      "  \"\"\"Entry point for launching an IPython kernel.\n"
     ]
    }
   ],
   "source": [
    "df['year'] = pd.to_datetime(df['year'], format='%Y')"
   ]
  },
  {
   "cell_type": "code",
   "execution_count": 30,
   "metadata": {},
   "outputs": [
    {
     "name": "stderr",
     "output_type": "stream",
     "text": [
      "/Users/jiaqitang/anaconda3/lib/python3.7/site-packages/ipykernel_launcher.py:1: SettingWithCopyWarning: \n",
      "A value is trying to be set on a copy of a slice from a DataFrame.\n",
      "Try using .loc[row_indexer,col_indexer] = value instead\n",
      "\n",
      "See the caveats in the documentation: http://pandas.pydata.org/pandas-docs/stable/indexing.html#indexing-view-versus-copy\n",
      "  \"\"\"Entry point for launching an IPython kernel.\n"
     ]
    }
   ],
   "source": [
    "df['year']=df['year'].dt.year"
   ]
  },
  {
   "cell_type": "code",
   "execution_count": 31,
   "metadata": {},
   "outputs": [],
   "source": [
    "#add column year to index\n",
    "df=df.set_index([ 'zipcode','year'])\n",
    "#swap indexes\n",
    "\n",
    "\n"
   ]
  },
  {
   "cell_type": "code",
   "execution_count": 32,
   "metadata": {},
   "outputs": [],
   "source": [
    "import statsmodels.formula.api as smf"
   ]
  },
  {
   "cell_type": "code",
   "execution_count": 33,
   "metadata": {},
   "outputs": [
    {
     "data": {
      "text/plain": [
       "Index(['geoid', 'NAICS2012', 'edut', 'collegemale', 'collegefemale', 'pop',\n",
       "       'households', 'income', 'gini', 'total_p', 'ratio_65', 'Empratio',\n",
       "       'estabratio', 'total_college', 'college_ratio', 'logesration'],\n",
       "      dtype='object')"
      ]
     },
     "execution_count": 33,
     "metadata": {},
     "output_type": "execute_result"
    }
   ],
   "source": [
    "df.columns"
   ]
  },
  {
   "cell_type": "code",
   "execution_count": 34,
   "metadata": {},
   "outputs": [
    {
     "name": "stdout",
     "output_type": "stream",
     "text": [
      "                            OLS Regression Results                            \n",
      "==============================================================================\n",
      "Dep. Variable:             estabratio   R-squared:                       0.057\n",
      "Model:                            OLS   Adj. R-squared:                  0.056\n",
      "Method:                 Least Squares   F-statistic:                     134.4\n",
      "Date:                Thu, 27 Feb 2020   Prob (F-statistic):          5.51e-166\n",
      "Time:                        14:34:41   Log-Likelihood:                -40457.\n",
      "No. Observations:               13465   AIC:                         8.093e+04\n",
      "Df Residuals:                   13458   BIC:                         8.098e+04\n",
      "Df Model:                           6                                         \n",
      "Covariance Type:            nonrobust                                         \n",
      "=================================================================================\n",
      "                    coef    std err          t      P>|t|      [0.025      0.975]\n",
      "---------------------------------------------------------------------------------\n",
      "Intercept         1.3644      0.170      8.028      0.000       1.031       1.698\n",
      "pop              -0.0017      0.000     -6.219      0.000      -0.002      -0.001\n",
      "households        0.0045      0.001      3.114      0.002       0.002       0.007\n",
      "income            0.0013      0.000      8.957      0.000       0.001       0.002\n",
      "ratio_65         -4.1501      0.575     -7.219      0.000      -5.277      -3.023\n",
      "edut             -0.0008   7.37e-05    -11.160      0.000      -0.001      -0.001\n",
      "total_college     0.0019      0.000     15.012      0.000       0.002       0.002\n",
      "==============================================================================\n",
      "Omnibus:                    16948.267   Durbin-Watson:                   0.123\n",
      "Prob(Omnibus):                  0.000   Jarque-Bera (JB):          2542486.022\n",
      "Skew:                           7.008   Prob(JB):                         0.00\n",
      "Kurtosis:                      68.843   Cond. No.                     6.22e+04\n",
      "==============================================================================\n",
      "\n",
      "Warnings:\n",
      "[1] Standard Errors assume that the covariance matrix of the errors is correctly specified.\n",
      "[2] The condition number is large, 6.22e+04. This might indicate that there are\n",
      "strong multicollinearity or other numerical problems.\n"
     ]
    }
   ],
   "source": [
    "FE_ols1 = smf.ols(formula= 'estabratio ~ 1 +pop+households+income+ratio_65+edut+total_college', data = df).fit()\n",
    "print(FE_ols1.summary())"
   ]
  },
  {
   "cell_type": "code",
   "execution_count": 35,
   "metadata": {},
   "outputs": [
    {
     "name": "stdout",
     "output_type": "stream",
     "text": [
      "                            OLS Regression Results                            \n",
      "==============================================================================\n",
      "Dep. Variable:             estabratio   R-squared:                       0.054\n",
      "Model:                            OLS   Adj. R-squared:                  0.053\n",
      "Method:                 Least Squares   F-statistic:                     127.5\n",
      "Date:                Thu, 27 Feb 2020   Prob (F-statistic):          1.69e-157\n",
      "Time:                        14:34:41   Log-Likelihood:                -40420.\n",
      "No. Observations:               13443   AIC:                         8.085e+04\n",
      "Df Residuals:                   13436   BIC:                         8.091e+04\n",
      "Df Model:                           6                                         \n",
      "Covariance Type:            nonrobust                                         \n",
      "=================================================================================\n",
      "                    coef    std err          t      P>|t|      [0.025      0.975]\n",
      "---------------------------------------------------------------------------------\n",
      "Intercept         0.0786      0.174      0.451      0.652      -0.263       0.420\n",
      "pop              -0.0024      0.000     -8.664      0.000      -0.003      -0.002\n",
      "households        0.0050      0.001      3.370      0.001       0.002       0.008\n",
      "income            0.0014      0.000      9.792      0.000       0.001       0.002\n",
      "ratio_65         -5.0047      0.608     -8.230      0.000      -6.197      -3.813\n",
      "edut             -0.0004   7.44e-05     -5.241      0.000      -0.001      -0.000\n",
      "college_ratio     6.0494      0.446     13.562      0.000       5.175       6.924\n",
      "==============================================================================\n",
      "Omnibus:                    16901.284   Durbin-Watson:                   0.122\n",
      "Prob(Omnibus):                  0.000   Jarque-Bera (JB):          2506593.853\n",
      "Skew:                           6.998   Prob(JB):                         0.00\n",
      "Kurtosis:                      68.415   Cond. No.                     6.47e+04\n",
      "==============================================================================\n",
      "\n",
      "Warnings:\n",
      "[1] Standard Errors assume that the covariance matrix of the errors is correctly specified.\n",
      "[2] The condition number is large, 6.47e+04. This might indicate that there are\n",
      "strong multicollinearity or other numerical problems.\n"
     ]
    }
   ],
   "source": [
    "FE_ols2 = smf.ols(formula= 'estabratio ~ 1 +pop+households+income+ratio_65+edut+college_ratio', data = df).fit()\n",
    "print(FE_ols2.summary())"
   ]
  },
  {
   "cell_type": "code",
   "execution_count": 36,
   "metadata": {},
   "outputs": [
    {
     "name": "stdout",
     "output_type": "stream",
     "text": [
      "                            OLS Regression Results                            \n",
      "==============================================================================\n",
      "Dep. Variable:             estabratio   R-squared:                       0.041\n",
      "Model:                            OLS   Adj. R-squared:                  0.040\n",
      "Method:                 Least Squares   F-statistic:                     114.4\n",
      "Date:                Thu, 27 Feb 2020   Prob (F-statistic):          8.65e-119\n",
      "Time:                        14:34:42   Log-Likelihood:                -40568.\n",
      "No. Observations:               13465   AIC:                         8.115e+04\n",
      "Df Residuals:                   13459   BIC:                         8.119e+04\n",
      "Df Model:                           5                                         \n",
      "Covariance Type:            nonrobust                                         \n",
      "==============================================================================\n",
      "                 coef    std err          t      P>|t|      [0.025      0.975]\n",
      "------------------------------------------------------------------------------\n",
      "Intercept      0.7767      0.167      4.658      0.000       0.450       1.104\n",
      "pop           -0.0031      0.000    -11.497      0.000      -0.004      -0.003\n",
      "households     0.0085      0.001      5.869      0.000       0.006       0.011\n",
      "income         0.0020      0.000     14.318      0.000       0.002       0.002\n",
      "ratio_65      -3.5174      0.578     -6.084      0.000      -4.651      -2.384\n",
      "edut          -0.0006    7.3e-05     -8.427      0.000      -0.001      -0.000\n",
      "==============================================================================\n",
      "Omnibus:                    17169.692   Durbin-Watson:                   0.120\n",
      "Prob(Omnibus):                  0.000   Jarque-Bera (JB):          2677597.077\n",
      "Skew:                           7.167   Prob(JB):                         0.00\n",
      "Kurtosis:                      70.580   Cond. No.                     6.07e+04\n",
      "==============================================================================\n",
      "\n",
      "Warnings:\n",
      "[1] Standard Errors assume that the covariance matrix of the errors is correctly specified.\n",
      "[2] The condition number is large, 6.07e+04. This might indicate that there are\n",
      "strong multicollinearity or other numerical problems.\n"
     ]
    }
   ],
   "source": [
    "FE_ols3 = smf.ols(formula= 'estabratio ~ 1 +pop+households+income+ratio_65+edut', data = df).fit()\n",
    "print(FE_ols3.summary())"
   ]
  },
  {
   "cell_type": "code",
   "execution_count": 37,
   "metadata": {},
   "outputs": [
    {
     "name": "stdout",
     "output_type": "stream",
     "text": [
      "                            OLS Regression Results                            \n",
      "==============================================================================\n",
      "Dep. Variable:             estabratio   R-squared:                       0.038\n",
      "Model:                            OLS   Adj. R-squared:                  0.038\n",
      "Method:                 Least Squares   F-statistic:                     134.0\n",
      "Date:                Thu, 27 Feb 2020   Prob (F-statistic):          1.89e-112\n",
      "Time:                        14:34:42   Log-Likelihood:                -40586.\n",
      "No. Observations:               13465   AIC:                         8.118e+04\n",
      "Df Residuals:                   13460   BIC:                         8.122e+04\n",
      "Df Model:                           4                                         \n",
      "Covariance Type:            nonrobust                                         \n",
      "==============================================================================\n",
      "                 coef    std err          t      P>|t|      [0.025      0.975]\n",
      "------------------------------------------------------------------------------\n",
      "Intercept      1.3603      0.134     10.148      0.000       1.098       1.623\n",
      "pop           -0.0026      0.000    -10.146      0.000      -0.003      -0.002\n",
      "income         0.0022      0.000     16.395      0.000       0.002       0.002\n",
      "ratio_65      -2.9064      0.569     -5.104      0.000      -4.022      -1.790\n",
      "edut          -0.0006    7.3e-05     -8.741      0.000      -0.001      -0.000\n",
      "==============================================================================\n",
      "Omnibus:                    17145.869   Durbin-Watson:                   0.120\n",
      "Prob(Omnibus):                  0.000   Jarque-Bera (JB):          2648525.176\n",
      "Skew:                           7.152   Prob(JB):                         0.00\n",
      "Kurtosis:                      70.202   Cond. No.                     6.00e+04\n",
      "==============================================================================\n",
      "\n",
      "Warnings:\n",
      "[1] Standard Errors assume that the covariance matrix of the errors is correctly specified.\n",
      "[2] The condition number is large,  6e+04. This might indicate that there are\n",
      "strong multicollinearity or other numerical problems.\n"
     ]
    }
   ],
   "source": [
    "FE_olsfinal = smf.ols(formula= 'estabratio ~ 1 +pop+income+ratio_65+edut', data = df).fit()\n",
    "print(FE_olsfinal.summary())"
   ]
  },
  {
   "cell_type": "code",
   "execution_count": 38,
   "metadata": {},
   "outputs": [],
   "source": [
    "import numpy as np\n",
    "import pandas as pd\n",
    "import libpysal as ps\n",
    "from mgwr.gwr import GWR, MGWR\n",
    "from mgwr.sel_bw import Sel_BW\n",
    "from mgwr.utils import compare_surfaces, truncate_colormap\n",
    "import geopandas as gp\n",
    "import matplotlib.pyplot as plt\n",
    "import matplotlib as mpl"
   ]
  },
  {
   "cell_type": "code",
   "execution_count": 39,
   "metadata": {},
   "outputs": [
    {
     "data": {
      "text/plain": [
       "Index(['geoid', 'NAICS2012', 'edut', 'collegemale', 'collegefemale', 'pop',\n",
       "       'households', 'income', 'gini', 'total_p', 'ratio_65', 'Empratio',\n",
       "       'estabratio', 'total_college', 'college_ratio', 'logesration'],\n",
       "      dtype='object')"
      ]
     },
     "execution_count": 39,
     "metadata": {},
     "output_type": "execute_result"
    }
   ],
   "source": [
    "df.columns"
   ]
  },
  {
   "cell_type": "code",
   "execution_count": 40,
   "metadata": {},
   "outputs": [],
   "source": [
    "\n",
    "year = pd.to_datetime(data['year'], format='%Y')"
   ]
  },
  {
   "cell_type": "code",
   "execution_count": 41,
   "metadata": {},
   "outputs": [],
   "source": [
    "\n",
    "year = pd.Categorical(year)"
   ]
  },
  {
   "cell_type": "code",
   "execution_count": 42,
   "metadata": {},
   "outputs": [],
   "source": [
    "df['year'] = year"
   ]
  },
  {
   "cell_type": "code",
   "execution_count": 43,
   "metadata": {},
   "outputs": [],
   "source": [
    "df['year']=df['year'].apply(lambda x: x.strftime('%Y') )"
   ]
  },
  {
   "cell_type": "code",
   "execution_count": 44,
   "metadata": {},
   "outputs": [],
   "source": [
    "df.dropna(inplace=True)"
   ]
  },
  {
   "cell_type": "code",
   "execution_count": 45,
   "metadata": {},
   "outputs": [
    {
     "name": "stderr",
     "output_type": "stream",
     "text": [
      "/Users/jiaqitang/anaconda3/lib/python3.7/site-packages/numpy/core/fromnumeric.py:2389: FutureWarning: Method .ptp is deprecated and will be removed in a future version. Use numpy.ptp instead.\n",
      "  return ptp(axis=axis, out=out, **kwargs)\n"
     ]
    }
   ],
   "source": [
    "\n",
    "exog_vars = ['pop','income','ratio_65','edut','year']\n",
    "exog = sm.add_constant(df[exog_vars])"
   ]
  },
  {
   "cell_type": "code",
   "execution_count": 46,
   "metadata": {},
   "outputs": [
    {
     "data": {
      "text/plain": [
       "geoid            0\n",
       "NAICS2012        0\n",
       "edut             0\n",
       "collegemale      0\n",
       "collegefemale    0\n",
       "pop              0\n",
       "households       0\n",
       "income           0\n",
       "gini             0\n",
       "total_p          0\n",
       "ratio_65         0\n",
       "Empratio         0\n",
       "estabratio       0\n",
       "total_college    0\n",
       "college_ratio    0\n",
       "logesration      0\n",
       "year             0\n",
       "dtype: int64"
      ]
     },
     "execution_count": 46,
     "metadata": {},
     "output_type": "execute_result"
    }
   ],
   "source": [
    "df.isnull().values.any()\n",
    "df.isnull().sum()"
   ]
  },
  {
   "cell_type": "code",
   "execution_count": 47,
   "metadata": {},
   "outputs": [],
   "source": [
    "from linearmodels.panel import RandomEffects\n",
    "mod = RandomEffects(df.estabratio , exog)\n"
   ]
  },
  {
   "cell_type": "code",
   "execution_count": 48,
   "metadata": {},
   "outputs": [
    {
     "name": "stdout",
     "output_type": "stream",
     "text": [
      "                        RandomEffects Estimation Summary                        \n",
      "================================================================================\n",
      "Dep. Variable:             estabratio   R-squared:                        0.0362\n",
      "Estimator:              RandomEffects   R-squared (Between):              0.0011\n",
      "No. Observations:               13380   R-squared (Within):               0.0360\n",
      "Date:                Thu, Feb 27 2020   R-squared (Overall):              0.0319\n",
      "Time:                        14:34:44   Log-likelihood                -3.826e+04\n",
      "Cov. Estimator:            Unadjusted                                           \n",
      "                                        F-statistic:                      62.834\n",
      "Entities:                          85   P-value                           0.0000\n",
      "Avg Obs:                       157.41   Distribution:                 F(8,13371)\n",
      "Min Obs:                       5.0000                                           \n",
      "Max Obs:                       360.00   F-statistic (robust):             62.056\n",
      "                                        P-value                           0.0000\n",
      "Time periods:                       5   Distribution:                 F(8,13371)\n",
      "Avg Obs:                       2676.0                                           \n",
      "Min Obs:                       2676.0                                           \n",
      "Max Obs:                       2676.0                                           \n",
      "                                                                                \n",
      "                             Parameter Estimates                              \n",
      "==============================================================================\n",
      "            Parameter  Std. Err.     T-stat    P-value    Lower CI    Upper CI\n",
      "------------------------------------------------------------------------------\n",
      "const          1.8003     0.4606     3.9087     0.0001      0.8975      2.7031\n",
      "pop           -0.0033     0.0003    -11.963     0.0000     -0.0038     -0.0027\n",
      "income         0.0017     0.0001     11.702     0.0000      0.0015      0.0020\n",
      "ratio_65      -3.2784     0.6131    -5.3474     0.0000     -4.4801     -2.0767\n",
      "edut          -0.0004  8.043e-05    -4.7068     0.0000     -0.0005     -0.0002\n",
      "year.2013     -0.0013     0.1155    -0.0114     0.9909     -0.2278      0.2252\n",
      "year.2014      0.0732     0.1157     0.6326     0.5270     -0.1536      0.2999\n",
      "year.2015      0.1734     0.1159     1.4961     0.1346     -0.0538      0.4005\n",
      "year.2016      0.2144     0.1160     1.8475     0.0647     -0.0131      0.4418\n",
      "==============================================================================\n"
     ]
    }
   ],
   "source": [
    "re_res = mod.fit()\n",
    "print(re_res)"
   ]
  },
  {
   "cell_type": "code",
   "execution_count": 49,
   "metadata": {},
   "outputs": [],
   "source": [
    "\n",
    "exog_vars1 = ['pop','income','ratio_65','edut']\n",
    "exog1 = sm.add_constant(df[exog_vars1])"
   ]
  },
  {
   "cell_type": "code",
   "execution_count": 50,
   "metadata": {},
   "outputs": [
    {
     "name": "stdout",
     "output_type": "stream",
     "text": [
      "                            OLS Regression Results                            \n",
      "==============================================================================\n",
      "Dep. Variable:             estabratio   R-squared:                       0.038\n",
      "Model:                            OLS   Adj. R-squared:                  0.038\n",
      "Method:                 Least Squares   F-statistic:                     133.0\n",
      "Date:                Thu, 27 Feb 2020   Prob (F-statistic):          1.37e-111\n",
      "Time:                        14:34:44   Log-Likelihood:                -40368.\n",
      "No. Observations:               13380   AIC:                         8.075e+04\n",
      "Df Residuals:                   13375   BIC:                         8.078e+04\n",
      "Df Model:                           4                                         \n",
      "Covariance Type:            nonrobust                                         \n",
      "==============================================================================\n",
      "                 coef    std err          t      P>|t|      [0.025      0.975]\n",
      "------------------------------------------------------------------------------\n",
      "Intercept      1.4274      0.139     10.233      0.000       1.154       1.701\n",
      "pop           -0.0026      0.000    -10.243      0.000      -0.003      -0.002\n",
      "income         0.0022      0.000     16.413      0.000       0.002       0.002\n",
      "ratio_65      -3.4857      0.639     -5.453      0.000      -4.739      -2.233\n",
      "edut          -0.0006   7.32e-05     -8.738      0.000      -0.001      -0.000\n",
      "==============================================================================\n",
      "Omnibus:                    17001.033   Durbin-Watson:                   0.120\n",
      "Prob(Omnibus):                  0.000   Jarque-Bera (JB):          2596324.128\n",
      "Skew:                           7.128   Prob(JB):                         0.00\n",
      "Kurtosis:                      69.737   Cond. No.                     6.70e+04\n",
      "==============================================================================\n",
      "\n",
      "Warnings:\n",
      "[1] Standard Errors assume that the covariance matrix of the errors is correctly specified.\n",
      "[2] The condition number is large, 6.7e+04. This might indicate that there are\n",
      "strong multicollinearity or other numerical problems.\n"
     ]
    }
   ],
   "source": [
    "FE_olsfinal = smf.ols(formula= 'estabratio ~ 1 +pop+income+ratio_65+edut', data = df).fit()\n",
    "print(FE_olsfinal.summary())"
   ]
  },
  {
   "cell_type": "code",
   "execution_count": 51,
   "metadata": {},
   "outputs": [
    {
     "name": "stdout",
     "output_type": "stream",
     "text": [
      "                          PanelOLS Estimation Summary                           \n",
      "================================================================================\n",
      "Dep. Variable:             estabratio   R-squared:                        0.0358\n",
      "Estimator:                   PanelOLS   R-squared (Between):             -0.0086\n",
      "No. Observations:               13380   R-squared (Within):               0.0356\n",
      "Date:                Thu, Feb 27 2020   R-squared (Overall):              0.0370\n",
      "Time:                        14:34:44   Log-likelihood                -3.822e+04\n",
      "Cov. Estimator:            Unadjusted                                           \n",
      "                                        F-statistic:                      123.26\n",
      "Entities:                          85   P-value                           0.0000\n",
      "Avg Obs:                       157.41   Distribution:                 F(4,13287)\n",
      "Min Obs:                       5.0000                                           \n",
      "Max Obs:                       360.00   F-statistic (robust):             123.26\n",
      "                                        P-value                           0.0000\n",
      "Time periods:                       5   Distribution:                 F(4,13287)\n",
      "Avg Obs:                       2676.0                                           \n",
      "Min Obs:                       2676.0                                           \n",
      "Max Obs:                       2676.0                                           \n",
      "                                                                                \n",
      "                             Parameter Estimates                              \n",
      "==============================================================================\n",
      "            Parameter  Std. Err.     T-stat    P-value    Lower CI    Upper CI\n",
      "------------------------------------------------------------------------------\n",
      "const          1.5131     0.1409     10.738     0.0000      1.2368      1.7893\n",
      "pop           -0.0033     0.0003    -11.769     0.0000     -0.0038     -0.0027\n",
      "income         0.0017     0.0002     11.622     0.0000      0.0015      0.0020\n",
      "ratio_65      -3.2462     0.6144    -5.2839     0.0000     -4.4504     -2.0420\n",
      "edut          -0.0004  8.114e-05    -4.6589     0.0000     -0.0005     -0.0002\n",
      "==============================================================================\n",
      "\n",
      "F-test for Poolability: 57.065\n",
      "P-value: 0.0000\n",
      "Distribution: F(88,13287)\n",
      "\n",
      "Included effects: Entity, Time\n"
     ]
    }
   ],
   "source": [
    "mod2 = PanelOLS(df.estabratio, exog1, entity_effects=True, time_effects=True)\n",
    "fe_te_res = mod2.fit()\n",
    "print(fe_te_res)"
   ]
  },
  {
   "cell_type": "code",
   "execution_count": 52,
   "metadata": {},
   "outputs": [
    {
     "name": "stdout",
     "output_type": "stream",
     "text": [
      "                    Model Comparison                    \n",
      "========================================================\n",
      "                                       RE         Pooled\n",
      "--------------------------------------------------------\n",
      "Dep. Variable                  estabratio     estabratio\n",
      "Estimator                   RandomEffects       PanelOLS\n",
      "No. Observations                    13380          13380\n",
      "Cov. Est.                      Unadjusted     Unadjusted\n",
      "R-squared                          0.0362         0.0358\n",
      "R-Squared (Within)                 0.0360         0.0356\n",
      "R-Squared (Between)                0.0011        -0.0086\n",
      "R-Squared (Overall)                0.0319         0.0370\n",
      "F-statistic                        62.834         123.26\n",
      "P-value (F-stat)                   0.0000         0.0000\n",
      "=====================     ===============   ============\n",
      "const                              1.8003         1.5131\n",
      "                                 (3.9087)       (10.738)\n",
      "pop                               -0.0033        -0.0033\n",
      "                                (-11.963)      (-11.769)\n",
      "income                             0.0017         0.0017\n",
      "                                 (11.702)       (11.622)\n",
      "ratio_65                          -3.2784        -3.2462\n",
      "                                (-5.3474)      (-5.2839)\n",
      "edut                              -0.0004        -0.0004\n",
      "                                (-4.7068)      (-4.6589)\n",
      "year.2013                         -0.0013               \n",
      "                                (-0.0114)               \n",
      "year.2014                          0.0732               \n",
      "                                 (0.6326)               \n",
      "year.2015                          0.1734               \n",
      "                                 (1.4961)               \n",
      "year.2016                          0.2144               \n",
      "                                 (1.8475)               \n",
      "======================= ================= ==============\n",
      "Effects                                           Entity\n",
      "                                                    Time\n",
      "--------------------------------------------------------\n",
      "\n",
      "T-stats reported in parentheses\n"
     ]
    }
   ],
   "source": [
    "from linearmodels.panel import compare\n",
    "print(compare({'RE':re_res,'Pooled':fe_te_res}))"
   ]
  },
  {
   "cell_type": "code",
   "execution_count": null,
   "metadata": {},
   "outputs": [],
   "source": []
  },
  {
   "cell_type": "code",
   "execution_count": null,
   "metadata": {},
   "outputs": [],
   "source": []
  },
  {
   "cell_type": "code",
   "execution_count": null,
   "metadata": {},
   "outputs": [],
   "source": []
  },
  {
   "cell_type": "code",
   "execution_count": null,
   "metadata": {},
   "outputs": [],
   "source": []
  },
  {
   "cell_type": "code",
   "execution_count": null,
   "metadata": {},
   "outputs": [],
   "source": []
  },
  {
   "cell_type": "code",
   "execution_count": null,
   "metadata": {},
   "outputs": [],
   "source": []
  }
 ],
 "metadata": {
  "kernelspec": {
   "display_name": "Python 3",
   "language": "python",
   "name": "python3"
  },
  "language_info": {
   "codemirror_mode": {
    "name": "ipython",
    "version": 3
   },
   "file_extension": ".py",
   "mimetype": "text/x-python",
   "name": "python",
   "nbconvert_exporter": "python",
   "pygments_lexer": "ipython3",
   "version": "3.7.1"
  }
 },
 "nbformat": 4,
 "nbformat_minor": 2
}
