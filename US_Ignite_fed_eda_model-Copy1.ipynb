{
 "cells": [
  {
   "cell_type": "markdown",
   "metadata": {},
   "source": [
    "# US-Ignite Fed_Notebook"
   ]
  },
  {
   "cell_type": "markdown",
   "metadata": {},
   "source": [
    "# Data from 2009-2016"
   ]
  },
  {
   "cell_type": "code",
   "execution_count": 260,
   "metadata": {},
   "outputs": [],
   "source": [
    "#import libraries from Carto.\n",
    "from cartoframes.auth import set_default_credentials\n",
    "from cartoframes.viz import Map, Layer\n",
    "import cartoframes\n",
    "cartoframes.__version__\n",
    "#from cartoframes.viz.helpers import color_continuous_layer\n",
    "import pandas as pd\n",
    "import geopandas as gpd\n",
    "import requests\n",
    "import json\n",
    "from autocensus import Query #Library from Socrata to gather ACS Data\n",
    "from cartoframes.data.services import Geocoding\n",
    "#import censusdata\n",
    "#set_default_credentials('creds_usignite.json')\n",
    "set_default_credentials(\n",
    "    base_url='https://usignite-admin.carto.com/',\n",
    "    api_key='81c922dc336bd82103d92a768816a4567c444909'\n",
    ")\n",
    "\n",
    "from cartoframes.data.observatory import Catalog, Variable, Geography, Dataset"
   ]
  },
  {
   "cell_type": "code",
   "execution_count": 261,
   "metadata": {},
   "outputs": [],
   "source": [
    "import numpy as np\n",
    "\n",
    "from linearmodels import PanelOLS\n",
    "from linearmodels import RandomEffects\n",
    "import ipywidgets as widgets\n",
    "from ipywidgets import Output, Tab\n",
    "from IPython.display import clear_output\n",
    "from cartoframes.data.services import Isolines\n",
    "from cartoframes.data.observatory import Variable\n",
    "from cartoframes.data.observatory import Enrichment\n",
    "from cartoframes.data.observatory import Catalog"
   ]
  },
  {
   "cell_type": "markdown",
   "metadata": {},
   "source": [
    "# EDA"
   ]
  },
  {
   "cell_type": "code",
   "execution_count": 262,
   "metadata": {},
   "outputs": [],
   "source": [
    "import seaborn as sns"
   ]
  },
  {
   "cell_type": "code",
   "execution_count": 287,
   "metadata": {},
   "outputs": [],
   "source": [
    "df_final=pd.read_csv(\"~/Downloads/Final_merged_2.csv\")"
   ]
  },
  {
   "cell_type": "code",
   "execution_count": 285,
   "metadata": {},
   "outputs": [],
   "source": [
    "#df_final=df_final[df_final['year']!=2010]\n",
    "#df_final=df_final[df_final['year']!=2011]"
   ]
  },
  {
   "cell_type": "code",
   "execution_count": 286,
   "metadata": {},
   "outputs": [
    {
     "data": {
      "text/plain": [
       "array([51, 11, 21])"
      ]
     },
     "execution_count": 286,
     "metadata": {},
     "output_type": "execute_result"
    }
   ],
   "source": [
    "df_final['NAICS2012'].unique()"
   ]
  },
  {
   "cell_type": "code",
   "execution_count": 269,
   "metadata": {},
   "outputs": [],
   "source": [
    "data=df_final[['zipcode', 'geoid', 'NAICS2012', 'year', 'edut',\n",
    "       'collegemale', 'collegefemale','pop',\n",
    "       'households', 'income', 'gini', 'total_p', 'ratio_65', 'Empratio',\n",
    "       'estabratio']]"
   ]
  },
  {
   "cell_type": "code",
   "execution_count": 270,
   "metadata": {},
   "outputs": [
    {
     "name": "stderr",
     "output_type": "stream",
     "text": [
      "/Users/jiaqitang/anaconda3/lib/python3.7/site-packages/ipykernel_launcher.py:1: SettingWithCopyWarning: \n",
      "A value is trying to be set on a copy of a slice from a DataFrame.\n",
      "Try using .loc[row_indexer,col_indexer] = value instead\n",
      "\n",
      "See the caveats in the documentation: http://pandas.pydata.org/pandas-docs/stable/indexing.html#indexing-view-versus-copy\n",
      "  \"\"\"Entry point for launching an IPython kernel.\n",
      "/Users/jiaqitang/anaconda3/lib/python3.7/site-packages/ipykernel_launcher.py:2: SettingWithCopyWarning: \n",
      "A value is trying to be set on a copy of a slice from a DataFrame.\n",
      "Try using .loc[row_indexer,col_indexer] = value instead\n",
      "\n",
      "See the caveats in the documentation: http://pandas.pydata.org/pandas-docs/stable/indexing.html#indexing-view-versus-copy\n",
      "  \n"
     ]
    }
   ],
   "source": [
    "data['total_college']=data['collegemale']+data['collegefemale']\n",
    "data['college_ratio']=data['total_college']/data['edut']"
   ]
  },
  {
   "cell_type": "code",
   "execution_count": 271,
   "metadata": {},
   "outputs": [
    {
     "data": {
      "text/plain": [
       "951         0.023095\n",
       "947         0.023095\n",
       "945         0.023095\n",
       "946         0.023095\n",
       "1596        0.029354\n",
       "1604        0.029354\n",
       "1603        0.029354\n",
       "1597        0.029354\n",
       "1606        0.039139\n",
       "1605        0.039139\n",
       "1600        0.039139\n",
       "1607        0.039139\n",
       "1598        0.039139\n",
       "1599        0.039139\n",
       "12394       0.045767\n",
       "950         0.046189\n",
       "949         0.046189\n",
       "1601        0.048924\n",
       "1608        0.048924\n",
       "9961        0.052493\n",
       "1184        0.053520\n",
       "7806        0.054517\n",
       "7799        0.054517\n",
       "7792        0.054517\n",
       "798         0.055556\n",
       "812         0.055556\n",
       "5405        0.056215\n",
       "5398        0.056215\n",
       "1183        0.057637\n",
       "1609        0.058708\n",
       "            ...     \n",
       "9629     2284.260171\n",
       "9643     2284.260171\n",
       "9636     2284.260171\n",
       "10579    2388.360521\n",
       "10572    2388.360521\n",
       "10578    2461.143516\n",
       "10571    2461.143516\n",
       "10580    2531.230845\n",
       "10573    2531.230845\n",
       "10584    2562.511122\n",
       "10591    2562.511122\n",
       "11332    2804.252462\n",
       "11339    2804.252462\n",
       "11346    2804.252462\n",
       "10570    2919.406822\n",
       "10577    2919.406822\n",
       "10609    3285.556105\n",
       "10602    3285.556105\n",
       "10611    3808.482452\n",
       "10604    3808.482452\n",
       "10610    4129.144834\n",
       "10603    4129.144834\n",
       "10607    4370.874938\n",
       "10600    4370.874938\n",
       "10606    4504.073159\n",
       "10599    4504.073159\n",
       "10608    4632.338112\n",
       "10601    4632.338112\n",
       "10598    5342.728621\n",
       "10605    5342.728621\n",
       "Name: Empratio, Length: 11487, dtype: float64"
      ]
     },
     "execution_count": 271,
     "metadata": {},
     "output_type": "execute_result"
    }
   ],
   "source": [
    "data['Empratio'][data['Empratio']!=0.0].sort_values()\n"
   ]
  },
  {
   "cell_type": "code",
   "execution_count": 272,
   "metadata": {},
   "outputs": [
    {
     "data": {
      "text/plain": [
       "count    12425.000000\n",
       "mean        52.040267\n",
       "std        229.514840\n",
       "min          0.000000\n",
       "25%          0.988701\n",
       "50%          7.112824\n",
       "75%         28.543850\n",
       "max       5342.728621\n",
       "Name: Empratio, dtype: float64"
      ]
     },
     "execution_count": 272,
     "metadata": {},
     "output_type": "execute_result"
    }
   ],
   "source": [
    "data['Empratio'].describe() "
   ]
  },
  {
   "cell_type": "code",
   "execution_count": 273,
   "metadata": {},
   "outputs": [
    {
     "data": {
      "text/plain": [
       "6212        0.000000\n",
       "5351        0.000000\n",
       "5352        0.000000\n",
       "5353        0.000000\n",
       "5354        0.000000\n",
       "5355        0.000000\n",
       "5356        0.000000\n",
       "5350        0.000000\n",
       "5357        0.000000\n",
       "5359        0.000000\n",
       "5360        0.000000\n",
       "5361        0.000000\n",
       "783         0.000000\n",
       "782         0.000000\n",
       "781         0.000000\n",
       "5358        0.000000\n",
       "780         0.000000\n",
       "5349        0.000000\n",
       "5186        0.000000\n",
       "5172        0.000000\n",
       "5173        0.000000\n",
       "5174        0.000000\n",
       "5175        0.000000\n",
       "5176        0.000000\n",
       "5177        0.000000\n",
       "5348        0.000000\n",
       "5178        0.000000\n",
       "5180        0.000000\n",
       "5181        0.000000\n",
       "5182        0.000000\n",
       "            ...     \n",
       "9629     2284.260171\n",
       "9643     2284.260171\n",
       "9636     2284.260171\n",
       "10579    2388.360521\n",
       "10572    2388.360521\n",
       "10578    2461.143516\n",
       "10571    2461.143516\n",
       "10573    2531.230845\n",
       "10580    2531.230845\n",
       "10584    2562.511122\n",
       "10591    2562.511122\n",
       "11346    2804.252462\n",
       "11339    2804.252462\n",
       "11332    2804.252462\n",
       "10577    2919.406822\n",
       "10570    2919.406822\n",
       "10602    3285.556105\n",
       "10609    3285.556105\n",
       "10611    3808.482452\n",
       "10604    3808.482452\n",
       "10603    4129.144834\n",
       "10610    4129.144834\n",
       "10607    4370.874938\n",
       "10600    4370.874938\n",
       "10606    4504.073159\n",
       "10599    4504.073159\n",
       "10608    4632.338112\n",
       "10601    4632.338112\n",
       "10598    5342.728621\n",
       "10605    5342.728621\n",
       "Name: Empratio, Length: 12425, dtype: float64"
      ]
     },
     "execution_count": 273,
     "metadata": {},
     "output_type": "execute_result"
    }
   ],
   "source": [
    "data['Empratio'].sort_values()"
   ]
  },
  {
   "cell_type": "code",
   "execution_count": 162,
   "metadata": {},
   "outputs": [
    {
     "data": {
      "text/plain": [
       "<matplotlib.axes._subplots.AxesSubplot at 0x1c32e3ac88>"
      ]
     },
     "execution_count": 162,
     "metadata": {},
     "output_type": "execute_result"
    },
    {
     "data": {
      "image/png": "[encoded data removed]",
      "text/plain": [
       "<Figure size 432x288 with 1 Axes>"
      ]
     },
     "metadata": {
      "needs_background": "light"
     },
     "output_type": "display_data"
    }
   ],
   "source": [
    "data['Empratio'].plot(kind =\"hist\")"
   ]
  },
  {
   "cell_type": "code",
   "execution_count": 163,
   "metadata": {},
   "outputs": [
    {
     "data": {
      "text/plain": [
       "count    13520.000000\n",
       "mean         1.758780\n",
       "std          5.017687\n",
       "min          0.000000\n",
       "25%          0.055363\n",
       "50%          0.391575\n",
       "75%          1.357362\n",
       "max         67.585764\n",
       "Name: estabratio, dtype: float64"
      ]
     },
     "execution_count": 163,
     "metadata": {},
     "output_type": "execute_result"
    }
   ],
   "source": [
    "data['estabratio'].describe() "
   ]
  },
  {
   "cell_type": "code",
   "execution_count": 164,
   "metadata": {},
   "outputs": [
    {
     "name": "stderr",
     "output_type": "stream",
     "text": [
      "/Users/jiaqitang/anaconda3/lib/python3.7/site-packages/ipykernel_launcher.py:1: RuntimeWarning: divide by zero encountered in log\n",
      "  \"\"\"Entry point for launching an IPython kernel.\n",
      "/Users/jiaqitang/anaconda3/lib/python3.7/site-packages/ipykernel_launcher.py:1: SettingWithCopyWarning: \n",
      "A value is trying to be set on a copy of a slice from a DataFrame.\n",
      "Try using .loc[row_indexer,col_indexer] = value instead\n",
      "\n",
      "See the caveats in the documentation: http://pandas.pydata.org/pandas-docs/stable/indexing.html#indexing-view-versus-copy\n",
      "  \"\"\"Entry point for launching an IPython kernel.\n"
     ]
    }
   ],
   "source": [
    "data['logesration']=np.log(data['estabratio'])"
   ]
  },
  {
   "cell_type": "code",
   "execution_count": 165,
   "metadata": {},
   "outputs": [
    {
     "data": {
      "text/plain": [
       "<matplotlib.axes._subplots.AxesSubplot at 0x1c3b0a7668>"
      ]
     },
     "execution_count": 165,
     "metadata": {},
     "output_type": "execute_result"
    },
    {
     "data": {
      "image/png": "[encoded data removed]",
      "text/plain": [
       "<Figure size 432x288 with 1 Axes>"
      ]
     },
     "metadata": {
      "needs_background": "light"
     },
     "output_type": "display_data"
    }
   ],
   "source": [
    "data['estabratio'].plot(kind =\"hist\")"
   ]
  },
  {
   "cell_type": "code",
   "execution_count": 166,
   "metadata": {},
   "outputs": [
    {
     "name": "stderr",
     "output_type": "stream",
     "text": [
      "/Users/jiaqitang/anaconda3/lib/python3.7/site-packages/ipykernel_launcher.py:1: RuntimeWarning: divide by zero encountered in log\n",
      "  \"\"\"Entry point for launching an IPython kernel.\n"
     ]
    }
   ],
   "source": [
    "loges=np.log(data['estabratio'])"
   ]
  },
  {
   "cell_type": "code",
   "execution_count": 167,
   "metadata": {},
   "outputs": [
    {
     "data": {
      "text/plain": [
       "count    13401.000000\n",
       "mean         0.412628\n",
       "std          0.059632\n",
       "min          0.012800\n",
       "25%          0.372800\n",
       "50%          0.409000\n",
       "75%          0.449300\n",
       "max          0.700700\n",
       "Name: gini, dtype: float64"
      ]
     },
     "execution_count": 167,
     "metadata": {},
     "output_type": "execute_result"
    }
   ],
   "source": [
    "data['gini'].describe() "
   ]
  },
  {
   "cell_type": "code",
   "execution_count": 168,
   "metadata": {},
   "outputs": [
    {
     "data": {
      "text/plain": [
       "<matplotlib.axes._subplots.AxesSubplot at 0x1c3bbb3dd8>"
      ]
     },
     "execution_count": 168,
     "metadata": {},
     "output_type": "execute_result"
    },
    {
     "data": {
      "image/png": "[encoded data removed]",
      "text/plain": [
       "<Figure size 432x288 with 1 Axes>"
      ]
     },
     "metadata": {
      "needs_background": "light"
     },
     "output_type": "display_data"
    }
   ],
   "source": [
    "data['gini'].plot(kind =\"hist\") "
   ]
  },
  {
   "cell_type": "code",
   "execution_count": 169,
   "metadata": {},
   "outputs": [],
   "source": [
    "corr=data.corr().abs()\n",
    "\n",
    "#upper = corr_matrix.where(np.triu(np.ones(corr_matrix.shape), k=1).astype(np.bool))\n",
    "#to_drop = [column for column in upper.columns if any(upper[column] > 0.95)]\n"
   ]
  },
  {
   "cell_type": "code",
   "execution_count": 170,
   "metadata": {},
   "outputs": [
    {
     "data": {
      "text/plain": [
       "[Text(0.5, 0, 'zipcode'),\n",
       " Text(1.5, 0, 'geoid'),\n",
       " Text(2.5, 0, 'NAICS2012'),\n",
       " Text(3.5, 0, 'year'),\n",
       " Text(4.5, 0, 'edut'),\n",
       " Text(5.5, 0, 'collegemale'),\n",
       " Text(6.5, 0, 'collegefemale'),\n",
       " Text(7.5, 0, 'pop'),\n",
       " Text(8.5, 0, 'households'),\n",
       " Text(9.5, 0, 'income'),\n",
       " Text(10.5, 0, 'gini'),\n",
       " Text(11.5, 0, 'total_p'),\n",
       " Text(12.5, 0, 'ratio_65'),\n",
       " Text(13.5, 0, 'Empratio'),\n",
       " Text(14.5, 0, 'estabratio'),\n",
       " Text(15.5, 0, 'total_college'),\n",
       " Text(16.5, 0, 'college_ratio'),\n",
       " Text(17.5, 0, 'logesration')]"
      ]
     },
     "execution_count": 170,
     "metadata": {},
     "output_type": "execute_result"
    },
    {
     "data": {
      "image/png": "[encoded data removed]",
      "text/plain": [
       "<Figure size 432x288 with 2 Axes>"
      ]
     },
     "metadata": {
      "needs_background": "light"
     },
     "output_type": "display_data"
    }
   ],
   "source": [
    "ax = sns.heatmap(\n",
    "    corr, \n",
    "    vmin=-1, vmax=1, center=0,\n",
    "    cmap=sns.diverging_palette(20, 220, n=200),\n",
    "    square=True\n",
    ")\n",
    "ax.set_xticklabels(\n",
    "    ax.get_xticklabels(),\n",
    "    rotation=45,\n",
    "    horizontalalignment='right'\n",
    ")"
   ]
  },
  {
   "cell_type": "markdown",
   "metadata": {},
   "source": [
    "# modeling "
   ]
  },
  {
   "cell_type": "code",
   "execution_count": 171,
   "metadata": {},
   "outputs": [],
   "source": [
    "df=data"
   ]
  },
  {
   "cell_type": "code",
   "execution_count": 172,
   "metadata": {},
   "outputs": [
    {
     "data": {
      "text/plain": [
       "Index(['zipcode', 'geoid', 'NAICS2012', 'year', 'edut', 'collegemale',\n",
       "       'collegefemale', 'pop', 'households', 'income', 'gini', 'total_p',\n",
       "       'ratio_65', 'Empratio', 'estabratio', 'total_college', 'college_ratio',\n",
       "       'logesration'],\n",
       "      dtype='object')"
      ]
     },
     "execution_count": 172,
     "metadata": {},
     "output_type": "execute_result"
    }
   ],
   "source": [
    "df.columns"
   ]
  },
  {
   "cell_type": "code",
   "execution_count": 173,
   "metadata": {},
   "outputs": [
    {
     "data": {
      "text/html": [
       "<div>\n",
       "<style scoped>\n",
       "    .dataframe tbody tr th:only-of-type {\n",
       "        vertical-align: middle;\n",
       "    }\n",
       "\n",
       "    .dataframe tbody tr th {\n",
       "        vertical-align: top;\n",
       "    }\n",
       "\n",
       "    .dataframe thead th {\n",
       "        text-align: right;\n",
       "    }\n",
       "</style>\n",
       "<table border=\"1\" class=\"dataframe\">\n",
       "  <thead>\n",
       "    <tr style=\"text-align: right;\">\n",
       "      <th></th>\n",
       "      <th>zipcode</th>\n",
       "      <th>geoid</th>\n",
       "      <th>NAICS2012</th>\n",
       "      <th>year</th>\n",
       "      <th>edut</th>\n",
       "      <th>collegemale</th>\n",
       "      <th>collegefemale</th>\n",
       "      <th>pop</th>\n",
       "      <th>households</th>\n",
       "      <th>income</th>\n",
       "      <th>gini</th>\n",
       "      <th>total_p</th>\n",
       "      <th>ratio_65</th>\n",
       "      <th>Empratio</th>\n",
       "      <th>estabratio</th>\n",
       "      <th>total_college</th>\n",
       "      <th>college_ratio</th>\n",
       "      <th>logesration</th>\n",
       "    </tr>\n",
       "  </thead>\n",
       "  <tbody>\n",
       "    <tr>\n",
       "      <th>2</th>\n",
       "      <td>91901</td>\n",
       "      <td>6073015502</td>\n",
       "      <td>0</td>\n",
       "      <td>2012</td>\n",
       "      <td>1790.0</td>\n",
       "      <td>124.0</td>\n",
       "      <td>107.0</td>\n",
       "      <td>291.0</td>\n",
       "      <td>113.0</td>\n",
       "      <td>904.0</td>\n",
       "      <td>0.3790</td>\n",
       "      <td>2748</td>\n",
       "      <td>0.108806</td>\n",
       "      <td>0.293542</td>\n",
       "      <td>0.029354</td>\n",
       "      <td>231.0</td>\n",
       "      <td>0.129050</td>\n",
       "      <td>-3.528319</td>\n",
       "    </tr>\n",
       "    <tr>\n",
       "      <th>3</th>\n",
       "      <td>91901</td>\n",
       "      <td>6073015502</td>\n",
       "      <td>0</td>\n",
       "      <td>2013</td>\n",
       "      <td>1900.0</td>\n",
       "      <td>141.0</td>\n",
       "      <td>148.0</td>\n",
       "      <td>365.0</td>\n",
       "      <td>136.0</td>\n",
       "      <td>903.0</td>\n",
       "      <td>0.3782</td>\n",
       "      <td>2748</td>\n",
       "      <td>0.108806</td>\n",
       "      <td>0.176125</td>\n",
       "      <td>0.017613</td>\n",
       "      <td>289.0</td>\n",
       "      <td>0.152105</td>\n",
       "      <td>-4.039145</td>\n",
       "    </tr>\n",
       "    <tr>\n",
       "      <th>4</th>\n",
       "      <td>91901</td>\n",
       "      <td>6073015502</td>\n",
       "      <td>0</td>\n",
       "      <td>2014</td>\n",
       "      <td>1865.0</td>\n",
       "      <td>143.0</td>\n",
       "      <td>135.0</td>\n",
       "      <td>411.0</td>\n",
       "      <td>154.0</td>\n",
       "      <td>883.0</td>\n",
       "      <td>0.3837</td>\n",
       "      <td>2748</td>\n",
       "      <td>0.108806</td>\n",
       "      <td>0.234834</td>\n",
       "      <td>0.023483</td>\n",
       "      <td>278.0</td>\n",
       "      <td>0.149062</td>\n",
       "      <td>-3.751463</td>\n",
       "    </tr>\n",
       "    <tr>\n",
       "      <th>5</th>\n",
       "      <td>91901</td>\n",
       "      <td>6073015502</td>\n",
       "      <td>0</td>\n",
       "      <td>2015</td>\n",
       "      <td>2005.0</td>\n",
       "      <td>126.0</td>\n",
       "      <td>152.0</td>\n",
       "      <td>454.0</td>\n",
       "      <td>170.0</td>\n",
       "      <td>949.0</td>\n",
       "      <td>0.3917</td>\n",
       "      <td>2748</td>\n",
       "      <td>0.108806</td>\n",
       "      <td>0.645793</td>\n",
       "      <td>0.017613</td>\n",
       "      <td>278.0</td>\n",
       "      <td>0.138653</td>\n",
       "      <td>-4.039145</td>\n",
       "    </tr>\n",
       "    <tr>\n",
       "      <th>6</th>\n",
       "      <td>91901</td>\n",
       "      <td>6073015502</td>\n",
       "      <td>0</td>\n",
       "      <td>2016</td>\n",
       "      <td>2017.0</td>\n",
       "      <td>108.0</td>\n",
       "      <td>151.0</td>\n",
       "      <td>499.0</td>\n",
       "      <td>189.0</td>\n",
       "      <td>950.0</td>\n",
       "      <td>0.4479</td>\n",
       "      <td>2748</td>\n",
       "      <td>0.108806</td>\n",
       "      <td>0.704501</td>\n",
       "      <td>0.023483</td>\n",
       "      <td>259.0</td>\n",
       "      <td>0.128409</td>\n",
       "      <td>-3.751463</td>\n",
       "    </tr>\n",
       "  </tbody>\n",
       "</table>\n",
       "</div>"
      ],
      "text/plain": [
       "   zipcode       geoid  NAICS2012  year    edut  collegemale  collegefemale  \\\n",
       "2    91901  6073015502          0  2012  1790.0        124.0          107.0   \n",
       "3    91901  6073015502          0  2013  1900.0        141.0          148.0   \n",
       "4    91901  6073015502          0  2014  1865.0        143.0          135.0   \n",
       "5    91901  6073015502          0  2015  2005.0        126.0          152.0   \n",
       "6    91901  6073015502          0  2016  2017.0        108.0          151.0   \n",
       "\n",
       "     pop  households  income    gini  total_p  ratio_65  Empratio  estabratio  \\\n",
       "2  291.0       113.0   904.0  0.3790     2748  0.108806  0.293542    0.029354   \n",
       "3  365.0       136.0   903.0  0.3782     2748  0.108806  0.176125    0.017613   \n",
       "4  411.0       154.0   883.0  0.3837     2748  0.108806  0.234834    0.023483   \n",
       "5  454.0       170.0   949.0  0.3917     2748  0.108806  0.645793    0.017613   \n",
       "6  499.0       189.0   950.0  0.4479     2748  0.108806  0.704501    0.023483   \n",
       "\n",
       "   total_college  college_ratio  logesration  \n",
       "2          231.0       0.129050    -3.528319  \n",
       "3          289.0       0.152105    -4.039145  \n",
       "4          278.0       0.149062    -3.751463  \n",
       "5          278.0       0.138653    -4.039145  \n",
       "6          259.0       0.128409    -3.751463  "
      ]
     },
     "execution_count": 173,
     "metadata": {},
     "output_type": "execute_result"
    }
   ],
   "source": [
    "df.head()"
   ]
  },
  {
   "cell_type": "code",
   "execution_count": 174,
   "metadata": {},
   "outputs": [],
   "source": [
    "from linearmodels.panel import PooledOLS\n",
    "import statsmodels.api as sm"
   ]
  },
  {
   "cell_type": "code",
   "execution_count": 175,
   "metadata": {},
   "outputs": [
    {
     "name": "stderr",
     "output_type": "stream",
     "text": [
      "/Users/jiaqitang/anaconda3/lib/python3.7/site-packages/ipykernel_launcher.py:1: SettingWithCopyWarning: \n",
      "A value is trying to be set on a copy of a slice from a DataFrame.\n",
      "Try using .loc[row_indexer,col_indexer] = value instead\n",
      "\n",
      "See the caveats in the documentation: http://pandas.pydata.org/pandas-docs/stable/indexing.html#indexing-view-versus-copy\n",
      "  \"\"\"Entry point for launching an IPython kernel.\n"
     ]
    }
   ],
   "source": [
    "df['year'] = pd.to_datetime(df['year'], format='%Y')"
   ]
  },
  {
   "cell_type": "code",
   "execution_count": 176,
   "metadata": {},
   "outputs": [
    {
     "name": "stderr",
     "output_type": "stream",
     "text": [
      "/Users/jiaqitang/anaconda3/lib/python3.7/site-packages/ipykernel_launcher.py:1: SettingWithCopyWarning: \n",
      "A value is trying to be set on a copy of a slice from a DataFrame.\n",
      "Try using .loc[row_indexer,col_indexer] = value instead\n",
      "\n",
      "See the caveats in the documentation: http://pandas.pydata.org/pandas-docs/stable/indexing.html#indexing-view-versus-copy\n",
      "  \"\"\"Entry point for launching an IPython kernel.\n"
     ]
    }
   ],
   "source": [
    "df['year']=df['year'].dt.year"
   ]
  },
  {
   "cell_type": "code",
   "execution_count": 177,
   "metadata": {},
   "outputs": [],
   "source": [
    "#add column year to index\n",
    "df=df.set_index([ 'zipcode','year'])\n",
    "#swap indexes\n",
    "\n",
    "\n"
   ]
  },
  {
   "cell_type": "code",
   "execution_count": 178,
   "metadata": {},
   "outputs": [],
   "source": [
    "import statsmodels.formula.api as smf"
   ]
  },
  {
   "cell_type": "code",
   "execution_count": 179,
   "metadata": {},
   "outputs": [
    {
     "data": {
      "text/plain": [
       "Index(['geoid', 'NAICS2012', 'edut', 'collegemale', 'collegefemale', 'pop',\n",
       "       'households', 'income', 'gini', 'total_p', 'ratio_65', 'Empratio',\n",
       "       'estabratio', 'total_college', 'college_ratio', 'logesration'],\n",
       "      dtype='object')"
      ]
     },
     "execution_count": 179,
     "metadata": {},
     "output_type": "execute_result"
    }
   ],
   "source": [
    "df.columns"
   ]
  },
  {
   "cell_type": "code",
   "execution_count": 180,
   "metadata": {},
   "outputs": [
    {
     "name": "stdout",
     "output_type": "stream",
     "text": [
      "                            OLS Regression Results                            \n",
      "==============================================================================\n",
      "Dep. Variable:             estabratio   R-squared:                       0.057\n",
      "Model:                            OLS   Adj. R-squared:                  0.056\n",
      "Method:                 Least Squares   F-statistic:                     134.4\n",
      "Date:                Wed, 11 Mar 2020   Prob (F-statistic):          5.51e-166\n",
      "Time:                        13:38:55   Log-Likelihood:                -40457.\n",
      "No. Observations:               13465   AIC:                         8.093e+04\n",
      "Df Residuals:                   13458   BIC:                         8.098e+04\n",
      "Df Model:                           6                                         \n",
      "Covariance Type:            nonrobust                                         \n",
      "=================================================================================\n",
      "                    coef    std err          t      P>|t|      [0.025      0.975]\n",
      "---------------------------------------------------------------------------------\n",
      "Intercept         1.3644      0.170      8.028      0.000       1.031       1.698\n",
      "pop              -0.0017      0.000     -6.219      0.000      -0.002      -0.001\n",
      "households        0.0045      0.001      3.114      0.002       0.002       0.007\n",
      "income            0.0013      0.000      8.957      0.000       0.001       0.002\n",
      "ratio_65         -4.1501      0.575     -7.219      0.000      -5.277      -3.023\n",
      "edut             -0.0008   7.37e-05    -11.160      0.000      -0.001      -0.001\n",
      "total_college     0.0019      0.000     15.012      0.000       0.002       0.002\n",
      "==============================================================================\n",
      "Omnibus:                    16948.267   Durbin-Watson:                   0.123\n",
      "Prob(Omnibus):                  0.000   Jarque-Bera (JB):          2542486.022\n",
      "Skew:                           7.008   Prob(JB):                         0.00\n",
      "Kurtosis:                      68.843   Cond. No.                     6.22e+04\n",
      "==============================================================================\n",
      "\n",
      "Warnings:\n",
      "[1] Standard Errors assume that the covariance matrix of the errors is correctly specified.\n",
      "[2] The condition number is large, 6.22e+04. This might indicate that there are\n",
      "strong multicollinearity or other numerical problems.\n"
     ]
    }
   ],
   "source": [
    "FE_ols1 = smf.ols(formula= 'estabratio ~ 1 +pop+households+income+ratio_65+edut+total_college', data = df).fit()\n",
    "print(FE_ols1.summary())"
   ]
  },
  {
   "cell_type": "code",
   "execution_count": 181,
   "metadata": {},
   "outputs": [
    {
     "name": "stdout",
     "output_type": "stream",
     "text": [
      "                            OLS Regression Results                            \n",
      "==============================================================================\n",
      "Dep. Variable:             estabratio   R-squared:                       0.054\n",
      "Model:                            OLS   Adj. R-squared:                  0.053\n",
      "Method:                 Least Squares   F-statistic:                     127.5\n",
      "Date:                Wed, 11 Mar 2020   Prob (F-statistic):          1.69e-157\n",
      "Time:                        13:38:56   Log-Likelihood:                -40420.\n",
      "No. Observations:               13443   AIC:                         8.085e+04\n",
      "Df Residuals:                   13436   BIC:                         8.091e+04\n",
      "Df Model:                           6                                         \n",
      "Covariance Type:            nonrobust                                         \n",
      "=================================================================================\n",
      "                    coef    std err          t      P>|t|      [0.025      0.975]\n",
      "---------------------------------------------------------------------------------\n",
      "Intercept         0.0786      0.174      0.451      0.652      -0.263       0.420\n",
      "pop              -0.0024      0.000     -8.664      0.000      -0.003      -0.002\n",
      "households        0.0050      0.001      3.370      0.001       0.002       0.008\n",
      "income            0.0014      0.000      9.792      0.000       0.001       0.002\n",
      "ratio_65         -5.0047      0.608     -8.230      0.000      -6.197      -3.813\n",
      "edut             -0.0004   7.44e-05     -5.241      0.000      -0.001      -0.000\n",
      "college_ratio     6.0494      0.446     13.562      0.000       5.175       6.924\n",
      "==============================================================================\n",
      "Omnibus:                    16901.284   Durbin-Watson:                   0.122\n",
      "Prob(Omnibus):                  0.000   Jarque-Bera (JB):          2506593.853\n",
      "Skew:                           6.998   Prob(JB):                         0.00\n",
      "Kurtosis:                      68.415   Cond. No.                     6.47e+04\n",
      "==============================================================================\n",
      "\n",
      "Warnings:\n",
      "[1] Standard Errors assume that the covariance matrix of the errors is correctly specified.\n",
      "[2] The condition number is large, 6.47e+04. This might indicate that there are\n",
      "strong multicollinearity or other numerical problems.\n"
     ]
    }
   ],
   "source": [
    "FE_ols2 = smf.ols(formula= 'estabratio ~ 1 +pop+households+income+ratio_65+edut+college_ratio', data = df).fit()\n",
    "print(FE_ols2.summary())"
   ]
  },
  {
   "cell_type": "code",
   "execution_count": 182,
   "metadata": {},
   "outputs": [
    {
     "name": "stdout",
     "output_type": "stream",
     "text": [
      "                            OLS Regression Results                            \n",
      "==============================================================================\n",
      "Dep. Variable:             estabratio   R-squared:                       0.041\n",
      "Model:                            OLS   Adj. R-squared:                  0.040\n",
      "Method:                 Least Squares   F-statistic:                     114.4\n",
      "Date:                Wed, 11 Mar 2020   Prob (F-statistic):          8.65e-119\n",
      "Time:                        13:38:56   Log-Likelihood:                -40568.\n",
      "No. Observations:               13465   AIC:                         8.115e+04\n",
      "Df Residuals:                   13459   BIC:                         8.119e+04\n",
      "Df Model:                           5                                         \n",
      "Covariance Type:            nonrobust                                         \n",
      "==============================================================================\n",
      "                 coef    std err          t      P>|t|      [0.025      0.975]\n",
      "------------------------------------------------------------------------------\n",
      "Intercept      0.7767      0.167      4.658      0.000       0.450       1.104\n",
      "pop           -0.0031      0.000    -11.497      0.000      -0.004      -0.003\n",
      "households     0.0085      0.001      5.869      0.000       0.006       0.011\n",
      "income         0.0020      0.000     14.318      0.000       0.002       0.002\n",
      "ratio_65      -3.5174      0.578     -6.084      0.000      -4.651      -2.384\n",
      "edut          -0.0006    7.3e-05     -8.427      0.000      -0.001      -0.000\n",
      "==============================================================================\n",
      "Omnibus:                    17169.692   Durbin-Watson:                   0.120\n",
      "Prob(Omnibus):                  0.000   Jarque-Bera (JB):          2677597.077\n",
      "Skew:                           7.167   Prob(JB):                         0.00\n",
      "Kurtosis:                      70.580   Cond. No.                     6.07e+04\n",
      "==============================================================================\n",
      "\n",
      "Warnings:\n",
      "[1] Standard Errors assume that the covariance matrix of the errors is correctly specified.\n",
      "[2] The condition number is large, 6.07e+04. This might indicate that there are\n",
      "strong multicollinearity or other numerical problems.\n"
     ]
    }
   ],
   "source": [
    "FE_ols3 = smf.ols(formula= 'estabratio ~ 1 +pop+households+income+ratio_65+edut', data = df).fit()\n",
    "print(FE_ols3.summary())"
   ]
  },
  {
   "cell_type": "code",
   "execution_count": 183,
   "metadata": {},
   "outputs": [
    {
     "name": "stdout",
     "output_type": "stream",
     "text": [
      "                            OLS Regression Results                            \n",
      "==============================================================================\n",
      "Dep. Variable:             estabratio   R-squared:                       0.038\n",
      "Model:                            OLS   Adj. R-squared:                  0.038\n",
      "Method:                 Least Squares   F-statistic:                     134.0\n",
      "Date:                Wed, 11 Mar 2020   Prob (F-statistic):          1.89e-112\n",
      "Time:                        13:38:57   Log-Likelihood:                -40586.\n",
      "No. Observations:               13465   AIC:                         8.118e+04\n",
      "Df Residuals:                   13460   BIC:                         8.122e+04\n",
      "Df Model:                           4                                         \n",
      "Covariance Type:            nonrobust                                         \n",
      "==============================================================================\n",
      "                 coef    std err          t      P>|t|      [0.025      0.975]\n",
      "------------------------------------------------------------------------------\n",
      "Intercept      1.3603      0.134     10.148      0.000       1.098       1.623\n",
      "pop           -0.0026      0.000    -10.146      0.000      -0.003      -0.002\n",
      "income         0.0022      0.000     16.395      0.000       0.002       0.002\n",
      "ratio_65      -2.9064      0.569     -5.104      0.000      -4.022      -1.790\n",
      "edut          -0.0006    7.3e-05     -8.741      0.000      -0.001      -0.000\n",
      "==============================================================================\n",
      "Omnibus:                    17145.869   Durbin-Watson:                   0.120\n",
      "Prob(Omnibus):                  0.000   Jarque-Bera (JB):          2648525.176\n",
      "Skew:                           7.152   Prob(JB):                         0.00\n",
      "Kurtosis:                      70.202   Cond. No.                     6.00e+04\n",
      "==============================================================================\n",
      "\n",
      "Warnings:\n",
      "[1] Standard Errors assume that the covariance matrix of the errors is correctly specified.\n",
      "[2] The condition number is large,  6e+04. This might indicate that there are\n",
      "strong multicollinearity or other numerical problems.\n"
     ]
    }
   ],
   "source": [
    "FE_olsfinal = smf.ols(formula= 'estabratio ~ 1 +pop+income+ratio_65+edut', data = df).fit()\n",
    "print(FE_olsfinal.summary())"
   ]
  },
  {
   "cell_type": "code",
   "execution_count": 184,
   "metadata": {},
   "outputs": [],
   "source": [
    "import numpy as np\n",
    "import pandas as pd\n",
    "import libpysal as ps\n",
    "from mgwr.gwr import GWR, MGWR\n",
    "from mgwr.sel_bw import Sel_BW\n",
    "from mgwr.utils import compare_surfaces, truncate_colormap\n",
    "import geopandas as gp\n",
    "import matplotlib.pyplot as plt\n",
    "import matplotlib as mpl"
   ]
  },
  {
   "cell_type": "code",
   "execution_count": 185,
   "metadata": {},
   "outputs": [
    {
     "data": {
      "text/plain": [
       "Index(['geoid', 'NAICS2012', 'edut', 'collegemale', 'collegefemale', 'pop',\n",
       "       'households', 'income', 'gini', 'total_p', 'ratio_65', 'Empratio',\n",
       "       'estabratio', 'total_college', 'college_ratio', 'logesration'],\n",
       "      dtype='object')"
      ]
     },
     "execution_count": 185,
     "metadata": {},
     "output_type": "execute_result"
    }
   ],
   "source": [
    "df.columns"
   ]
  },
  {
   "cell_type": "code",
   "execution_count": 186,
   "metadata": {},
   "outputs": [],
   "source": [
    "\n",
    "year = pd.to_datetime(data['year'], format='%Y')"
   ]
  },
  {
   "cell_type": "code",
   "execution_count": 187,
   "metadata": {},
   "outputs": [],
   "source": [
    "\n",
    "year = pd.Categorical(year)"
   ]
  },
  {
   "cell_type": "code",
   "execution_count": 188,
   "metadata": {},
   "outputs": [],
   "source": [
    "df['year'] = year"
   ]
  },
  {
   "cell_type": "code",
   "execution_count": 189,
   "metadata": {},
   "outputs": [],
   "source": [
    "df['year']=df['year'].apply(lambda x: x.strftime('%Y') )"
   ]
  },
  {
   "cell_type": "code",
   "execution_count": 190,
   "metadata": {},
   "outputs": [],
   "source": [
    "df.dropna(inplace=True)"
   ]
  },
  {
   "cell_type": "code",
   "execution_count": 191,
   "metadata": {},
   "outputs": [],
   "source": [
    "\n",
    "exog_vars = ['pop','income','ratio_65','edut','year']\n",
    "exog = sm.add_constant(df[exog_vars])"
   ]
  },
  {
   "cell_type": "code",
   "execution_count": 192,
   "metadata": {},
   "outputs": [
    {
     "data": {
      "text/plain": [
       "geoid            0\n",
       "NAICS2012        0\n",
       "edut             0\n",
       "collegemale      0\n",
       "collegefemale    0\n",
       "pop              0\n",
       "households       0\n",
       "income           0\n",
       "gini             0\n",
       "total_p          0\n",
       "ratio_65         0\n",
       "Empratio         0\n",
       "estabratio       0\n",
       "total_college    0\n",
       "college_ratio    0\n",
       "logesration      0\n",
       "year             0\n",
       "dtype: int64"
      ]
     },
     "execution_count": 192,
     "metadata": {},
     "output_type": "execute_result"
    }
   ],
   "source": [
    "df.isnull().values.any()\n",
    "df.isnull().sum()"
   ]
  },
  {
   "cell_type": "code",
   "execution_count": 193,
   "metadata": {},
   "outputs": [],
   "source": [
    "from linearmodels.panel import RandomEffects\n",
    "mod = RandomEffects(df.estabratio , exog)\n"
   ]
  },
  {
   "cell_type": "code",
   "execution_count": 194,
   "metadata": {},
   "outputs": [
    {
     "name": "stdout",
     "output_type": "stream",
     "text": [
      "                        RandomEffects Estimation Summary                        \n",
      "================================================================================\n",
      "Dep. Variable:             estabratio   R-squared:                        0.0362\n",
      "Estimator:              RandomEffects   R-squared (Between):              0.0011\n",
      "No. Observations:               13380   R-squared (Within):               0.0360\n",
      "Date:                Wed, Mar 11 2020   R-squared (Overall):              0.0319\n",
      "Time:                        13:39:00   Log-likelihood                -3.826e+04\n",
      "Cov. Estimator:            Unadjusted                                           \n",
      "                                        F-statistic:                      62.834\n",
      "Entities:                          85   P-value                           0.0000\n",
      "Avg Obs:                       157.41   Distribution:                 F(8,13371)\n",
      "Min Obs:                       5.0000                                           \n",
      "Max Obs:                       360.00   F-statistic (robust):             62.056\n",
      "                                        P-value                           0.0000\n",
      "Time periods:                       5   Distribution:                 F(8,13371)\n",
      "Avg Obs:                       2676.0                                           \n",
      "Min Obs:                       2676.0                                           \n",
      "Max Obs:                       2676.0                                           \n",
      "                                                                                \n",
      "                             Parameter Estimates                              \n",
      "==============================================================================\n",
      "            Parameter  Std. Err.     T-stat    P-value    Lower CI    Upper CI\n",
      "------------------------------------------------------------------------------\n",
      "const          1.8003     0.4606     3.9087     0.0001      0.8975      2.7031\n",
      "pop           -0.0033     0.0003    -11.963     0.0000     -0.0038     -0.0027\n",
      "income         0.0017     0.0001     11.702     0.0000      0.0015      0.0020\n",
      "ratio_65      -3.2784     0.6131    -5.3474     0.0000     -4.4801     -2.0767\n",
      "edut          -0.0004  8.043e-05    -4.7068     0.0000     -0.0005     -0.0002\n",
      "year.2013     -0.0013     0.1155    -0.0114     0.9909     -0.2278      0.2252\n",
      "year.2014      0.0732     0.1157     0.6326     0.5270     -0.1536      0.2999\n",
      "year.2015      0.1734     0.1159     1.4961     0.1346     -0.0538      0.4005\n",
      "year.2016      0.2144     0.1160     1.8475     0.0647     -0.0131      0.4418\n",
      "==============================================================================\n"
     ]
    }
   ],
   "source": [
    "re_res = mod.fit()\n",
    "print(re_res)"
   ]
  },
  {
   "cell_type": "code",
   "execution_count": 195,
   "metadata": {},
   "outputs": [],
   "source": [
    "\n",
    "exog_vars1 = ['pop','income','ratio_65','edut']\n",
    "exog1 = sm.add_constant(df[exog_vars1])"
   ]
  },
  {
   "cell_type": "code",
   "execution_count": 196,
   "metadata": {},
   "outputs": [
    {
     "name": "stdout",
     "output_type": "stream",
     "text": [
      "                            OLS Regression Results                            \n",
      "==============================================================================\n",
      "Dep. Variable:             estabratio   R-squared:                       0.038\n",
      "Model:                            OLS   Adj. R-squared:                  0.038\n",
      "Method:                 Least Squares   F-statistic:                     133.0\n",
      "Date:                Wed, 11 Mar 2020   Prob (F-statistic):          1.37e-111\n",
      "Time:                        13:39:00   Log-Likelihood:                -40368.\n",
      "No. Observations:               13380   AIC:                         8.075e+04\n",
      "Df Residuals:                   13375   BIC:                         8.078e+04\n",
      "Df Model:                           4                                         \n",
      "Covariance Type:            nonrobust                                         \n",
      "==============================================================================\n",
      "                 coef    std err          t      P>|t|      [0.025      0.975]\n",
      "------------------------------------------------------------------------------\n",
      "Intercept      1.4274      0.139     10.233      0.000       1.154       1.701\n",
      "pop           -0.0026      0.000    -10.243      0.000      -0.003      -0.002\n",
      "income         0.0022      0.000     16.413      0.000       0.002       0.002\n",
      "ratio_65      -3.4857      0.639     -5.453      0.000      -4.739      -2.233\n",
      "edut          -0.0006   7.32e-05     -8.738      0.000      -0.001      -0.000\n",
      "==============================================================================\n",
      "Omnibus:                    17001.033   Durbin-Watson:                   0.120\n",
      "Prob(Omnibus):                  0.000   Jarque-Bera (JB):          2596324.128\n",
      "Skew:                           7.128   Prob(JB):                         0.00\n",
      "Kurtosis:                      69.737   Cond. No.                     6.70e+04\n",
      "==============================================================================\n",
      "\n",
      "Warnings:\n",
      "[1] Standard Errors assume that the covariance matrix of the errors is correctly specified.\n",
      "[2] The condition number is large, 6.7e+04. This might indicate that there are\n",
      "strong multicollinearity or other numerical problems.\n"
     ]
    }
   ],
   "source": [
    "FE_olsfinal = smf.ols(formula= 'estabratio ~ 1 +pop+income+ratio_65+edut', data = df).fit()\n",
    "print(FE_olsfinal.summary())"
   ]
  },
  {
   "cell_type": "code",
   "execution_count": 197,
   "metadata": {},
   "outputs": [
    {
     "name": "stdout",
     "output_type": "stream",
     "text": [
      "                          PanelOLS Estimation Summary                           \n",
      "================================================================================\n",
      "Dep. Variable:             estabratio   R-squared:                        0.0358\n",
      "Estimator:                   PanelOLS   R-squared (Between):             -0.0086\n",
      "No. Observations:               13380   R-squared (Within):               0.0356\n",
      "Date:                Wed, Mar 11 2020   R-squared (Overall):              0.0370\n",
      "Time:                        13:39:00   Log-likelihood                -3.822e+04\n",
      "Cov. Estimator:            Unadjusted                                           \n",
      "                                        F-statistic:                      123.26\n",
      "Entities:                          85   P-value                           0.0000\n",
      "Avg Obs:                       157.41   Distribution:                 F(4,13287)\n",
      "Min Obs:                       5.0000                                           \n",
      "Max Obs:                       360.00   F-statistic (robust):             123.26\n",
      "                                        P-value                           0.0000\n",
      "Time periods:                       5   Distribution:                 F(4,13287)\n",
      "Avg Obs:                       2676.0                                           \n",
      "Min Obs:                       2676.0                                           \n",
      "Max Obs:                       2676.0                                           \n",
      "                                                                                \n",
      "                             Parameter Estimates                              \n",
      "==============================================================================\n",
      "            Parameter  Std. Err.     T-stat    P-value    Lower CI    Upper CI\n",
      "------------------------------------------------------------------------------\n",
      "const          1.5131     0.1409     10.738     0.0000      1.2368      1.7893\n",
      "pop           -0.0033     0.0003    -11.769     0.0000     -0.0038     -0.0027\n",
      "income         0.0017     0.0002     11.622     0.0000      0.0015      0.0020\n",
      "ratio_65      -3.2462     0.6144    -5.2839     0.0000     -4.4504     -2.0420\n",
      "edut          -0.0004  8.114e-05    -4.6589     0.0000     -0.0005     -0.0002\n",
      "==============================================================================\n",
      "\n",
      "F-test for Poolability: 57.065\n",
      "P-value: 0.0000\n",
      "Distribution: F(88,13287)\n",
      "\n",
      "Included effects: Entity, Time\n"
     ]
    }
   ],
   "source": [
    "mod2 = PanelOLS(df.estabratio, exog1, entity_effects=True, time_effects=True)\n",
    "fe_te_res = mod2.fit()\n",
    "print(fe_te_res)"
   ]
  },
  {
   "cell_type": "code",
   "execution_count": 198,
   "metadata": {},
   "outputs": [
    {
     "name": "stdout",
     "output_type": "stream",
     "text": [
      "                    Model Comparison                    \n",
      "========================================================\n",
      "                                       RE         Pooled\n",
      "--------------------------------------------------------\n",
      "Dep. Variable                  estabratio     estabratio\n",
      "Estimator                   RandomEffects       PanelOLS\n",
      "No. Observations                    13380          13380\n",
      "Cov. Est.                      Unadjusted     Unadjusted\n",
      "R-squared                          0.0362         0.0358\n",
      "R-Squared (Within)                 0.0360         0.0356\n",
      "R-Squared (Between)                0.0011        -0.0086\n",
      "R-Squared (Overall)                0.0319         0.0370\n",
      "F-statistic                        62.834         123.26\n",
      "P-value (F-stat)                   0.0000         0.0000\n",
      "=====================     ===============   ============\n",
      "const                              1.8003         1.5131\n",
      "                                 (3.9087)       (10.738)\n",
      "pop                               -0.0033        -0.0033\n",
      "                                (-11.963)      (-11.769)\n",
      "income                             0.0017         0.0017\n",
      "                                 (11.702)       (11.622)\n",
      "ratio_65                          -3.2784        -3.2462\n",
      "                                (-5.3474)      (-5.2839)\n",
      "edut                              -0.0004        -0.0004\n",
      "                                (-4.7068)      (-4.6589)\n",
      "year.2013                         -0.0013               \n",
      "                                (-0.0114)               \n",
      "year.2014                          0.0732               \n",
      "                                 (0.6326)               \n",
      "year.2015                          0.1734               \n",
      "                                 (1.4961)               \n",
      "year.2016                          0.2144               \n",
      "                                 (1.8475)               \n",
      "======================= ================= ==============\n",
      "Effects                                           Entity\n",
      "                                                    Time\n",
      "--------------------------------------------------------\n",
      "\n",
      "T-stats reported in parentheses\n"
     ]
    }
   ],
   "source": [
    "from linearmodels.panel import compare\n",
    "print(compare({'RE':re_res,'Pooled':fe_te_res}))"
   ]
  },
  {
   "cell_type": "code",
   "execution_count": 300,
   "metadata": {},
   "outputs": [],
   "source": [
    "df_final=df_final.dropna()"
   ]
  },
  {
   "cell_type": "code",
   "execution_count": 301,
   "metadata": {},
   "outputs": [],
   "source": [
    "df_final['Empratio'][df_final['Empratio']!=0.0].sort_values()\n",
    "df_final['total_college']=df_final['collegemale']+df_final['collegefemale']\n",
    "df_final['college_ratio']=df_final['total_college']/df_final['edut']"
   ]
  },
  {
   "cell_type": "code",
   "execution_count": 302,
   "metadata": {},
   "outputs": [
    {
     "ename": "AttributeError",
     "evalue": "'MultiPolygon' object has no attribute 'encode'",
     "output_type": "error",
     "traceback": [
      "\u001b[0;31m---------------------------------------------------------------------------\u001b[0m",
      "\u001b[0;31mAttributeError\u001b[0m                            Traceback (most recent call last)",
      "\u001b[0;32m<ipython-input-302-7deb3f209719>\u001b[0m in \u001b[0;36m<module>\u001b[0;34m\u001b[0m\n\u001b[1;32m      1\u001b[0m \u001b[0;32mfrom\u001b[0m \u001b[0mshapely\u001b[0m \u001b[0;32mimport\u001b[0m \u001b[0mwkt\u001b[0m\u001b[0;34m\u001b[0m\u001b[0;34m\u001b[0m\u001b[0m\n\u001b[1;32m      2\u001b[0m \u001b[0;34m\u001b[0m\u001b[0m\n\u001b[0;32m----> 3\u001b[0;31m \u001b[0mdf_final\u001b[0m\u001b[0;34m[\u001b[0m\u001b[0;34m'geometry'\u001b[0m\u001b[0;34m]\u001b[0m \u001b[0;34m=\u001b[0m \u001b[0mdf_final\u001b[0m\u001b[0;34m[\u001b[0m\u001b[0;34m'geometry'\u001b[0m\u001b[0;34m]\u001b[0m\u001b[0;34m.\u001b[0m\u001b[0mapply\u001b[0m\u001b[0;34m(\u001b[0m\u001b[0mwkt\u001b[0m\u001b[0;34m.\u001b[0m\u001b[0mloads\u001b[0m\u001b[0;34m)\u001b[0m\u001b[0;34m\u001b[0m\u001b[0;34m\u001b[0m\u001b[0m\n\u001b[0m\u001b[1;32m      4\u001b[0m \u001b[0mdf_final\u001b[0m\u001b[0;34m[\u001b[0m\u001b[0;34m'centroid'\u001b[0m\u001b[0;34m]\u001b[0m \u001b[0;34m=\u001b[0m \u001b[0mdf_final\u001b[0m\u001b[0;34m[\u001b[0m\u001b[0;34m'centroid'\u001b[0m\u001b[0;34m]\u001b[0m\u001b[0;34m.\u001b[0m\u001b[0mapply\u001b[0m\u001b[0;34m(\u001b[0m\u001b[0mwkt\u001b[0m\u001b[0;34m.\u001b[0m\u001b[0mloads\u001b[0m\u001b[0;34m)\u001b[0m\u001b[0;34m\u001b[0m\u001b[0;34m\u001b[0m\u001b[0m\n\u001b[1;32m      5\u001b[0m \u001b[0;34m\u001b[0m\u001b[0m\n",
      "\u001b[0;32m~/anaconda3/lib/python3.7/site-packages/pandas/core/series.py\u001b[0m in \u001b[0;36mapply\u001b[0;34m(self, func, convert_dtype, args, **kwds)\u001b[0m\n\u001b[1;32m   3589\u001b[0m             \u001b[0;32melse\u001b[0m\u001b[0;34m:\u001b[0m\u001b[0;34m\u001b[0m\u001b[0;34m\u001b[0m\u001b[0m\n\u001b[1;32m   3590\u001b[0m                 \u001b[0mvalues\u001b[0m \u001b[0;34m=\u001b[0m \u001b[0mself\u001b[0m\u001b[0;34m.\u001b[0m\u001b[0mastype\u001b[0m\u001b[0;34m(\u001b[0m\u001b[0mobject\u001b[0m\u001b[0;34m)\u001b[0m\u001b[0;34m.\u001b[0m\u001b[0mvalues\u001b[0m\u001b[0;34m\u001b[0m\u001b[0;34m\u001b[0m\u001b[0m\n\u001b[0;32m-> 3591\u001b[0;31m                 \u001b[0mmapped\u001b[0m \u001b[0;34m=\u001b[0m \u001b[0mlib\u001b[0m\u001b[0;34m.\u001b[0m\u001b[0mmap_infer\u001b[0m\u001b[0;34m(\u001b[0m\u001b[0mvalues\u001b[0m\u001b[0;34m,\u001b[0m \u001b[0mf\u001b[0m\u001b[0;34m,\u001b[0m \u001b[0mconvert\u001b[0m\u001b[0;34m=\u001b[0m\u001b[0mconvert_dtype\u001b[0m\u001b[0;34m)\u001b[0m\u001b[0;34m\u001b[0m\u001b[0;34m\u001b[0m\u001b[0m\n\u001b[0m\u001b[1;32m   3592\u001b[0m \u001b[0;34m\u001b[0m\u001b[0m\n\u001b[1;32m   3593\u001b[0m         \u001b[0;32mif\u001b[0m \u001b[0mlen\u001b[0m\u001b[0;34m(\u001b[0m\u001b[0mmapped\u001b[0m\u001b[0;34m)\u001b[0m \u001b[0;32mand\u001b[0m \u001b[0misinstance\u001b[0m\u001b[0;34m(\u001b[0m\u001b[0mmapped\u001b[0m\u001b[0;34m[\u001b[0m\u001b[0;36m0\u001b[0m\u001b[0;34m]\u001b[0m\u001b[0;34m,\u001b[0m \u001b[0mSeries\u001b[0m\u001b[0;34m)\u001b[0m\u001b[0;34m:\u001b[0m\u001b[0;34m\u001b[0m\u001b[0;34m\u001b[0m\u001b[0m\n",
      "\u001b[0;32mpandas/_libs/lib.pyx\u001b[0m in \u001b[0;36mpandas._libs.lib.map_infer\u001b[0;34m()\u001b[0m\n",
      "\u001b[0;32m~/anaconda3/lib/python3.7/site-packages/shapely/wkt.py\u001b[0m in \u001b[0;36mloads\u001b[0;34m(data)\u001b[0m\n\u001b[1;32m      8\u001b[0m \u001b[0;32mdef\u001b[0m \u001b[0mloads\u001b[0m\u001b[0;34m(\u001b[0m\u001b[0mdata\u001b[0m\u001b[0;34m)\u001b[0m\u001b[0;34m:\u001b[0m\u001b[0;34m\u001b[0m\u001b[0;34m\u001b[0m\u001b[0m\n\u001b[1;32m      9\u001b[0m     \u001b[0;34m\"\"\"Load a geometry from a WKT string.\"\"\"\u001b[0m\u001b[0;34m\u001b[0m\u001b[0;34m\u001b[0m\u001b[0m\n\u001b[0;32m---> 10\u001b[0;31m     \u001b[0;32mreturn\u001b[0m \u001b[0mgeos\u001b[0m\u001b[0;34m.\u001b[0m\u001b[0mWKTReader\u001b[0m\u001b[0;34m(\u001b[0m\u001b[0mgeos\u001b[0m\u001b[0;34m.\u001b[0m\u001b[0mlgeos\u001b[0m\u001b[0;34m)\u001b[0m\u001b[0;34m.\u001b[0m\u001b[0mread\u001b[0m\u001b[0;34m(\u001b[0m\u001b[0mdata\u001b[0m\u001b[0;34m)\u001b[0m\u001b[0;34m\u001b[0m\u001b[0;34m\u001b[0m\u001b[0m\n\u001b[0m\u001b[1;32m     11\u001b[0m \u001b[0;34m\u001b[0m\u001b[0m\n\u001b[1;32m     12\u001b[0m \u001b[0;32mdef\u001b[0m \u001b[0mload\u001b[0m\u001b[0;34m(\u001b[0m\u001b[0mfp\u001b[0m\u001b[0;34m)\u001b[0m\u001b[0;34m:\u001b[0m\u001b[0;34m\u001b[0m\u001b[0;34m\u001b[0m\u001b[0m\n",
      "\u001b[0;32m~/anaconda3/lib/python3.7/site-packages/shapely/geos.py\u001b[0m in \u001b[0;36mread\u001b[0;34m(self, text)\u001b[0m\n\u001b[1;32m    248\u001b[0m         \u001b[0;34m\"\"\"Returns geometry from WKT\"\"\"\u001b[0m\u001b[0;34m\u001b[0m\u001b[0;34m\u001b[0m\u001b[0m\n\u001b[1;32m    249\u001b[0m         \u001b[0;32mif\u001b[0m \u001b[0msys\u001b[0m\u001b[0;34m.\u001b[0m\u001b[0mversion_info\u001b[0m\u001b[0;34m[\u001b[0m\u001b[0;36m0\u001b[0m\u001b[0;34m]\u001b[0m \u001b[0;34m>=\u001b[0m \u001b[0;36m3\u001b[0m\u001b[0;34m:\u001b[0m\u001b[0;34m\u001b[0m\u001b[0;34m\u001b[0m\u001b[0m\n\u001b[0;32m--> 250\u001b[0;31m             \u001b[0mtext\u001b[0m \u001b[0;34m=\u001b[0m \u001b[0mtext\u001b[0m\u001b[0;34m.\u001b[0m\u001b[0mencode\u001b[0m\u001b[0;34m(\u001b[0m\u001b[0;34m'ascii'\u001b[0m\u001b[0;34m)\u001b[0m\u001b[0;34m\u001b[0m\u001b[0;34m\u001b[0m\u001b[0m\n\u001b[0m\u001b[1;32m    251\u001b[0m         \u001b[0mgeom\u001b[0m \u001b[0;34m=\u001b[0m \u001b[0mself\u001b[0m\u001b[0;34m.\u001b[0m\u001b[0m_lgeos\u001b[0m\u001b[0;34m.\u001b[0m\u001b[0mGEOSWKTReader_read\u001b[0m\u001b[0;34m(\u001b[0m\u001b[0mself\u001b[0m\u001b[0;34m.\u001b[0m\u001b[0m_reader\u001b[0m\u001b[0;34m,\u001b[0m \u001b[0mc_char_p\u001b[0m\u001b[0;34m(\u001b[0m\u001b[0mtext\u001b[0m\u001b[0;34m)\u001b[0m\u001b[0;34m)\u001b[0m\u001b[0;34m\u001b[0m\u001b[0;34m\u001b[0m\u001b[0m\n\u001b[1;32m    252\u001b[0m         \u001b[0;32mif\u001b[0m \u001b[0;32mnot\u001b[0m \u001b[0mgeom\u001b[0m\u001b[0;34m:\u001b[0m\u001b[0;34m\u001b[0m\u001b[0;34m\u001b[0m\u001b[0m\n",
      "\u001b[0;31mAttributeError\u001b[0m: 'MultiPolygon' object has no attribute 'encode'"
     ]
    }
   ],
   "source": [
    "from shapely import wkt\n",
    "\n",
    "df_final['geometry'] = df_final['geometry'].apply(wkt.loads)\n",
    "df_final['centroid'] = df_final['centroid'].apply(wkt.loads)\n",
    "\n"
   ]
  },
  {
   "cell_type": "code",
   "execution_count": 303,
   "metadata": {},
   "outputs": [],
   "source": [
    "\n",
    "dfshp = gp.GeoDataFrame(df_final, geometry='geometry')"
   ]
  },
  {
   "cell_type": "code",
   "execution_count": 304,
   "metadata": {},
   "outputs": [
    {
     "data": {
      "image/png": "[encoded data removed]",
      "text/plain": [
       "<Figure size 720x720 with 1 Axes>"
      ]
     },
     "metadata": {
      "needs_background": "light"
     },
     "output_type": "display_data"
    }
   ],
   "source": [
    "\n",
    "fig, ax = plt.subplots(figsize = (10, 10))\n",
    "dfshp.plot(ax=ax, **{'edgecolor': 'black', 'facecolor': 'white'})\n",
    "dfshp.centroid.plot(ax = ax, c = 'black')\n",
    "plt.savefig('sd_shp')\n",
    "plt.show()"
   ]
  },
  {
   "cell_type": "code",
   "execution_count": 305,
   "metadata": {},
   "outputs": [
    {
     "data": {
      "text/html": [
       "<div>\n",
       "<style scoped>\n",
       "    .dataframe tbody tr th:only-of-type {\n",
       "        vertical-align: middle;\n",
       "    }\n",
       "\n",
       "    .dataframe tbody tr th {\n",
       "        vertical-align: top;\n",
       "    }\n",
       "\n",
       "    .dataframe thead th {\n",
       "        text-align: right;\n",
       "    }\n",
       "</style>\n",
       "<table border=\"1\" class=\"dataframe\">\n",
       "  <thead>\n",
       "    <tr style=\"text-align: right;\">\n",
       "      <th></th>\n",
       "      <th>Unnamed: 0</th>\n",
       "      <th>geo_id</th>\n",
       "      <th>pop</th>\n",
       "      <th>centroid</th>\n",
       "      <th>year</th>\n",
       "      <th>geometry</th>\n",
       "      <th>edut</th>\n",
       "      <th>collegemale</th>\n",
       "      <th>collegefemale</th>\n",
       "      <th>households</th>\n",
       "      <th>...</th>\n",
       "      <th>gini</th>\n",
       "      <th>total_p</th>\n",
       "      <th>ratio_65</th>\n",
       "      <th>zipcode</th>\n",
       "      <th>geoid</th>\n",
       "      <th>NAICS2012</th>\n",
       "      <th>Empratio</th>\n",
       "      <th>estabratio</th>\n",
       "      <th>total_college</th>\n",
       "      <th>college_ratio</th>\n",
       "    </tr>\n",
       "  </thead>\n",
       "  <tbody>\n",
       "    <tr>\n",
       "      <th>0</th>\n",
       "      <td>318</td>\n",
       "      <td>6073015502</td>\n",
       "      <td>208.0</td>\n",
       "      <td>POINT (-116.8304254797509 32.81131603277056)</td>\n",
       "      <td>2010</td>\n",
       "      <td>MULTIPOLYGON (((-116.85839 32.81723, -116.8547...</td>\n",
       "      <td>1651.0</td>\n",
       "      <td>130.0</td>\n",
       "      <td>107.0</td>\n",
       "      <td>83.0</td>\n",
       "      <td>...</td>\n",
       "      <td>0.4400</td>\n",
       "      <td>2748</td>\n",
       "      <td>0.108806</td>\n",
       "      <td>91901</td>\n",
       "      <td>6073015502</td>\n",
       "      <td>51</td>\n",
       "      <td>0.176125</td>\n",
       "      <td>0.017613</td>\n",
       "      <td>237.0</td>\n",
       "      <td>0.143549</td>\n",
       "    </tr>\n",
       "    <tr>\n",
       "      <th>1</th>\n",
       "      <td>318</td>\n",
       "      <td>6073015502</td>\n",
       "      <td>234.0</td>\n",
       "      <td>POINT (-116.8304254797509 32.81131603277056)</td>\n",
       "      <td>2011</td>\n",
       "      <td>MULTIPOLYGON (((-116.85839 32.81723, -116.8547...</td>\n",
       "      <td>1717.0</td>\n",
       "      <td>124.0</td>\n",
       "      <td>114.0</td>\n",
       "      <td>95.0</td>\n",
       "      <td>...</td>\n",
       "      <td>0.4080</td>\n",
       "      <td>2748</td>\n",
       "      <td>0.108806</td>\n",
       "      <td>91901</td>\n",
       "      <td>6073015502</td>\n",
       "      <td>51</td>\n",
       "      <td>0.176125</td>\n",
       "      <td>0.017613</td>\n",
       "      <td>238.0</td>\n",
       "      <td>0.138614</td>\n",
       "    </tr>\n",
       "    <tr>\n",
       "      <th>2</th>\n",
       "      <td>318</td>\n",
       "      <td>6073015502</td>\n",
       "      <td>291.0</td>\n",
       "      <td>POINT (-116.8304254797509 32.81131603277056)</td>\n",
       "      <td>2012</td>\n",
       "      <td>MULTIPOLYGON (((-116.85839 32.81723, -116.8547...</td>\n",
       "      <td>1790.0</td>\n",
       "      <td>124.0</td>\n",
       "      <td>107.0</td>\n",
       "      <td>113.0</td>\n",
       "      <td>...</td>\n",
       "      <td>0.3790</td>\n",
       "      <td>2748</td>\n",
       "      <td>0.108806</td>\n",
       "      <td>91901</td>\n",
       "      <td>6073015502</td>\n",
       "      <td>51</td>\n",
       "      <td>0.293542</td>\n",
       "      <td>0.029354</td>\n",
       "      <td>231.0</td>\n",
       "      <td>0.129050</td>\n",
       "    </tr>\n",
       "    <tr>\n",
       "      <th>3</th>\n",
       "      <td>318</td>\n",
       "      <td>6073015502</td>\n",
       "      <td>365.0</td>\n",
       "      <td>POINT (-116.8304254797509 32.81131603277056)</td>\n",
       "      <td>2013</td>\n",
       "      <td>MULTIPOLYGON (((-116.85839 32.81723, -116.8547...</td>\n",
       "      <td>1900.0</td>\n",
       "      <td>141.0</td>\n",
       "      <td>148.0</td>\n",
       "      <td>136.0</td>\n",
       "      <td>...</td>\n",
       "      <td>0.3782</td>\n",
       "      <td>2748</td>\n",
       "      <td>0.108806</td>\n",
       "      <td>91901</td>\n",
       "      <td>6073015502</td>\n",
       "      <td>51</td>\n",
       "      <td>0.176125</td>\n",
       "      <td>0.017613</td>\n",
       "      <td>289.0</td>\n",
       "      <td>0.152105</td>\n",
       "    </tr>\n",
       "    <tr>\n",
       "      <th>4</th>\n",
       "      <td>318</td>\n",
       "      <td>6073015502</td>\n",
       "      <td>411.0</td>\n",
       "      <td>POINT (-116.8304645225708 32.81130364624261)</td>\n",
       "      <td>2014</td>\n",
       "      <td>MULTIPOLYGON (((-116.85839 32.81723, -116.8547...</td>\n",
       "      <td>1865.0</td>\n",
       "      <td>143.0</td>\n",
       "      <td>135.0</td>\n",
       "      <td>154.0</td>\n",
       "      <td>...</td>\n",
       "      <td>0.3837</td>\n",
       "      <td>2748</td>\n",
       "      <td>0.108806</td>\n",
       "      <td>91901</td>\n",
       "      <td>6073015502</td>\n",
       "      <td>51</td>\n",
       "      <td>0.234834</td>\n",
       "      <td>0.023483</td>\n",
       "      <td>278.0</td>\n",
       "      <td>0.149062</td>\n",
       "    </tr>\n",
       "  </tbody>\n",
       "</table>\n",
       "<p>5 rows × 21 columns</p>\n",
       "</div>"
      ],
      "text/plain": [
       "   Unnamed: 0      geo_id    pop  \\\n",
       "0         318  6073015502  208.0   \n",
       "1         318  6073015502  234.0   \n",
       "2         318  6073015502  291.0   \n",
       "3         318  6073015502  365.0   \n",
       "4         318  6073015502  411.0   \n",
       "\n",
       "                                       centroid  year  \\\n",
       "0  POINT (-116.8304254797509 32.81131603277056)  2010   \n",
       "1  POINT (-116.8304254797509 32.81131603277056)  2011   \n",
       "2  POINT (-116.8304254797509 32.81131603277056)  2012   \n",
       "3  POINT (-116.8304254797509 32.81131603277056)  2013   \n",
       "4  POINT (-116.8304645225708 32.81130364624261)  2014   \n",
       "\n",
       "                                            geometry    edut  collegemale  \\\n",
       "0  MULTIPOLYGON (((-116.85839 32.81723, -116.8547...  1651.0        130.0   \n",
       "1  MULTIPOLYGON (((-116.85839 32.81723, -116.8547...  1717.0        124.0   \n",
       "2  MULTIPOLYGON (((-116.85839 32.81723, -116.8547...  1790.0        124.0   \n",
       "3  MULTIPOLYGON (((-116.85839 32.81723, -116.8547...  1900.0        141.0   \n",
       "4  MULTIPOLYGON (((-116.85839 32.81723, -116.8547...  1865.0        143.0   \n",
       "\n",
       "   collegefemale  households  ...    gini  total_p  ratio_65  zipcode  \\\n",
       "0          107.0        83.0  ...  0.4400     2748  0.108806    91901   \n",
       "1          114.0        95.0  ...  0.4080     2748  0.108806    91901   \n",
       "2          107.0       113.0  ...  0.3790     2748  0.108806    91901   \n",
       "3          148.0       136.0  ...  0.3782     2748  0.108806    91901   \n",
       "4          135.0       154.0  ...  0.3837     2748  0.108806    91901   \n",
       "\n",
       "        geoid  NAICS2012  Empratio  estabratio  total_college  college_ratio  \n",
       "0  6073015502         51  0.176125    0.017613          237.0       0.143549  \n",
       "1  6073015502         51  0.176125    0.017613          238.0       0.138614  \n",
       "2  6073015502         51  0.293542    0.029354          231.0       0.129050  \n",
       "3  6073015502         51  0.176125    0.017613          289.0       0.152105  \n",
       "4  6073015502         51  0.234834    0.023483          278.0       0.149062  \n",
       "\n",
       "[5 rows x 21 columns]"
      ]
     },
     "execution_count": 305,
     "metadata": {},
     "output_type": "execute_result"
    }
   ],
   "source": [
    "dfshp.head()"
   ]
  },
  {
   "cell_type": "code",
   "execution_count": 306,
   "metadata": {},
   "outputs": [],
   "source": [
    "g_y=dfshp['estabratio'].values.reshape((-1, 1))"
   ]
  },
  {
   "cell_type": "code",
   "execution_count": 307,
   "metadata": {},
   "outputs": [],
   "source": [
    "g_X =dfshp[['pop','income','ratio_65','edut','total_college']].values"
   ]
  },
  {
   "cell_type": "code",
   "execution_count": 308,
   "metadata": {},
   "outputs": [],
   "source": [
    "def getXY(pt):\n",
    "    return (pt.x, pt.y)\n",
    "x,y = [list(t) for t in zip(*map(getXY, dfshp['centroid']))]"
   ]
  },
  {
   "cell_type": "code",
   "execution_count": 309,
   "metadata": {},
   "outputs": [],
   "source": [
    "g_coords = g_coords = list(zip(x, y))"
   ]
  },
  {
   "cell_type": "code",
   "execution_count": 310,
   "metadata": {},
   "outputs": [],
   "source": [
    "gwr_selector = Sel_BW(g_coords, g_y, g_X)"
   ]
  },
  {
   "cell_type": "code",
   "execution_count": 311,
   "metadata": {},
   "outputs": [
    {
     "name": "stderr",
     "output_type": "stream",
     "text": [
      "/Users/jiaqitang/anaconda3/lib/python3.7/site-packages/spglm/iwls.py:37: LinAlgWarning: scipy.linalg.solve\n",
      "Ill-conditioned matrix detected. Result is not guaranteed to be accurate.\n",
      "Reciprocal condition number1.031351e-17\n",
      "  xtx_inv_xt = linalg.solve(xtx, xT)\n",
      "/Users/jiaqitang/anaconda3/lib/python3.7/site-packages/spglm/iwls.py:37: LinAlgWarning: scipy.linalg.solve\n",
      "Ill-conditioned matrix detected. Result is not guaranteed to be accurate.\n",
      "Reciprocal condition number4.120854e-19\n",
      "  xtx_inv_xt = linalg.solve(xtx, xT)\n",
      "/Users/jiaqitang/anaconda3/lib/python3.7/site-packages/spglm/iwls.py:37: LinAlgWarning: scipy.linalg.solve\n",
      "Ill-conditioned matrix detected. Result is not guaranteed to be accurate.\n",
      "Reciprocal condition number4.115571e-19\n",
      "  xtx_inv_xt = linalg.solve(xtx, xT)\n"
     ]
    }
   ],
   "source": [
    "gwr_bw = gwr_selector.search()"
   ]
  },
  {
   "cell_type": "code",
   "execution_count": 312,
   "metadata": {},
   "outputs": [],
   "source": [
    "gwr_model = GWR(g_coords, g_y, g_X, gwr_bw)"
   ]
  },
  {
   "cell_type": "code",
   "execution_count": 313,
   "metadata": {},
   "outputs": [],
   "source": [
    "gwr_results = gwr_model.fit()"
   ]
  },
  {
   "cell_type": "code",
   "execution_count": 314,
   "metadata": {},
   "outputs": [
    {
     "name": "stdout",
     "output_type": "stream",
     "text": [
      "102878.90473818834\n"
     ]
    }
   ],
   "source": [
    "print(gwr_results.resid_ss)"
   ]
  },
  {
   "cell_type": "code",
   "execution_count": 315,
   "metadata": {},
   "outputs": [],
   "source": [
    "bws = (x for x in range(25, 175, 25))"
   ]
  },
  {
   "cell_type": "code",
   "execution_count": 316,
   "metadata": {},
   "outputs": [
    {
     "name": "stdout",
     "output_type": "stream",
     "text": [
      "62763.36160179468\n",
      "62905.884339990385\n",
      "0.6804581824867799\n"
     ]
    }
   ],
   "source": [
    "print(gwr_results.aic)\n",
    "print(gwr_results.aicc)\n",
    "print(gwr_results.R2)\n"
   ]
  },
  {
   "cell_type": "code",
   "execution_count": 317,
   "metadata": {},
   "outputs": [
    {
     "data": {
      "text/plain": [
       "12283"
      ]
     },
     "execution_count": 317,
     "metadata": {},
     "output_type": "execute_result"
    }
   ],
   "source": [
    "len(dfshp)"
   ]
  },
  {
   "cell_type": "code",
   "execution_count": 318,
   "metadata": {},
   "outputs": [],
   "source": [
    "s=abs(gwr_results.localR2)"
   ]
  },
  {
   "cell_type": "code",
   "execution_count": 319,
   "metadata": {},
   "outputs": [
    {
     "data": {
      "text/plain": [
       "array([[ 0.66228743],\n",
       "       [ 0.66228743],\n",
       "       [ 0.66228743],\n",
       "       ...,\n",
       "       [-0.0598138 ],\n",
       "       [-0.05982655],\n",
       "       [-0.05981438]])"
      ]
     },
     "execution_count": 319,
     "metadata": {},
     "output_type": "execute_result"
    }
   ],
   "source": [
    "gwr_results.localR2"
   ]
  },
  {
   "cell_type": "code",
   "execution_count": 320,
   "metadata": {},
   "outputs": [
    {
     "data": {
      "image/png": "[encoded data removed]",
      "text/plain": [
       "<Figure size 432x288 with 2 Axes>"
      ]
     },
     "metadata": {
      "needs_background": "light"
     },
     "output_type": "display_data"
    }
   ],
   "source": [
    "#Local model fit\n",
    "dfshp['R2'] =gwr_results.localR2\n",
    "dfshp.plot('R2', legend = True)\n",
    "ax = plt.gca()\n",
    "ax.get_xaxis().set_visible(False)\n",
    "ax.get_yaxis().set_visible(False)\n",
    "plt.savefig('local_R2')\n",
    "plt.show()"
   ]
  },
  {
   "cell_type": "code",
   "execution_count": null,
   "metadata": {},
   "outputs": [],
   "source": [
    "##clustering\n",
    "##sensor clusterings\n"
   ]
  }
 ],
 "metadata": {
  "kernelspec": {
   "display_name": "Python 3",
   "language": "python",
   "name": "python3"
  },
  "language_info": {
   "codemirror_mode": {
    "name": "ipython",
    "version": 3
   },
   "file_extension": ".py",
   "mimetype": "text/x-python",
   "name": "python",
   "nbconvert_exporter": "python",
   "pygments_lexer": "ipython3",
   "version": "3.7.1"
  }
 },
 "nbformat": 4,
 "nbformat_minor": 2
}
