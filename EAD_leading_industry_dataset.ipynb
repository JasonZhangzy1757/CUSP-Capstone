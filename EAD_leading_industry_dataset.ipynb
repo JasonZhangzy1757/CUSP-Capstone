{
 "cells": [
  {
   "cell_type": "code",
   "execution_count": 2,
   "metadata": {},
   "outputs": [],
   "source": [
    "import pandas as pd"
   ]
  },
  {
   "cell_type": "code",
   "execution_count": 6,
   "metadata": {},
   "outputs": [],
   "source": [
    "import geopandas\n",
    "import pysal as ps\n",
    "from pysal.lib import examples\n",
    "#import pysal\n",
    "#graph = pysal.open(pysal.examples.get_path('columbus.gal')).read()\n",
    "#dataframe = geopandas.read_file(examples.get_path('columbus.dbf'))\n",
    "#data = data['HOVAL'].values"
   ]
  },
  {
   "cell_type": "code",
   "execution_count": 7,
   "metadata": {},
   "outputs": [
    {
     "name": "stdout",
     "output_type": "stream",
     "text": [
      "/Users/jiaqitang/portland\r\n"
     ]
    }
   ],
   "source": [
    "!pwd"
   ]
  },
  {
   "cell_type": "code",
   "execution_count": null,
   "metadata": {},
   "outputs": [],
   "source": [
    "shp_path = \"data/texas.shp\" \n",
    "df = geopandas.read_file(shp_path) \n"
   ]
  },
  {
   "cell_type": "code",
   "execution_count": null,
   "metadata": {},
   "outputs": [],
   "source": [
    "qW = Queen.from_dataframe(df)"
   ]
  },
  {
   "cell_type": "code",
   "execution_count": 8,
   "metadata": {},
   "outputs": [
    {
     "ename": "AttributeError",
     "evalue": "module 'pysal' has no attribute 'queen_from_shapefile'",
     "output_type": "error",
     "traceback": [
      "\u001b[0;31m---------------------------------------------------------------------------\u001b[0m",
      "\u001b[0;31mAttributeError\u001b[0m                            Traceback (most recent call last)",
      "\u001b[0;32m<ipython-input-8-6c592d6bfb58>\u001b[0m in \u001b[0;36m<module>\u001b[0;34m\u001b[0m\n\u001b[0;32m----> 1\u001b[0;31m \u001b[0mqW\u001b[0m \u001b[0;34m=\u001b[0m \u001b[0mps\u001b[0m\u001b[0;34m.\u001b[0m\u001b[0mqueen_from_shapefile\u001b[0m\u001b[0;34m(\u001b[0m\u001b[0mshp_path\u001b[0m\u001b[0;34m)\u001b[0m\u001b[0;34m\u001b[0m\u001b[0;34m\u001b[0m\u001b[0m\n\u001b[0m",
      "\u001b[0;31mAttributeError\u001b[0m: module 'pysal' has no attribute 'queen_from_shapefile'"
     ]
    }
   ],
   "source": [
    "qW = ps.queen_from_shapefile(shp_path)"
   ]
  },
  {
   "cell_type": "code",
   "execution_count": 9,
   "metadata": {},
   "outputs": [],
   "source": [
    "# Import packages\n",
    "#import pysal as ps\n",
    "import libpysal as lps\n"
   ]
  },
  {
   "cell_type": "code",
   "execution_count": 10,
   "metadata": {},
   "outputs": [],
   "source": [
    "%matplotlib inline\n",
    "\n",
    "import seaborn as sns\n",
    "import matplotlib.pyplot as plt\n",
    "import numpy as np\n",
    "import pandas as pd\n",
    "import pysal as ps\n",
    "import geopandas as gpd\n"
   ]
  },
  {
   "cell_type": "code",
   "execution_count": 11,
   "metadata": {},
   "outputs": [],
   "source": [
    "from sklearn import cluster\n",
    "from sklearn.preprocessing import scale\n",
    "from scipy.special import factorial\n",
    "sns.set(style=\"whitegrid\")"
   ]
  },
  {
   "cell_type": "code",
   "execution_count": 12,
   "metadata": {},
   "outputs": [
    {
     "name": "stdout",
     "output_type": "stream",
     "text": [
      "~/Downloads/max_nasic_diff.csv is not a file in any installed dataset.\n"
     ]
    },
    {
     "ename": "TypeError",
     "evalue": "expected str, bytes or os.PathLike object, not NoneType",
     "output_type": "error",
     "traceback": [
      "\u001b[0;31m---------------------------------------------------------------------------\u001b[0m",
      "\u001b[0;31mTypeError\u001b[0m                                 Traceback (most recent call last)",
      "\u001b[0;32m<ipython-input-12-a674e756d139>\u001b[0m in \u001b[0;36m<module>\u001b[0;34m\u001b[0m\n\u001b[1;32m      4\u001b[0m \u001b[0;34m\u001b[0m\u001b[0m\n\u001b[1;32m      5\u001b[0m \u001b[0;31m# Note the difference here\u001b[0m\u001b[0;34m\u001b[0m\u001b[0;34m\u001b[0m\u001b[0;34m\u001b[0m\u001b[0m\n\u001b[0;32m----> 6\u001b[0;31m \u001b[0mf\u001b[0m \u001b[0;34m=\u001b[0m \u001b[0mps\u001b[0m\u001b[0;34m.\u001b[0m\u001b[0mlib\u001b[0m\u001b[0;34m.\u001b[0m\u001b[0mio\u001b[0m\u001b[0;34m.\u001b[0m\u001b[0mopen\u001b[0m\u001b[0;34m(\u001b[0m\u001b[0mcsv_path\u001b[0m\u001b[0;34m)\u001b[0m\u001b[0;34m\u001b[0m\u001b[0;34m\u001b[0m\u001b[0m\n\u001b[0m",
      "\u001b[0;32m~/anaconda3/lib/python3.7/site-packages/libpysal/io/fileio.py\u001b[0m in \u001b[0;36m__new__\u001b[0;34m(cls, dataPath, mode, dataFormat)\u001b[0m\n\u001b[1;32m     65\u001b[0m             \u001b[0;32mtry\u001b[0m\u001b[0;34m:\u001b[0m\u001b[0;34m\u001b[0m\u001b[0;34m\u001b[0m\u001b[0m\n\u001b[1;32m     66\u001b[0m                 newCls = object.__new__(cls.__registry[cls.getType(dataPath,\n\u001b[0;32m---> 67\u001b[0;31m                                                                    mode, dataFormat)][mode][0])\n\u001b[0m\u001b[1;32m     68\u001b[0m             \u001b[0;32mexcept\u001b[0m \u001b[0mKeyError\u001b[0m\u001b[0;34m:\u001b[0m\u001b[0;34m\u001b[0m\u001b[0;34m\u001b[0m\u001b[0m\n\u001b[1;32m     69\u001b[0m                 \u001b[0;32mreturn\u001b[0m \u001b[0mopen\u001b[0m\u001b[0;34m(\u001b[0m\u001b[0mdataPath\u001b[0m\u001b[0;34m,\u001b[0m \u001b[0mmode\u001b[0m\u001b[0;34m)\u001b[0m\u001b[0;34m\u001b[0m\u001b[0;34m\u001b[0m\u001b[0m\n",
      "\u001b[0;32m~/anaconda3/lib/python3.7/site-packages/libpysal/io/fileio.py\u001b[0m in \u001b[0;36mgetType\u001b[0;34m(dataPath, mode, dataFormat)\u001b[0m\n\u001b[1;32m     78\u001b[0m             \u001b[0mext\u001b[0m \u001b[0;34m=\u001b[0m \u001b[0mdataFormat\u001b[0m\u001b[0;34m\u001b[0m\u001b[0;34m\u001b[0m\u001b[0m\n\u001b[1;32m     79\u001b[0m         \u001b[0;32melse\u001b[0m\u001b[0;34m:\u001b[0m\u001b[0;34m\u001b[0m\u001b[0;34m\u001b[0m\u001b[0m\n\u001b[0;32m---> 80\u001b[0;31m             \u001b[0mext\u001b[0m \u001b[0;34m=\u001b[0m \u001b[0mos\u001b[0m\u001b[0;34m.\u001b[0m\u001b[0mpath\u001b[0m\u001b[0;34m.\u001b[0m\u001b[0msplitext\u001b[0m\u001b[0;34m(\u001b[0m\u001b[0mdataPath\u001b[0m\u001b[0;34m)\u001b[0m\u001b[0;34m[\u001b[0m\u001b[0;36m1\u001b[0m\u001b[0;34m]\u001b[0m\u001b[0;34m\u001b[0m\u001b[0;34m\u001b[0m\u001b[0m\n\u001b[0m\u001b[1;32m     81\u001b[0m             \u001b[0mext\u001b[0m \u001b[0;34m=\u001b[0m \u001b[0mext\u001b[0m\u001b[0;34m.\u001b[0m\u001b[0mreplace\u001b[0m\u001b[0;34m(\u001b[0m\u001b[0;34m'.'\u001b[0m\u001b[0;34m,\u001b[0m \u001b[0;34m''\u001b[0m\u001b[0;34m)\u001b[0m\u001b[0;34m\u001b[0m\u001b[0;34m\u001b[0m\u001b[0m\n\u001b[1;32m     82\u001b[0m             \u001b[0mext\u001b[0m \u001b[0;34m=\u001b[0m \u001b[0mext\u001b[0m\u001b[0;34m.\u001b[0m\u001b[0mlower\u001b[0m\u001b[0;34m(\u001b[0m\u001b[0;34m)\u001b[0m\u001b[0;34m\u001b[0m\u001b[0;34m\u001b[0m\u001b[0m\n",
      "\u001b[0;32m~/anaconda3/lib/python3.7/posixpath.py\u001b[0m in \u001b[0;36msplitext\u001b[0;34m(p)\u001b[0m\n\u001b[1;32m    120\u001b[0m \u001b[0;34m\u001b[0m\u001b[0m\n\u001b[1;32m    121\u001b[0m \u001b[0;32mdef\u001b[0m \u001b[0msplitext\u001b[0m\u001b[0;34m(\u001b[0m\u001b[0mp\u001b[0m\u001b[0;34m)\u001b[0m\u001b[0;34m:\u001b[0m\u001b[0;34m\u001b[0m\u001b[0;34m\u001b[0m\u001b[0m\n\u001b[0;32m--> 122\u001b[0;31m     \u001b[0mp\u001b[0m \u001b[0;34m=\u001b[0m \u001b[0mos\u001b[0m\u001b[0;34m.\u001b[0m\u001b[0mfspath\u001b[0m\u001b[0;34m(\u001b[0m\u001b[0mp\u001b[0m\u001b[0;34m)\u001b[0m\u001b[0;34m\u001b[0m\u001b[0;34m\u001b[0m\u001b[0m\n\u001b[0m\u001b[1;32m    123\u001b[0m     \u001b[0;32mif\u001b[0m \u001b[0misinstance\u001b[0m\u001b[0;34m(\u001b[0m\u001b[0mp\u001b[0m\u001b[0;34m,\u001b[0m \u001b[0mbytes\u001b[0m\u001b[0;34m)\u001b[0m\u001b[0;34m:\u001b[0m\u001b[0;34m\u001b[0m\u001b[0;34m\u001b[0m\u001b[0m\n\u001b[1;32m    124\u001b[0m         \u001b[0msep\u001b[0m \u001b[0;34m=\u001b[0m \u001b[0;34mb'/'\u001b[0m\u001b[0;34m\u001b[0m\u001b[0;34m\u001b[0m\u001b[0m\n",
      "\u001b[0;31mTypeError\u001b[0m: expected str, bytes or os.PathLike object, not NoneType"
     ]
    }
   ],
   "source": [
    "# Load example data \n",
    "#lps.examples.explain('us_income')\n",
    "csv_path = lps.examples.get_path('~/Downloads/max_nasic_diff.csv')\n",
    "\n",
    "# Note the difference here \n",
    "f = ps.lib.io.open(csv_path)"
   ]
  },
  {
   "cell_type": "code",
   "execution_count": 13,
   "metadata": {},
   "outputs": [
    {
     "ename": "AttributeError",
     "evalue": "module 'pysal' has no attribute 'open'",
     "output_type": "error",
     "traceback": [
      "\u001b[0;31m---------------------------------------------------------------------------\u001b[0m",
      "\u001b[0;31mAttributeError\u001b[0m                            Traceback (most recent call last)",
      "\u001b[0;32m<ipython-input-13-52f791816621>\u001b[0m in \u001b[0;36m<module>\u001b[0;34m\u001b[0m\n\u001b[0;32m----> 1\u001b[0;31m \u001b[0mdat11\u001b[0m \u001b[0;34m=\u001b[0m \u001b[0mps\u001b[0m\u001b[0;34m.\u001b[0m\u001b[0mopen\u001b[0m\u001b[0;34m(\u001b[0m\u001b[0mps\u001b[0m\u001b[0;34m.\u001b[0m\u001b[0mexamples\u001b[0m\u001b[0;34m.\u001b[0m\u001b[0mget_path\u001b[0m\u001b[0;34m(\u001b[0m\u001b[0;34m'~/Downloads/max_nasic_diff.csv'\u001b[0m\u001b[0;34m)\u001b[0m\u001b[0;34m,\u001b[0m \u001b[0;34m'r'\u001b[0m\u001b[0;34m)\u001b[0m\u001b[0;34m\u001b[0m\u001b[0;34m\u001b[0m\u001b[0m\n\u001b[0m",
      "\u001b[0;31mAttributeError\u001b[0m: module 'pysal' has no attribute 'open'"
     ]
    }
   ],
   "source": [
    "dat11 = ps.open(ps.examples.get_path('~/Downloads/max_nasic_diff.csv'), 'r')"
   ]
  },
  {
   "cell_type": "code",
   "execution_count": 14,
   "metadata": {},
   "outputs": [],
   "source": [
    "dat1=pd.read_csv(\"~/Downloads/max_nasic_diff.csv\")"
   ]
  },
  {
   "cell_type": "code",
   "execution_count": 15,
   "metadata": {},
   "outputs": [],
   "source": [
    "dat1.to_csv(\"max_nasic_diff.csv\")"
   ]
  },
  {
   "cell_type": "code",
   "execution_count": 16,
   "metadata": {},
   "outputs": [],
   "source": [
    "dat2=pd.read_csv(\"~/Downloads/max_nasic_diff_zip.csv\")"
   ]
  },
  {
   "cell_type": "code",
   "execution_count": 17,
   "metadata": {},
   "outputs": [
    {
     "data": {
      "text/html": [
       "<div>\n",
       "<style scoped>\n",
       "    .dataframe tbody tr th:only-of-type {\n",
       "        vertical-align: middle;\n",
       "    }\n",
       "\n",
       "    .dataframe tbody tr th {\n",
       "        vertical-align: top;\n",
       "    }\n",
       "\n",
       "    .dataframe thead th {\n",
       "        text-align: right;\n",
       "    }\n",
       "</style>\n",
       "<table border=\"1\" class=\"dataframe\">\n",
       "  <thead>\n",
       "    <tr style=\"text-align: right;\">\n",
       "      <th></th>\n",
       "      <th>Unnamed: 0</th>\n",
       "      <th>Unnamed: 0.1</th>\n",
       "      <th>zipcode</th>\n",
       "      <th>maxNaics_est</th>\n",
       "      <th>totalEstab</th>\n",
       "      <th>maxNaics_emp</th>\n",
       "      <th>totalEmp</th>\n",
       "      <th>year</th>\n",
       "      <th>total_tran</th>\n",
       "      <th>pop</th>\n",
       "      <th>...</th>\n",
       "      <th>bus_ratio_total</th>\n",
       "      <th>public_ratio</th>\n",
       "      <th>car_ratio</th>\n",
       "      <th>bicy_ratio</th>\n",
       "      <th>walked_ratio</th>\n",
       "      <th>total_college</th>\n",
       "      <th>college_ratio</th>\n",
       "      <th>college_ratio_pop</th>\n",
       "      <th>diff_MaxtotalEstab</th>\n",
       "      <th>diff_MaxtotalEmp</th>\n",
       "    </tr>\n",
       "  </thead>\n",
       "  <tbody>\n",
       "    <tr>\n",
       "      <th>0</th>\n",
       "      <td>0</td>\n",
       "      <td>0</td>\n",
       "      <td>91901</td>\n",
       "      <td>23</td>\n",
       "      <td>91</td>\n",
       "      <td>71</td>\n",
       "      <td>1770</td>\n",
       "      <td>2010</td>\n",
       "      <td>11346.0</td>\n",
       "      <td>25517.0</td>\n",
       "      <td>...</td>\n",
       "      <td>0.009519</td>\n",
       "      <td>0.009519</td>\n",
       "      <td>0.892385</td>\n",
       "      <td>0.000529</td>\n",
       "      <td>0.021153</td>\n",
       "      <td>2532.0</td>\n",
       "      <td>0.146156</td>\n",
       "      <td>0.099228</td>\n",
       "      <td>1.0</td>\n",
       "      <td>10.0</td>\n",
       "    </tr>\n",
       "    <tr>\n",
       "      <th>1</th>\n",
       "      <td>1</td>\n",
       "      <td>5308</td>\n",
       "      <td>91901</td>\n",
       "      <td>23</td>\n",
       "      <td>90</td>\n",
       "      <td>71</td>\n",
       "      <td>1760</td>\n",
       "      <td>2011</td>\n",
       "      <td>11114.0</td>\n",
       "      <td>26126.0</td>\n",
       "      <td>...</td>\n",
       "      <td>0.012957</td>\n",
       "      <td>0.012957</td>\n",
       "      <td>0.892388</td>\n",
       "      <td>0.000540</td>\n",
       "      <td>0.018175</td>\n",
       "      <td>2584.0</td>\n",
       "      <td>0.142181</td>\n",
       "      <td>0.098905</td>\n",
       "      <td>2.0</td>\n",
       "      <td>0.0</td>\n",
       "    </tr>\n",
       "    <tr>\n",
       "      <th>2</th>\n",
       "      <td>2</td>\n",
       "      <td>10616</td>\n",
       "      <td>91901</td>\n",
       "      <td>23</td>\n",
       "      <td>88</td>\n",
       "      <td>71</td>\n",
       "      <td>1760</td>\n",
       "      <td>2012</td>\n",
       "      <td>11018.0</td>\n",
       "      <td>26812.0</td>\n",
       "      <td>...</td>\n",
       "      <td>0.006807</td>\n",
       "      <td>0.006807</td>\n",
       "      <td>0.899347</td>\n",
       "      <td>0.002632</td>\n",
       "      <td>0.017608</td>\n",
       "      <td>2905.0</td>\n",
       "      <td>0.153728</td>\n",
       "      <td>0.108347</td>\n",
       "      <td>4.0</td>\n",
       "      <td>-180.0</td>\n",
       "    </tr>\n",
       "    <tr>\n",
       "      <th>3</th>\n",
       "      <td>3</td>\n",
       "      <td>15924</td>\n",
       "      <td>91901</td>\n",
       "      <td>23</td>\n",
       "      <td>84</td>\n",
       "      <td>23</td>\n",
       "      <td>1940</td>\n",
       "      <td>2013</td>\n",
       "      <td>11448.0</td>\n",
       "      <td>27840.0</td>\n",
       "      <td>...</td>\n",
       "      <td>0.005503</td>\n",
       "      <td>0.006988</td>\n",
       "      <td>0.904962</td>\n",
       "      <td>0.001310</td>\n",
       "      <td>0.021226</td>\n",
       "      <td>2827.0</td>\n",
       "      <td>0.147539</td>\n",
       "      <td>0.101545</td>\n",
       "      <td>-2.0</td>\n",
       "      <td>-240.0</td>\n",
       "    </tr>\n",
       "    <tr>\n",
       "      <th>4</th>\n",
       "      <td>4</td>\n",
       "      <td>21232</td>\n",
       "      <td>91901</td>\n",
       "      <td>23</td>\n",
       "      <td>86</td>\n",
       "      <td>72</td>\n",
       "      <td>2180</td>\n",
       "      <td>2014</td>\n",
       "      <td>11626.0</td>\n",
       "      <td>29260.0</td>\n",
       "      <td>...</td>\n",
       "      <td>0.003010</td>\n",
       "      <td>0.004215</td>\n",
       "      <td>0.910287</td>\n",
       "      <td>0.000344</td>\n",
       "      <td>0.021418</td>\n",
       "      <td>2967.0</td>\n",
       "      <td>0.148968</td>\n",
       "      <td>0.101401</td>\n",
       "      <td>-8.0</td>\n",
       "      <td>-40.0</td>\n",
       "    </tr>\n",
       "  </tbody>\n",
       "</table>\n",
       "<p>5 rows × 27 columns</p>\n",
       "</div>"
      ],
      "text/plain": [
       "   Unnamed: 0  Unnamed: 0.1  zipcode  maxNaics_est  totalEstab  maxNaics_emp  \\\n",
       "0           0             0    91901            23          91            71   \n",
       "1           1          5308    91901            23          90            71   \n",
       "2           2         10616    91901            23          88            71   \n",
       "3           3         15924    91901            23          84            23   \n",
       "4           4         21232    91901            23          86            72   \n",
       "\n",
       "   totalEmp  year  total_tran      pop  ...  bus_ratio_total  public_ratio  \\\n",
       "0      1770  2010     11346.0  25517.0  ...         0.009519      0.009519   \n",
       "1      1760  2011     11114.0  26126.0  ...         0.012957      0.012957   \n",
       "2      1760  2012     11018.0  26812.0  ...         0.006807      0.006807   \n",
       "3      1940  2013     11448.0  27840.0  ...         0.005503      0.006988   \n",
       "4      2180  2014     11626.0  29260.0  ...         0.003010      0.004215   \n",
       "\n",
       "   car_ratio  bicy_ratio  walked_ratio  total_college  college_ratio  \\\n",
       "0   0.892385    0.000529      0.021153         2532.0       0.146156   \n",
       "1   0.892388    0.000540      0.018175         2584.0       0.142181   \n",
       "2   0.899347    0.002632      0.017608         2905.0       0.153728   \n",
       "3   0.904962    0.001310      0.021226         2827.0       0.147539   \n",
       "4   0.910287    0.000344      0.021418         2967.0       0.148968   \n",
       "\n",
       "   college_ratio_pop  diff_MaxtotalEstab  diff_MaxtotalEmp  \n",
       "0           0.099228                 1.0              10.0  \n",
       "1           0.098905                 2.0               0.0  \n",
       "2           0.108347                 4.0            -180.0  \n",
       "3           0.101545                -2.0            -240.0  \n",
       "4           0.101401                -8.0             -40.0  \n",
       "\n",
       "[5 rows x 27 columns]"
      ]
     },
     "execution_count": 17,
     "metadata": {},
     "output_type": "execute_result"
    }
   ],
   "source": [
    "dat1.head()"
   ]
  },
  {
   "cell_type": "code",
   "execution_count": 18,
   "metadata": {},
   "outputs": [
    {
     "data": {
      "text/html": [
       "<div>\n",
       "<style scoped>\n",
       "    .dataframe tbody tr th:only-of-type {\n",
       "        vertical-align: middle;\n",
       "    }\n",
       "\n",
       "    .dataframe tbody tr th {\n",
       "        vertical-align: top;\n",
       "    }\n",
       "\n",
       "    .dataframe thead th {\n",
       "        text-align: right;\n",
       "    }\n",
       "</style>\n",
       "<table border=\"1\" class=\"dataframe\">\n",
       "  <thead>\n",
       "    <tr style=\"text-align: right;\">\n",
       "      <th></th>\n",
       "      <th>Unnamed: 0</th>\n",
       "      <th>zipcode</th>\n",
       "      <th>maxNaics_est</th>\n",
       "      <th>totalEstab</th>\n",
       "      <th>maxNaics_emp</th>\n",
       "      <th>totalEmp</th>\n",
       "      <th>year</th>\n",
       "      <th>total_tran</th>\n",
       "      <th>pop</th>\n",
       "      <th>edut</th>\n",
       "      <th>...</th>\n",
       "      <th>bus_ratio_total</th>\n",
       "      <th>public_ratio</th>\n",
       "      <th>car_ratio</th>\n",
       "      <th>bicy_ratio</th>\n",
       "      <th>walked_ratio</th>\n",
       "      <th>total_college</th>\n",
       "      <th>college_ratio</th>\n",
       "      <th>college_ratio_pop</th>\n",
       "      <th>diff_MaxtotalEstab_zip</th>\n",
       "      <th>diff_MaxtotalEmp_zip</th>\n",
       "    </tr>\n",
       "  </thead>\n",
       "  <tbody>\n",
       "    <tr>\n",
       "      <th>0</th>\n",
       "      <td>0</td>\n",
       "      <td>91901</td>\n",
       "      <td>23</td>\n",
       "      <td>91</td>\n",
       "      <td>71</td>\n",
       "      <td>1770</td>\n",
       "      <td>2010</td>\n",
       "      <td>11346.0</td>\n",
       "      <td>25517.0</td>\n",
       "      <td>17324.0</td>\n",
       "      <td>...</td>\n",
       "      <td>0.009519</td>\n",
       "      <td>0.009519</td>\n",
       "      <td>0.892385</td>\n",
       "      <td>0.000529</td>\n",
       "      <td>0.021153</td>\n",
       "      <td>2532.0</td>\n",
       "      <td>0.146156</td>\n",
       "      <td>0.099228</td>\n",
       "      <td>41.0</td>\n",
       "      <td>890.0</td>\n",
       "    </tr>\n",
       "    <tr>\n",
       "      <th>1</th>\n",
       "      <td>1</td>\n",
       "      <td>91902</td>\n",
       "      <td>54</td>\n",
       "      <td>50</td>\n",
       "      <td>62</td>\n",
       "      <td>880</td>\n",
       "      <td>2010</td>\n",
       "      <td>14936.0</td>\n",
       "      <td>33480.0</td>\n",
       "      <td>21847.0</td>\n",
       "      <td>...</td>\n",
       "      <td>0.015734</td>\n",
       "      <td>0.018546</td>\n",
       "      <td>0.928227</td>\n",
       "      <td>0.002076</td>\n",
       "      <td>0.007097</td>\n",
       "      <td>4917.0</td>\n",
       "      <td>0.225065</td>\n",
       "      <td>0.146864</td>\n",
       "      <td>44.0</td>\n",
       "      <td>670.0</td>\n",
       "    </tr>\n",
       "    <tr>\n",
       "      <th>2</th>\n",
       "      <td>2</td>\n",
       "      <td>91906</td>\n",
       "      <td>23</td>\n",
       "      <td>6</td>\n",
       "      <td>71</td>\n",
       "      <td>210</td>\n",
       "      <td>2010</td>\n",
       "      <td>2685.0</td>\n",
       "      <td>7405.0</td>\n",
       "      <td>4755.0</td>\n",
       "      <td>...</td>\n",
       "      <td>0.024953</td>\n",
       "      <td>0.024953</td>\n",
       "      <td>0.841341</td>\n",
       "      <td>0.000000</td>\n",
       "      <td>0.077095</td>\n",
       "      <td>360.0</td>\n",
       "      <td>0.075710</td>\n",
       "      <td>0.048616</td>\n",
       "      <td>-268.0</td>\n",
       "      <td>-5470.0</td>\n",
       "    </tr>\n",
       "    <tr>\n",
       "      <th>3</th>\n",
       "      <td>3</td>\n",
       "      <td>91910</td>\n",
       "      <td>62</td>\n",
       "      <td>274</td>\n",
       "      <td>44</td>\n",
       "      <td>5680</td>\n",
       "      <td>2010</td>\n",
       "      <td>39698.0</td>\n",
       "      <td>90020.0</td>\n",
       "      <td>57536.0</td>\n",
       "      <td>...</td>\n",
       "      <td>0.034888</td>\n",
       "      <td>0.041589</td>\n",
       "      <td>0.882765</td>\n",
       "      <td>0.004610</td>\n",
       "      <td>0.019900</td>\n",
       "      <td>9612.0</td>\n",
       "      <td>0.167061</td>\n",
       "      <td>0.106776</td>\n",
       "      <td>44.0</td>\n",
       "      <td>430.0</td>\n",
       "    </tr>\n",
       "    <tr>\n",
       "      <th>4</th>\n",
       "      <td>4</td>\n",
       "      <td>91911</td>\n",
       "      <td>44</td>\n",
       "      <td>230</td>\n",
       "      <td>44</td>\n",
       "      <td>5250</td>\n",
       "      <td>2010</td>\n",
       "      <td>61219.0</td>\n",
       "      <td>148517.0</td>\n",
       "      <td>91366.0</td>\n",
       "      <td>...</td>\n",
       "      <td>0.031542</td>\n",
       "      <td>0.038501</td>\n",
       "      <td>0.898953</td>\n",
       "      <td>0.002761</td>\n",
       "      <td>0.018638</td>\n",
       "      <td>13068.0</td>\n",
       "      <td>0.143029</td>\n",
       "      <td>0.087990</td>\n",
       "      <td>197.0</td>\n",
       "      <td>4600.0</td>\n",
       "    </tr>\n",
       "  </tbody>\n",
       "</table>\n",
       "<p>5 rows × 26 columns</p>\n",
       "</div>"
      ],
      "text/plain": [
       "   Unnamed: 0  zipcode  maxNaics_est  totalEstab  maxNaics_emp  totalEmp  \\\n",
       "0           0    91901            23          91            71      1770   \n",
       "1           1    91902            54          50            62       880   \n",
       "2           2    91906            23           6            71       210   \n",
       "3           3    91910            62         274            44      5680   \n",
       "4           4    91911            44         230            44      5250   \n",
       "\n",
       "   year  total_tran       pop     edut  ...  bus_ratio_total  public_ratio  \\\n",
       "0  2010     11346.0   25517.0  17324.0  ...         0.009519      0.009519   \n",
       "1  2010     14936.0   33480.0  21847.0  ...         0.015734      0.018546   \n",
       "2  2010      2685.0    7405.0   4755.0  ...         0.024953      0.024953   \n",
       "3  2010     39698.0   90020.0  57536.0  ...         0.034888      0.041589   \n",
       "4  2010     61219.0  148517.0  91366.0  ...         0.031542      0.038501   \n",
       "\n",
       "   car_ratio  bicy_ratio  walked_ratio  total_college  college_ratio  \\\n",
       "0   0.892385    0.000529      0.021153         2532.0       0.146156   \n",
       "1   0.928227    0.002076      0.007097         4917.0       0.225065   \n",
       "2   0.841341    0.000000      0.077095          360.0       0.075710   \n",
       "3   0.882765    0.004610      0.019900         9612.0       0.167061   \n",
       "4   0.898953    0.002761      0.018638        13068.0       0.143029   \n",
       "\n",
       "   college_ratio_pop  diff_MaxtotalEstab_zip  diff_MaxtotalEmp_zip  \n",
       "0           0.099228                    41.0                 890.0  \n",
       "1           0.146864                    44.0                 670.0  \n",
       "2           0.048616                  -268.0               -5470.0  \n",
       "3           0.106776                    44.0                 430.0  \n",
       "4           0.087990                   197.0                4600.0  \n",
       "\n",
       "[5 rows x 26 columns]"
      ]
     },
     "execution_count": 18,
     "metadata": {},
     "output_type": "execute_result"
    }
   ],
   "source": [
    "dat2.head()"
   ]
  },
  {
   "cell_type": "code",
   "execution_count": 19,
   "metadata": {},
   "outputs": [],
   "source": [
    "##time series \n",
    "##classfication+spatial temporal pattern\n"
   ]
  },
  {
   "cell_type": "code",
   "execution_count": 20,
   "metadata": {},
   "outputs": [
    {
     "ename": "AttributeError",
     "evalue": "module 'pysal' has no attribute 'open'",
     "output_type": "error",
     "traceback": [
      "\u001b[0;31m---------------------------------------------------------------------------\u001b[0m",
      "\u001b[0;31mAttributeError\u001b[0m                            Traceback (most recent call last)",
      "\u001b[0;32m<ipython-input-20-52f791816621>\u001b[0m in \u001b[0;36m<module>\u001b[0;34m\u001b[0m\n\u001b[0;32m----> 1\u001b[0;31m \u001b[0mdat11\u001b[0m \u001b[0;34m=\u001b[0m \u001b[0mps\u001b[0m\u001b[0;34m.\u001b[0m\u001b[0mopen\u001b[0m\u001b[0;34m(\u001b[0m\u001b[0mps\u001b[0m\u001b[0;34m.\u001b[0m\u001b[0mexamples\u001b[0m\u001b[0;34m.\u001b[0m\u001b[0mget_path\u001b[0m\u001b[0;34m(\u001b[0m\u001b[0;34m'~/Downloads/max_nasic_diff.csv'\u001b[0m\u001b[0;34m)\u001b[0m\u001b[0;34m,\u001b[0m \u001b[0;34m'r'\u001b[0m\u001b[0;34m)\u001b[0m\u001b[0;34m\u001b[0m\u001b[0;34m\u001b[0m\u001b[0m\n\u001b[0m",
      "\u001b[0;31mAttributeError\u001b[0m: module 'pysal' has no attribute 'open'"
     ]
    }
   ],
   "source": [
    "dat11 = ps.open(ps.examples.get_path('~/Downloads/max_nasic_diff.csv'), 'r')"
   ]
  },
  {
   "cell_type": "code",
   "execution_count": 21,
   "metadata": {},
   "outputs": [],
   "source": [
    "##modeling\n",
    "##base value\n",
    "##difference dependent variable "
   ]
  },
  {
   "cell_type": "code",
   "execution_count": null,
   "metadata": {},
   "outputs": [],
   "source": []
  }
 ],
 "metadata": {
  "kernelspec": {
   "display_name": "Python 3",
   "language": "python",
   "name": "python3"
  },
  "language_info": {
   "codemirror_mode": {
    "name": "ipython",
    "version": 3
   },
   "file_extension": ".py",
   "mimetype": "text/x-python",
   "name": "python",
   "nbconvert_exporter": "python",
   "pygments_lexer": "ipython3",
   "version": "3.7.1"
  }
 },
 "nbformat": 4,
 "nbformat_minor": 2
}
