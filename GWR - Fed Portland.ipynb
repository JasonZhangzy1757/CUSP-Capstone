{
 "cells": [
  {
   "cell_type": "code",
   "execution_count": 1,
   "metadata": {},
   "outputs": [],
   "source": [
    "import libpysal as ps\n",
    "from mgwr.gwr import GWR, MGWR\n",
    "from mgwr.sel_bw import Sel_BW\n",
    "from mgwr.utils import compare_surfaces, truncate_colormap\n",
    "import geopandas as gp\n",
    "import matplotlib.pyplot as plt\n",
    "import matplotlib as mpl"
   ]
  },
  {
   "cell_type": "code",
   "execution_count": 3,
   "metadata": {},
   "outputs": [],
   "source": [
    "import pandas as pd"
   ]
  },
  {
   "cell_type": "code",
   "execution_count": 4,
   "metadata": {},
   "outputs": [],
   "source": [
    "# Import data portland_final.csv\n",
    "df = pd.read_csv(\"Final_merged_city_portland.csv\")"
   ]
  },
  {
   "cell_type": "code",
   "execution_count": 5,
   "metadata": {},
   "outputs": [
    {
     "data": {
      "text/html": [
       "<div>\n",
       "<style scoped>\n",
       "    .dataframe tbody tr th:only-of-type {\n",
       "        vertical-align: middle;\n",
       "    }\n",
       "\n",
       "    .dataframe tbody tr th {\n",
       "        vertical-align: top;\n",
       "    }\n",
       "\n",
       "    .dataframe thead th {\n",
       "        text-align: right;\n",
       "    }\n",
       "</style>\n",
       "<table border=\"1\" class=\"dataframe\">\n",
       "  <thead>\n",
       "    <tr style=\"text-align: right;\">\n",
       "      <th></th>\n",
       "      <th>Unnamed: 0</th>\n",
       "      <th>geo_id</th>\n",
       "      <th>centroid</th>\n",
       "      <th>year</th>\n",
       "      <th>geometry</th>\n",
       "      <th>total_tran</th>\n",
       "      <th>pop</th>\n",
       "      <th>edut</th>\n",
       "      <th>collegemale</th>\n",
       "      <th>collegefemale</th>\n",
       "      <th>...</th>\n",
       "      <th>Empratio</th>\n",
       "      <th>estabratio</th>\n",
       "      <th>ratio_65</th>\n",
       "      <th>ratio_22_50</th>\n",
       "      <th>bus_ratio</th>\n",
       "      <th>bus_ratio_total</th>\n",
       "      <th>public_ratio</th>\n",
       "      <th>car_ratio</th>\n",
       "      <th>bicy_ratio</th>\n",
       "      <th>walked_ratio</th>\n",
       "    </tr>\n",
       "  </thead>\n",
       "  <tbody>\n",
       "    <tr>\n",
       "      <th>0</th>\n",
       "      <td>2432</td>\n",
       "      <td>41051010402</td>\n",
       "      <td>POINT (-122.3356996936241 45.48566422279789)</td>\n",
       "      <td>2010</td>\n",
       "      <td>MULTIPOLYGON (((-122.3868792758254 45.51902980...</td>\n",
       "      <td>2601.0</td>\n",
       "      <td>5717.0</td>\n",
       "      <td>3699.0</td>\n",
       "      <td>294.0</td>\n",
       "      <td>356.0</td>\n",
       "      <td>...</td>\n",
       "      <td>0.0</td>\n",
       "      <td>0.0</td>\n",
       "      <td>0.391464</td>\n",
       "      <td>0.091307</td>\n",
       "      <td>0.490196</td>\n",
       "      <td>0.009612</td>\n",
       "      <td>0.019608</td>\n",
       "      <td>0.891580</td>\n",
       "      <td>0.005767</td>\n",
       "      <td>0.014994</td>\n",
       "    </tr>\n",
       "    <tr>\n",
       "      <th>1</th>\n",
       "      <td>2435</td>\n",
       "      <td>41051010402</td>\n",
       "      <td>POINT (-122.3356996936241 45.48566422279789)</td>\n",
       "      <td>2011</td>\n",
       "      <td>MULTIPOLYGON (((-122.3868792758254 45.51902980...</td>\n",
       "      <td>2826.0</td>\n",
       "      <td>6037.0</td>\n",
       "      <td>4024.0</td>\n",
       "      <td>368.0</td>\n",
       "      <td>476.0</td>\n",
       "      <td>...</td>\n",
       "      <td>0.0</td>\n",
       "      <td>0.0</td>\n",
       "      <td>0.405831</td>\n",
       "      <td>0.108001</td>\n",
       "      <td>0.305970</td>\n",
       "      <td>0.014508</td>\n",
       "      <td>0.047417</td>\n",
       "      <td>0.866596</td>\n",
       "      <td>0.030432</td>\n",
       "      <td>0.009908</td>\n",
       "    </tr>\n",
       "    <tr>\n",
       "      <th>2</th>\n",
       "      <td>2438</td>\n",
       "      <td>41051010402</td>\n",
       "      <td>POINT (-122.3356996936241 45.48566422279789)</td>\n",
       "      <td>2012</td>\n",
       "      <td>MULTIPOLYGON (((-122.3868792758254 45.51902980...</td>\n",
       "      <td>2868.0</td>\n",
       "      <td>6153.0</td>\n",
       "      <td>4090.0</td>\n",
       "      <td>369.0</td>\n",
       "      <td>507.0</td>\n",
       "      <td>...</td>\n",
       "      <td>0.0</td>\n",
       "      <td>0.0</td>\n",
       "      <td>0.393954</td>\n",
       "      <td>0.109052</td>\n",
       "      <td>0.266667</td>\n",
       "      <td>0.011158</td>\n",
       "      <td>0.041841</td>\n",
       "      <td>0.857043</td>\n",
       "      <td>0.033473</td>\n",
       "      <td>0.004533</td>\n",
       "    </tr>\n",
       "    <tr>\n",
       "      <th>3</th>\n",
       "      <td>2441</td>\n",
       "      <td>41051010402</td>\n",
       "      <td>POINT (-122.3356996936241 45.48566422279789)</td>\n",
       "      <td>2013</td>\n",
       "      <td>MULTIPOLYGON (((-122.3868792758254 45.51902980...</td>\n",
       "      <td>2876.0</td>\n",
       "      <td>6022.0</td>\n",
       "      <td>3931.0</td>\n",
       "      <td>296.0</td>\n",
       "      <td>404.0</td>\n",
       "      <td>...</td>\n",
       "      <td>0.0</td>\n",
       "      <td>0.0</td>\n",
       "      <td>0.366490</td>\n",
       "      <td>0.108602</td>\n",
       "      <td>0.321739</td>\n",
       "      <td>0.012865</td>\n",
       "      <td>0.039986</td>\n",
       "      <td>0.858832</td>\n",
       "      <td>0.025730</td>\n",
       "      <td>0.012517</td>\n",
       "    </tr>\n",
       "    <tr>\n",
       "      <th>4</th>\n",
       "      <td>2444</td>\n",
       "      <td>41051010402</td>\n",
       "      <td>POINT (-122.335683996136 45.48565935229686)</td>\n",
       "      <td>2014</td>\n",
       "      <td>MULTIPOLYGON (((-122.3868792758254 45.51902980...</td>\n",
       "      <td>3078.0</td>\n",
       "      <td>6181.0</td>\n",
       "      <td>4094.0</td>\n",
       "      <td>316.0</td>\n",
       "      <td>457.0</td>\n",
       "      <td>...</td>\n",
       "      <td>0.0</td>\n",
       "      <td>0.0</td>\n",
       "      <td>0.387316</td>\n",
       "      <td>0.108720</td>\n",
       "      <td>0.264368</td>\n",
       "      <td>0.007472</td>\n",
       "      <td>0.028265</td>\n",
       "      <td>0.875569</td>\n",
       "      <td>0.016244</td>\n",
       "      <td>0.023392</td>\n",
       "    </tr>\n",
       "  </tbody>\n",
       "</table>\n",
       "<p>5 rows × 23 columns</p>\n",
       "</div>"
      ],
      "text/plain": [
       "   Unnamed: 0       geo_id                                      centroid  \\\n",
       "0        2432  41051010402  POINT (-122.3356996936241 45.48566422279789)   \n",
       "1        2435  41051010402  POINT (-122.3356996936241 45.48566422279789)   \n",
       "2        2438  41051010402  POINT (-122.3356996936241 45.48566422279789)   \n",
       "3        2441  41051010402  POINT (-122.3356996936241 45.48566422279789)   \n",
       "4        2444  41051010402   POINT (-122.335683996136 45.48565935229686)   \n",
       "\n",
       "   year                                           geometry  total_tran  \\\n",
       "0  2010  MULTIPOLYGON (((-122.3868792758254 45.51902980...      2601.0   \n",
       "1  2011  MULTIPOLYGON (((-122.3868792758254 45.51902980...      2826.0   \n",
       "2  2012  MULTIPOLYGON (((-122.3868792758254 45.51902980...      2868.0   \n",
       "3  2013  MULTIPOLYGON (((-122.3868792758254 45.51902980...      2876.0   \n",
       "4  2014  MULTIPOLYGON (((-122.3868792758254 45.51902980...      3078.0   \n",
       "\n",
       "      pop    edut  collegemale  collegefemale  ...  Empratio  estabratio  \\\n",
       "0  5717.0  3699.0        294.0          356.0  ...       0.0         0.0   \n",
       "1  6037.0  4024.0        368.0          476.0  ...       0.0         0.0   \n",
       "2  6153.0  4090.0        369.0          507.0  ...       0.0         0.0   \n",
       "3  6022.0  3931.0        296.0          404.0  ...       0.0         0.0   \n",
       "4  6181.0  4094.0        316.0          457.0  ...       0.0         0.0   \n",
       "\n",
       "   ratio_65  ratio_22_50  bus_ratio  bus_ratio_total  public_ratio  car_ratio  \\\n",
       "0  0.391464     0.091307   0.490196         0.009612      0.019608   0.891580   \n",
       "1  0.405831     0.108001   0.305970         0.014508      0.047417   0.866596   \n",
       "2  0.393954     0.109052   0.266667         0.011158      0.041841   0.857043   \n",
       "3  0.366490     0.108602   0.321739         0.012865      0.039986   0.858832   \n",
       "4  0.387316     0.108720   0.264368         0.007472      0.028265   0.875569   \n",
       "\n",
       "   bicy_ratio  walked_ratio  \n",
       "0    0.005767      0.014994  \n",
       "1    0.030432      0.009908  \n",
       "2    0.033473      0.004533  \n",
       "3    0.025730      0.012517  \n",
       "4    0.016244      0.023392  \n",
       "\n",
       "[5 rows x 23 columns]"
      ]
     },
     "execution_count": 5,
     "metadata": {},
     "output_type": "execute_result"
    }
   ],
   "source": [
    "df.head()"
   ]
  },
  {
   "cell_type": "code",
   "execution_count": 34,
   "metadata": {},
   "outputs": [
    {
     "data": {
      "text/plain": [
       "(2608, 24)"
      ]
     },
     "execution_count": 34,
     "metadata": {},
     "output_type": "execute_result"
    }
   ],
   "source": [
    "df.shape"
   ]
  },
  {
   "cell_type": "code",
   "execution_count": 6,
   "metadata": {},
   "outputs": [],
   "source": [
    "from shapely import wkt\n",
    "df[\"geometry\"] = df[\"geometry\"].apply(wkt.loads)\n",
    "df[\"centroid\"] = df[\"centroid\"].apply(wkt.loads)"
   ]
  },
  {
   "cell_type": "code",
   "execution_count": 7,
   "metadata": {},
   "outputs": [],
   "source": [
    "dfshp = gp.GeoDataFrame(df, geometry = \"geometry\")"
   ]
  },
  {
   "cell_type": "code",
   "execution_count": 8,
   "metadata": {},
   "outputs": [
    {
     "data": {
      "image/png": "[encoded data removed]",
      "text/plain": [
       "<Figure size 720x720 with 1 Axes>"
      ]
     },
     "metadata": {
      "needs_background": "light"
     },
     "output_type": "display_data"
    }
   ],
   "source": [
    "fig, ax = plt.subplots(figsize = (10, 10))\n",
    "dfshp.plot(ax=ax, **{\"edgecolor\": \"black\", \"facecolor\": \"white\"})\n",
    "dfshp.centroid.plot(ax = ax, c = \"black\")\n",
    "plt.savefig(\"sd_shp\")\n",
    "plt.show()"
   ]
  },
  {
   "cell_type": "markdown",
   "metadata": {},
   "source": [
    "## Establishment size"
   ]
  },
  {
   "cell_type": "code",
   "execution_count": 44,
   "metadata": {},
   "outputs": [],
   "source": [
    "g_y = dfshp[\"estabratio\"].values.reshape((-1, 1))"
   ]
  },
  {
   "cell_type": "code",
   "execution_count": 45,
   "metadata": {},
   "outputs": [],
   "source": [
    "g_X =dfshp[[\"pop\", \"income\", \"edut\", \"ratio_65\", \"bus_ratio\", \"public_ratio\", \"walked_ratio\"]].values"
   ]
  },
  {
   "cell_type": "code",
   "execution_count": 46,
   "metadata": {},
   "outputs": [],
   "source": [
    "def getXY(pt):\n",
    "    return (pt.x, pt.y)\n",
    "x,y = [list(t) for t in zip(*map(getXY, dfshp[\"centroid\"]))]"
   ]
  },
  {
   "cell_type": "code",
   "execution_count": 47,
   "metadata": {},
   "outputs": [],
   "source": [
    "g_coords = g_coords = list(zip(x, y))"
   ]
  },
  {
   "cell_type": "code",
   "execution_count": 48,
   "metadata": {},
   "outputs": [],
   "source": [
    "gwr_selector = Sel_BW(g_coords, g_y, g_X)"
   ]
  },
  {
   "cell_type": "code",
   "execution_count": 49,
   "metadata": {},
   "outputs": [],
   "source": [
    "import warnings\n",
    "warnings.filterwarnings(\"ignore\")"
   ]
  },
  {
   "cell_type": "code",
   "execution_count": 50,
   "metadata": {},
   "outputs": [],
   "source": [
    "gwr_bw = gwr_selector.search()"
   ]
  },
  {
   "cell_type": "code",
   "execution_count": 51,
   "metadata": {},
   "outputs": [],
   "source": [
    "gwr_model = GWR(g_coords, g_y, g_X, gwr_bw)"
   ]
  },
  {
   "cell_type": "code",
   "execution_count": 52,
   "metadata": {},
   "outputs": [],
   "source": [
    "gwr_results = gwr_model.fit()"
   ]
  },
  {
   "cell_type": "code",
   "execution_count": 53,
   "metadata": {},
   "outputs": [
    {
     "name": "stdout",
     "output_type": "stream",
     "text": [
      "20676313.862497076\n"
     ]
    }
   ],
   "source": [
    "print(gwr_results.resid_ss)"
   ]
  },
  {
   "cell_type": "code",
   "execution_count": 54,
   "metadata": {},
   "outputs": [],
   "source": [
    "dfshp[\"R2\"] = gwr_results.localR2"
   ]
  },
  {
   "cell_type": "code",
   "execution_count": 55,
   "metadata": {},
   "outputs": [],
   "source": [
    "dfshp[\"R2\"] = abs(dfshp[\"R2\"])\n",
    "dfshp2 = dfshp[dfshp[\"R2\"] <= 1]"
   ]
  },
  {
   "cell_type": "code",
   "execution_count": 56,
   "metadata": {},
   "outputs": [
    {
     "data": {
      "image/png": "[encoded data removed]",
      "text/plain": [
       "<Figure size 1080x720 with 2 Axes>"
      ]
     },
     "metadata": {
      "needs_background": "light"
     },
     "output_type": "display_data"
    },
    {
     "data": {
      "text/plain": [
       "<Figure size 1440x720 with 0 Axes>"
      ]
     },
     "metadata": {},
     "output_type": "display_data"
    }
   ],
   "source": [
    "#Local model fit\n",
    "dfshp2.plot(\"R2\", figsize = (15,10), legend = True)\n",
    "ax = plt.gca()\n",
    "plt.figure(figsize=(20,10))\n",
    "ax.get_xaxis().set_visible(False)\n",
    "ax.get_yaxis().set_visible(False)\n",
    "plt.savefig(\"local_R2_est\")\n",
    "plt.show()"
   ]
  },
  {
   "cell_type": "code",
   "execution_count": 57,
   "metadata": {},
   "outputs": [
    {
     "name": "stdout",
     "output_type": "stream",
     "text": [
      "0.47452991458330573\n"
     ]
    }
   ],
   "source": [
    "print(gwr_results.R2)"
   ]
  },
  {
   "cell_type": "markdown",
   "metadata": {},
   "source": [
    "## Employment size"
   ]
  },
  {
   "cell_type": "code",
   "execution_count": 24,
   "metadata": {},
   "outputs": [],
   "source": [
    "g_y = dfshp[\"Empratio\"].values.reshape((-1, 1))"
   ]
  },
  {
   "cell_type": "code",
   "execution_count": 25,
   "metadata": {},
   "outputs": [],
   "source": [
    "g_X =dfshp[[\"pop\", \"income\", \"edut\", \"ratio_65\", \"bus_ratio\", \"public_ratio\", \"walked_ratio\"]].values"
   ]
  },
  {
   "cell_type": "code",
   "execution_count": 26,
   "metadata": {},
   "outputs": [],
   "source": [
    "def getXY(pt):\n",
    "    return (pt.x, pt.y)\n",
    "x,y = [list(t) for t in zip(*map(getXY, dfshp[\"centroid\"]))]"
   ]
  },
  {
   "cell_type": "code",
   "execution_count": 27,
   "metadata": {},
   "outputs": [],
   "source": [
    "g_coords = g_coords = list(zip(x, y))"
   ]
  },
  {
   "cell_type": "code",
   "execution_count": 28,
   "metadata": {},
   "outputs": [],
   "source": [
    "gwr_selector = Sel_BW(g_coords, g_y, g_X)"
   ]
  },
  {
   "cell_type": "code",
   "execution_count": 29,
   "metadata": {},
   "outputs": [],
   "source": [
    "gwr_bw = gwr_selector.search()"
   ]
  },
  {
   "cell_type": "code",
   "execution_count": 30,
   "metadata": {},
   "outputs": [
    {
     "name": "stdout",
     "output_type": "stream",
     "text": [
      "11346442077.328056\n"
     ]
    }
   ],
   "source": [
    "gwr_model = GWR(g_coords, g_y, g_X, gwr_bw)\n",
    "gwr_results = gwr_model.fit()\n",
    "print(gwr_results.resid_ss)"
   ]
  },
  {
   "cell_type": "code",
   "execution_count": 31,
   "metadata": {},
   "outputs": [],
   "source": [
    "dfshp[\"R2\"] = gwr_results.localR2\n",
    "dfshp[\"R2\"] = abs(dfshp[\"R2\"])\n",
    "dfshp2 = dfshp[dfshp[\"R2\"] <= 1]"
   ]
  },
  {
   "cell_type": "code",
   "execution_count": 43,
   "metadata": {},
   "outputs": [
    {
     "data": {
      "image/png": "[encoded data removed]",
      "text/plain": [
       "<Figure size 1080x720 with 2 Axes>"
      ]
     },
     "metadata": {
      "needs_background": "light"
     },
     "output_type": "display_data"
    },
    {
     "data": {
      "text/plain": [
       "<Figure size 1440x720 with 0 Axes>"
      ]
     },
     "metadata": {},
     "output_type": "display_data"
    }
   ],
   "source": [
    "#Local model fit\n",
    "dfshp2.plot(\"R2\", figsize = (15,10), legend = True)\n",
    "ax = plt.gca()\n",
    "plt.figure(figsize=(20,10))\n",
    "ax.get_xaxis().set_visible(False)\n",
    "ax.get_yaxis().set_visible(False)\n",
    "plt.savefig(\"local_R2_emp\")\n",
    "plt.show()"
   ]
  },
  {
   "cell_type": "code",
   "execution_count": 33,
   "metadata": {},
   "outputs": [
    {
     "name": "stdout",
     "output_type": "stream",
     "text": [
      "0.45747209217396634\n"
     ]
    }
   ],
   "source": [
    "print(gwr_results.R2)"
   ]
  },
  {
   "cell_type": "code",
   "execution_count": null,
   "metadata": {},
   "outputs": [],
   "source": []
  }
 ],
 "metadata": {
  "kernelspec": {
   "display_name": "Python 3",
   "language": "python",
   "name": "python3"
  },
  "language_info": {
   "codemirror_mode": {
    "name": "ipython",
    "version": 3
   },
   "file_extension": ".py",
   "mimetype": "text/x-python",
   "name": "python",
   "nbconvert_exporter": "python",
   "pygments_lexer": "ipython3",
   "version": "3.7.4"
  }
 },
 "nbformat": 4,
 "nbformat_minor": 2
}
